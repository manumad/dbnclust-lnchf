{
 "cells": [
  {
   "cell_type": "code",
   "execution_count": 1,
   "metadata": {},
   "outputs": [],
   "source": [
    "import pandas as pd\n",
    "import numpy as np"
   ]
  },
  {
   "cell_type": "markdown",
   "metadata": {},
   "source": [
    "# Screening of DELs, DEMis and DEMs in patients with HF\n",
    "We take 3 gene expression profiles ((GSE77399, GSE104150 and GSE84796)) from GEO and uploaded to GEO2R to screen for the DELs, DEMis and DEMs between HF patients and healthy controls.\n",
    "\n",
    "The screening threshold for DE genes is as follow\n",
    "$P-value < 0.05$ and $|log2FC|>=1$. \n",
    "\n",
    "Then upregulated means $log2FC>=1$ and $log2FC<=-1$. "
   ]
  },
  {
   "cell_type": "markdown",
   "metadata": {},
   "source": [
    "# DE LncRNAs"
   ]
  },
  {
   "cell_type": "code",
   "execution_count": null,
   "metadata": {},
   "outputs": [],
   "source": [
    "#DEL =['EGOT','GAS5','HOTAIR','LINKROR','PCAT1','VLDLR‐AS1','H19','HOXA11‐AS','SOX2‐OT','BACE1‐AS','TUG1','BCYRN1']"
   ]
  },
  {
   "cell_type": "markdown",
   "metadata": {},
   "source": [
    "# DE miRNAs"
   ]
  },
  {
   "cell_type": "code",
   "execution_count": null,
   "metadata": {},
   "outputs": [],
   "source": [
    "#All miRNAs\n"
   ]
  },
  {
   "cell_type": "markdown",
   "metadata": {},
   "source": [
    "# DE mRNAs"
   ]
  },
  {
   "cell_type": "code",
   "execution_count": 2,
   "metadata": {},
   "outputs": [
    {
     "data": {
      "text/plain": [
       "(42543, 9)"
      ]
     },
     "execution_count": 2,
     "metadata": {},
     "output_type": "execute_result"
    }
   ],
   "source": [
    "#All mRNAs\n",
    "geo_mrna_df = pd.read_csv('mRNA.cgi',sep=\"\\t\")\n",
    "geo_mrna_df.shape"
   ]
  },
  {
   "cell_type": "code",
   "execution_count": 3,
   "metadata": {},
   "outputs": [],
   "source": [
    "#Extracting DEMs\n",
    "de_mrna_df= geo_mrna_df[(geo_mrna_df['P.Value']<=0.05) & (abs(geo_mrna_df['logFC'])>=1)]"
   ]
  },
  {
   "cell_type": "code",
   "execution_count": 4,
   "metadata": {},
   "outputs": [
    {
     "data": {
      "text/plain": [
       "(2911, 9)"
      ]
     },
     "execution_count": 4,
     "metadata": {},
     "output_type": "execute_result"
    }
   ],
   "source": [
    "#Remove entries with NaN values\n",
    "de_mrna_df=de_mrna_df.dropna()\n",
    "de_mrna_df.shape"
   ]
  },
  {
   "cell_type": "code",
   "execution_count": 5,
   "metadata": {},
   "outputs": [
    {
     "data": {
      "text/plain": [
       "27522"
      ]
     },
     "execution_count": 5,
     "metadata": {},
     "output_type": "execute_result"
    }
   ],
   "source": [
    "#Create a list GB Accession number of DEMs and write to a file for next step\n",
    "dems_gb_acc = list(set(de_mrna_df['GB_ACC']))\n",
    "open('GB_acc_list.txt','w').write('\\n'.join(dems_gb_acc))"
   ]
  },
  {
   "cell_type": "markdown",
   "metadata": {},
   "source": [
    "To convert GB accession numbers to gene symbol, we use the online ID conversion tool of (DAVID)[https://david.ncifcrf.gov/list.jsp] and result downloaded as *mrna_names.txt* . Following code will extract GENE SYMBOLS from this file"
   ]
  },
  {
   "cell_type": "code",
   "execution_count": 6,
   "metadata": {},
   "outputs": [],
   "source": [
    "mrna_names =open('mrna_names.txt').read().split('\\n')\n",
    "mrna_names=mrna_names[:-1]\n",
    "import re\n",
    "i =0\n",
    "de_mrnas_symbols =[]\n",
    "for entries in mrna_names[1:]:\n",
    "    name=entries.split('\\t')[1]\n",
    "    name=re.findall(r'\\([A-Z0-9]*\\)',name)\n",
    "    if len(name)>0:\n",
    "        name=name[0].replace('(','')\n",
    "        name=name.replace(')','')\n",
    "        de_mrnas_symbols.append(name)"
   ]
  },
  {
   "cell_type": "code",
   "execution_count": 7,
   "metadata": {},
   "outputs": [
    {
     "name": "stdout",
     "output_type": "stream",
     "text": [
      "Number of DE mRNAs:2318\n"
     ]
    }
   ],
   "source": [
    "dems = de_mrnas_symbols[:]\n",
    "print(\"Number of DE mRNAs:%d\" %len(dems))"
   ]
  },
  {
   "cell_type": "markdown",
   "metadata": {},
   "source": [
    "# DELs and DEMi interactions\n",
    "Next step is to prepare the lncRNA - miRNA interaction pairs from list of DE (lnc/mi)RNAs. lncRNA-miRNA interactions are downloaded from (miRNET)[https://www.mirnet.ca/miRNet/home.xhtml]"
   ]
  },
  {
   "cell_type": "code",
   "execution_count": 8,
   "metadata": {},
   "outputs": [
    {
     "name": "stdout",
     "output_type": "stream",
     "text": [
      "12 43 61\n"
     ]
    }
   ],
   "source": [
    "coexp_del =['EGOT','GAS5','HOTAIR','LINKROR','PCAT1','VLDLR‐AS1','H19','HOXA11‐AS','SOX2‐OT','BACE1‐AS','TUG1','BCYRN1']\n",
    "temp =[['hsa-miR-183-5p', 'hsa-miR-491-3p', 'hsa-miR-586'],['hsa-let-7a-5p', 'hsa-let-7g-5p', 'hsa-let-7i-5p', 'hsa-miR-101-3p', 'hsa-miR-15a-3p', 'hsa-miR-23a-3p','hsa-miR-26b-5p', 'hsa-miR-382-3p', 'hsa-miR-382-3p', 'hsa-miR-542-3p', 'hsa-miR-576-5p','hsa-miR-590-3p', 'hsa-miR-7f-5p', 'hsa-miR-876-3p'],['hsa-miR-491-3p', 'hsa-miR-548ap-3p', 'hsa-miR-548c-3p', 'hsa-miR-548f-3p', 'hsa-miR-548f-3p','hsa-miR-586', 'hsa-miR-597-5p', 'hsa-miR-8485'],['hsa-miR-1238-3p', 'hsa-miR-26b-5p', 'hsa-miR-302d-5p', 'hsa-miR-580-3p', 'hsa-miR-616-3p', 'hsa-miR-6883-3p', 'hsa-miR-8485'],['hsa-miR-548c-3p'],['hsa-miR-542-3p', 'hsa-miR-548f-3p'],['hsa-miR-483-3p', 'hsa-miR-423-5p', 'hsa-miR-30d-5p', 'hsa-miR-940', 'hsa-miR-324-3p', 'hsa-miR-1825','hsa-miR-486-5p'],['hsa-miR-940'],['hsa-miR-574-5p', 'hsa-miR-320a', 'hsa-miR-22-3p'],['hsa-miR-181a-5p'],['hsa-miR-320c', 'hsa-miR-320a', 'hsa-miR-486-5p', 'hsa-miR-181a-5p', 'hsa-miR-320b', 'hsa-miR-1825','hsa-miR-1202', 'hsa-miR-30d-5p', 'hsa-miR-197-3p', 'hsa-miR-483-3p', 'hsa-miR-320d', 'hsa-miR-574-5p'],['hsa-miR-22-3p', 'hsa-miR-320e']]\n",
    "temp2 = []\n",
    "for i in range(len(temp)):\n",
    "    temp2 = temp2 + temp[i]\n",
    "coexp_demi = set(temp2)\n",
    "\n",
    "del_dem_pairs =[]\n",
    "for i in range(len(coexp_del)):\n",
    "    for mir in temp[i]:\n",
    "        del_dem_pairs.append((coexp_del[i],mir))\n",
    "        \n",
    "print (len(coexp_del),len(coexp_demi),len(del_dem_pairs))\n",
    "    "
   ]
  },
  {
   "cell_type": "markdown",
   "metadata": {},
   "source": [
    "# DEMi and DEM interactions\n",
    "The mRNA-miRNA interactions are selected by searching all human gene-miRNA interactions from mirTarBase database."
   ]
  },
  {
   "cell_type": "code",
   "execution_count": 9,
   "metadata": {},
   "outputs": [],
   "source": [
    "mir_mr_df = pd.read_excel('hsa_MTI.xlsx')"
   ]
  },
  {
   "cell_type": "code",
   "execution_count": 10,
   "metadata": {},
   "outputs": [
    {
     "data": {
      "text/plain": [
       "(502652, 9)"
      ]
     },
     "execution_count": 10,
     "metadata": {},
     "output_type": "execute_result"
    }
   ],
   "source": [
    "mir_mr_df.shape"
   ]
  },
  {
   "cell_type": "code",
   "execution_count": 11,
   "metadata": {},
   "outputs": [
    {
     "data": {
      "text/plain": [
       "(380639, 9)"
      ]
     },
     "execution_count": 11,
     "metadata": {},
     "output_type": "execute_result"
    }
   ],
   "source": [
    "#Drop duplicate interactions\n",
    "mir_mr_df.drop_duplicates(inplace=True,subset=['miRNA','Target Gene'])\n",
    "mir_mr_df.shape"
   ]
  },
  {
   "cell_type": "code",
   "execution_count": null,
   "metadata": {},
   "outputs": [],
   "source": [
    "#mir_mr_df['miRNA'] = mir_mr_df['miRNA'].str.lower()"
   ]
  },
  {
   "cell_type": "code",
   "execution_count": null,
   "metadata": {},
   "outputs": [],
   "source": [
    "#len(demis_int)"
   ]
  },
  {
   "cell_type": "code",
   "execution_count": 12,
   "metadata": {},
   "outputs": [
    {
     "data": {
      "text/plain": [
       "(12196, 9)"
      ]
     },
     "execution_count": 12,
     "metadata": {},
     "output_type": "execute_result"
    }
   ],
   "source": [
    "#Interactions of DEMis having interaction with DEL\n",
    "mir_mr_df=mir_mr_df[mir_mr_df['miRNA'].isin(coexp_demi)]\n",
    "mir_mr_df.shape"
   ]
  },
  {
   "cell_type": "code",
   "execution_count": 13,
   "metadata": {},
   "outputs": [
    {
     "data": {
      "text/plain": [
       "(1044, 9)"
      ]
     },
     "execution_count": 13,
     "metadata": {},
     "output_type": "execute_result"
    }
   ],
   "source": [
    "#Interactions havig DEMs\n",
    "mir_mr_df=mir_mr_df[mir_mr_df['Target Gene'].isin(dems)]\n",
    "mir_mr_df.shape"
   ]
  },
  {
   "cell_type": "code",
   "execution_count": 14,
   "metadata": {},
   "outputs": [
    {
     "data": {
      "text/plain": [
       "637"
      ]
     },
     "execution_count": 14,
     "metadata": {},
     "output_type": "execute_result"
    }
   ],
   "source": [
    "coexp_dem = list(set(mir_mr_df['Target Gene']))\n",
    "len(coexp_dem)"
   ]
  },
  {
   "cell_type": "code",
   "execution_count": 15,
   "metadata": {},
   "outputs": [
    {
     "data": {
      "text/plain": [
       "1044"
      ]
     },
     "execution_count": 15,
     "metadata": {},
     "output_type": "execute_result"
    }
   ],
   "source": [
    "demi_dem_pairs=[]\n",
    "for mir,mrn in zip(list(mir_mr_df['miRNA']),list(mir_mr_df['Target Gene'])):\n",
    "    demi_dem_pairs.append((mir,mrn))\n",
    "len(demi_dem_pairs)"
   ]
  },
  {
   "cell_type": "code",
   "execution_count": 16,
   "metadata": {},
   "outputs": [
    {
     "name": "stdout",
     "output_type": "stream",
     "text": [
      "Between 42 DE miRNAs and 637 mRNAs, total 1044 interactions\n"
     ]
    }
   ],
   "source": [
    "print (\"Between %d DE miRNAs and %d mRNAs, total %d interactions\"%(len(set(mir_mr_df['miRNA'])), len(set(mir_mr_df['Target Gene'])), mir_mr_df.shape[0]))"
   ]
  },
  {
   "cell_type": "markdown",
   "metadata": {},
   "source": [
    "## Pathways"
   ]
  },
  {
   "cell_type": "code",
   "execution_count": 17,
   "metadata": {},
   "outputs": [
    {
     "data": {
      "text/plain": [
       "187"
      ]
     },
     "execution_count": 17,
     "metadata": {},
     "output_type": "execute_result"
    }
   ],
   "source": [
    "pathways = open('c2.cp.kegg.v7.1.symbols.gmt').read().split('\\n')\n",
    "len(pathways)"
   ]
  },
  {
   "cell_type": "code",
   "execution_count": 19,
   "metadata": {},
   "outputs": [],
   "source": [
    "pathway_genes_dict = {pathway.split('\\t')[0]: pathway.split('\\t')[2:] for pathway in pathways}\n",
    "#pathway_genes_dict"
   ]
  },
  {
   "cell_type": "code",
   "execution_count": 20,
   "metadata": {},
   "outputs": [
    {
     "data": {
      "text/plain": [
       "(186, 1)"
      ]
     },
     "execution_count": 20,
     "metadata": {},
     "output_type": "execute_result"
    }
   ],
   "source": [
    "#Remove pathways with length <10\n",
    "count=0\n",
    "keys= list(pathway_genes_dict.keys())\n",
    "for key in keys:\n",
    "    if len(pathway_genes_dict[key])<10:\n",
    "        count+=1\n",
    "        pathway_genes_dict.pop(key,None)\n",
    "\n",
    "len(pathway_genes_dict),count\n"
   ]
  },
  {
   "cell_type": "code",
   "execution_count": 21,
   "metadata": {},
   "outputs": [
    {
     "name": "stdout",
     "output_type": "stream",
     "text": [
      "649 132\n"
     ]
    }
   ],
   "source": [
    "k=1\n",
    "rel_pathways =[]\n",
    "for key in pathway_genes_dict:\n",
    "    genes = pathway_genes_dict[key]\n",
    "    include = False\n",
    "    for gene in genes:\n",
    "        if gene in coexp_dem:\n",
    "            #print(k,key,gene)\n",
    "            k+=1\n",
    "            include=True\n",
    "    if include:\n",
    "        rel_pathways.append(key)\n",
    "            \n",
    "print (k,len(rel_pathways))"
   ]
  },
  {
   "cell_type": "code",
   "execution_count": 22,
   "metadata": {},
   "outputs": [
    {
     "name": "stdout",
     "output_type": "stream",
     "text": [
      "648\n"
     ]
    }
   ],
   "source": [
    "#mRNA-pathway edges\n",
    "dem_path_pairs=[]\n",
    "for key in rel_pathways:\n",
    "    for gene in coexp_dem:\n",
    "        if gene in pathway_genes_dict[key]:\n",
    "            dem_path_pairs.append((gene,key))\n",
    "print(len(dem_path_pairs))"
   ]
  },
  {
   "cell_type": "code",
   "execution_count": null,
   "metadata": {},
   "outputs": [],
   "source": []
  },
  {
   "cell_type": "code",
   "execution_count": null,
   "metadata": {},
   "outputs": [],
   "source": []
  },
  {
   "cell_type": "code",
   "execution_count": null,
   "metadata": {},
   "outputs": [],
   "source": []
  },
  {
   "cell_type": "markdown",
   "metadata": {},
   "source": [
    "# Create ceRNA network based on co-expression"
   ]
  },
  {
   "cell_type": "code",
   "execution_count": 23,
   "metadata": {},
   "outputs": [
    {
     "data": {
      "text/plain": [
       "1753"
      ]
     },
     "execution_count": 23,
     "metadata": {},
     "output_type": "execute_result"
    }
   ],
   "source": [
    "edges = del_dem_pairs[:]\n",
    "edges +=demi_dem_pairs\n",
    "edges += dem_path_pairs\n",
    "len(edges)"
   ]
  },
  {
   "cell_type": "code",
   "execution_count": 24,
   "metadata": {},
   "outputs": [],
   "source": [
    "fp=open('ceRNA_edges.edgelist','w')\n",
    "for edge in edges:\n",
    "    fp.write(edge[0]+'\\t'+edge[1]+'\\n')\n",
    "fp.close()"
   ]
  },
  {
   "cell_type": "markdown",
   "metadata": {},
   "source": [
    "## Use networkx to create graph"
   ]
  },
  {
   "cell_type": "code",
   "execution_count": 25,
   "metadata": {},
   "outputs": [],
   "source": [
    "import networkx as nx"
   ]
  },
  {
   "cell_type": "code",
   "execution_count": 26,
   "metadata": {},
   "outputs": [],
   "source": [
    "graph = nx.read_edgelist('ceRNA_edges.edgelist')"
   ]
  },
  {
   "cell_type": "code",
   "execution_count": 27,
   "metadata": {},
   "outputs": [
    {
     "name": "stdout",
     "output_type": "stream",
     "text": [
      "ceRNA network with 824 nodes and 1751 edges created\n"
     ]
    }
   ],
   "source": [
    "print(\"ceRNA network with %d nodes and %d edges created\" %(graph.number_of_nodes(),graph.number_of_edges()))"
   ]
  },
  {
   "cell_type": "code",
   "execution_count": 28,
   "metadata": {},
   "outputs": [],
   "source": [
    "from matplotlib import pyplot as plt\n",
    "%matplotlib inline\n",
    "\n",
    "#nx.draw(lda_graph,node_color=colors, cmap = plt.get_cmap('rainbow'), with_labels=True,pos=nx.spring_layout (lda_graph))"
   ]
  },
  {
   "cell_type": "code",
   "execution_count": 72,
   "metadata": {},
   "outputs": [
    {
     "data": {
      "text/plain": [
       "<bound method Graph.subgraph of <networkx.classes.graph.Graph object at 0x7f9922dbc780>>"
      ]
     },
     "execution_count": 72,
     "metadata": {},
     "output_type": "execute_result"
    }
   ],
   "source": []
  },
  {
   "cell_type": "code",
   "execution_count": null,
   "metadata": {},
   "outputs": [],
   "source": [
    "node_type ={'d':[],'o':[],'s':[]}\n",
    "for node in graph.nodes:\n",
    "    if node in demis:\n",
    "        node_type['d'].append(node)\n",
    "    elif node in dels:\n",
    "        node_type['o'].append(node)\n",
    "    else:\n",
    "        node_type['s'].append(node)\n",
    "\n",
    "node_type['d'] =list(set(node_type['d']))\n",
    "node_type['o'] =list(set(node_type['o']))\n",
    "node_type['s'] =list(set(node_type['s']))\n"
   ]
  },
  {
   "cell_type": "code",
   "execution_count": null,
   "metadata": {},
   "outputs": [],
   "source": [
    "for aShape in node_type:\n",
    "    nx.draw_networkx_nodes(graph,nodePos,node_shape = aShape, nodelist = node_type[aShape])\n",
    "nx.draw_networkx_edges(graph,nodePos)"
   ]
  },
  {
   "cell_type": "markdown",
   "metadata": {},
   "source": [
    "# Graph embedding using node2Vec"
   ]
  },
  {
   "cell_type": "code",
   "execution_count": 29,
   "metadata": {},
   "outputs": [
    {
     "name": "stderr",
     "output_type": "stream",
     "text": [
      "unable to import 'smart_open.gcs', disabling that module\n"
     ]
    }
   ],
   "source": [
    "from node2vec import Node2Vec"
   ]
  },
  {
   "cell_type": "code",
   "execution_count": 30,
   "metadata": {},
   "outputs": [
    {
     "name": "stderr",
     "output_type": "stream",
     "text": [
      "Computing transition probabilities: 100%|██████████| 824/824 [00:00<00:00, 1183.18it/s]\n"
     ]
    }
   ],
   "source": [
    "node2vec = Node2Vec(graph, dimensions=64, walk_length=30, num_walks=100, workers=4)\n",
    "model = node2vec.fit(window=10, min_count=1, batch_words=4)"
   ]
  },
  {
   "cell_type": "code",
   "execution_count": 31,
   "metadata": {},
   "outputs": [
    {
     "data": {
      "text/plain": [
       "824"
      ]
     },
     "execution_count": 31,
     "metadata": {},
     "output_type": "execute_result"
    }
   ],
   "source": [
    "node_vec ={}\n",
    "for mir in coexp_demi:\n",
    "    node_vec[mir] = model.wv.get_vector(mir)\n",
    "    \n",
    "for lnc in coexp_del:\n",
    "    node_vec[lnc] = model.wv.get_vector(lnc)\n",
    "    \n",
    "for mr in coexp_dem:\n",
    "    node_vec[mr] = model.wv.get_vector(mr)\n",
    "    \n",
    "for pw in rel_pathways:\n",
    "    node_vec[pw]=model.wv.get_vector(pw)\n",
    "\n",
    "len(node_vec)"
   ]
  },
  {
   "cell_type": "code",
   "execution_count": 32,
   "metadata": {},
   "outputs": [
    {
     "data": {
      "text/plain": [
       "(824, 64)"
      ]
     },
     "execution_count": 32,
     "metadata": {},
     "output_type": "execute_result"
    }
   ],
   "source": [
    "import random\n",
    "keys = list(node_vec.keys())\n",
    "random.shuffle(keys)\n",
    "vector =[]\n",
    "for key in keys:\n",
    "    vector.append(node_vec[key])\n",
    "vector =np.array(vector)\n",
    "vector.shape"
   ]
  },
  {
   "cell_type": "markdown",
   "metadata": {},
   "source": [
    "# Generate deep representation using DBN"
   ]
  },
  {
   "cell_type": "code",
   "execution_count": 33,
   "metadata": {},
   "outputs": [],
   "source": [
    "import warnings  \n",
    "with warnings.catch_warnings():\n",
    "    warnings.filterwarnings(\"ignore\",category=FutureWarning)\n",
    "    import numpy as np\n",
    "    import random\n",
    "    from dbn_tf import DBN\n",
    "    from rbm_tf import BBRBM, GBRBM\n",
    "    from util import normalization\n",
    "    import time"
   ]
  },
  {
   "cell_type": "code",
   "execution_count": 34,
   "metadata": {},
   "outputs": [
    {
     "name": "stderr",
     "output_type": "stream",
     "text": [
      "/home/manu/anaconda3/lib/python3.6/site-packages/sklearn/preprocessing/_data.py:173: UserWarning: Numerical issues were encountered when centering the data and might not be solved. Dataset may contain too large values. You may need to prescale your features.\n",
      "  warnings.warn(\"Numerical issues were encountered \"\n",
      "/home/manu/anaconda3/lib/python3.6/site-packages/sklearn/preprocessing/_data.py:190: UserWarning: Numerical issues were encountered when scaling the data and might not be solved. The standard deviation of the data is probably very close to 0. \n",
      "  warnings.warn(\"Numerical issues were encountered \"\n"
     ]
    }
   ],
   "source": [
    "dataset = normalization(vector)"
   ]
  },
  {
   "cell_type": "code",
   "execution_count": 55,
   "metadata": {},
   "outputs": [],
   "source": [
    "hidden =128\n",
    "dbn = DBN(hidden_layers_structure=[hidden,hidden,hidden],weight_cost=0.001,batch_size=4,n_epoches=30, learning_rate_rbm=[0.0005,1e-2,1e-2],rbm_gauss_visible=True)\n"
   ]
  },
  {
   "cell_type": "code",
   "execution_count": 56,
   "metadata": {},
   "outputs": [
    {
     "data": {
      "text/plain": [
       "<dbn_tf.DBN at 0x7f9920372e48>"
      ]
     },
     "execution_count": 56,
     "metadata": {},
     "output_type": "execute_result"
    }
   ],
   "source": [
    "dbn.fit(dataset)"
   ]
  },
  {
   "cell_type": "code",
   "execution_count": 57,
   "metadata": {},
   "outputs": [],
   "source": [
    "dataset = dbn.transform(dataset)"
   ]
  },
  {
   "cell_type": "code",
   "execution_count": 58,
   "metadata": {},
   "outputs": [
    {
     "data": {
      "text/plain": [
       "(824, 64)"
      ]
     },
     "execution_count": 58,
     "metadata": {},
     "output_type": "execute_result"
    }
   ],
   "source": [
    "dataset.shape"
   ]
  },
  {
   "cell_type": "markdown",
   "metadata": {},
   "source": [
    "# Cluster Analysis\n",
    "\n"
   ]
  },
  {
   "cell_type": "markdown",
   "metadata": {},
   "source": [
    "## Hierarchical clustering"
   ]
  },
  {
   "cell_type": "code",
   "execution_count": 68,
   "metadata": {},
   "outputs": [],
   "source": [
    "from scipy.cluster.hierarchy import dendrogram\n",
    "from sklearn.cluster import AgglomerativeClustering\n",
    "import scipy.cluster.hierarchy as shc\n",
    "from scipy.cluster.hierarchy import fcluster\n",
    "#np.random.seed(4711)"
   ]
  },
  {
   "cell_type": "code",
   "execution_count": null,
   "metadata": {},
   "outputs": [],
   "source": [
    "# def plot_dendrogram(model, **kwargs):\n",
    "#     # Create linkage matrix and then plot the dendrogram\n",
    "\n",
    "#     # create the counts of samples under each node\n",
    "#     counts = np.zeros(model.children_.shape[0])\n",
    "#     n_samples = len(model.labels_)\n",
    "#     for i, merge in enumerate(model.children_):\n",
    "#         current_count = 0\n",
    "#         for child_idx in merge:\n",
    "#             if child_idx < n_samples:\n",
    "#                 current_count += 1  # leaf node\n",
    "#             else:\n",
    "#                 current_count += counts[child_idx - n_samples]\n",
    "#         counts[i] = current_count\n",
    "\n",
    "#     linkage_matrix = np.column_stack([model.children_, model.distances_,\n",
    "#                                       counts]).astype(float)\n",
    "\n",
    "#     # Plot the corresponding dendrogram\n",
    "#     dendrogram(linkage_matrix, **kwargs)\n"
   ]
  },
  {
   "cell_type": "code",
   "execution_count": null,
   "metadata": {},
   "outputs": [],
   "source": [
    "# #model = AgglomerativeClustering(distance_threshold=0, n_clusters=None)\n",
    "# #model = model.fit(dataset)\n",
    "# #nc=5\n",
    "\n",
    "# model = AgglomerativeClustering(n_clusters=None,compute_full_tree=True,distance_threshold=0)\n",
    "# model.fit(dataset)\n",
    "# model.n_clusters_\n",
    "\n",
    "# #kmeans = KMeans(n_clusters=nc, random_state=0).fit(dataset)\n",
    "\n"
   ]
  },
  {
   "cell_type": "code",
   "execution_count": 40,
   "metadata": {},
   "outputs": [],
   "source": [
    "def fancy_dendrogram(*args, **kwargs):\n",
    "    max_d = kwargs.pop('max_d', None)\n",
    "    if max_d and 'color_threshold' not in kwargs:\n",
    "        kwargs['color_threshold'] = max_d\n",
    "    annotate_above = kwargs.pop('annotate_above', 0)\n",
    "\n",
    "    ddata = dendrogram(*args, **kwargs)\n",
    "\n",
    "    if not kwargs.get('no_plot', False):\n",
    "        plt.title('Hierarchical Clustering Dendrogram (truncated)')\n",
    "        plt.xlabel('sample index or (cluster size)')\n",
    "        plt.ylabel('distance')\n",
    "        for i, d, c in zip(ddata['icoord'], ddata['dcoord'], ddata['color_list']):\n",
    "            x = 0.5 * sum(i[1:3])\n",
    "            y = d[1]\n",
    "            if y > annotate_above:\n",
    "                plt.plot(x, y, 'o', c=c)\n",
    "                plt.annotate(\"%.3g\" % y, (x, y), xytext=(0, -5),\n",
    "                             textcoords='offset points',\n",
    "                             va='top', ha='center')\n",
    "        if max_d:\n",
    "            plt.axhline(y=max_d, c='k')\n",
    "    return ddata"
   ]
  },
  {
   "cell_type": "code",
   "execution_count": 60,
   "metadata": {},
   "outputs": [
    {
     "data": {
      "image/png": "[encoded data removed]",
      "text/plain": [
       "<Figure size 720x504 with 1 Axes>"
      ]
     },
     "metadata": {},
     "output_type": "display_data"
    }
   ],
   "source": [
    "\n",
    "plt.figure(figsize=(10, 7))\n",
    "plt.title(\"Genes Dendograms\")\n",
    "dend = shc.dendrogram(shc.linkage(dataset, method='ward'))"
   ]
  },
  {
   "cell_type": "code",
   "execution_count": 62,
   "metadata": {},
   "outputs": [
    {
     "data": {
      "image/png": "[encoded data removed]",
      "text/plain": [
       "<Figure size 432x288 with 1 Axes>"
      ]
     },
     "metadata": {},
     "output_type": "display_data"
    }
   ],
   "source": [
    "fancy_dendrogram(\n",
    "    shc.linkage(dataset, method='ward'),\n",
    "    truncate_mode='lastp',\n",
    "    p=12,\n",
    "    leaf_rotation=90.,\n",
    "    leaf_font_size=12.,\n",
    "    show_contracted=True,\n",
    "    annotate_above=10,  # useful in small plots so annotations don't overlap\n",
    "    #max_d= 55\n",
    ")\n",
    "plt.show()"
   ]
  },
  {
   "cell_type": "code",
   "execution_count": 43,
   "metadata": {},
   "outputs": [],
   "source": [
    "#nc=5\n",
    "from scipy.cluster.hierarchy import fcluster\n",
    "#fcluster(Z,nc , criterion='maxclust')"
   ]
  },
  {
   "cell_type": "code",
   "execution_count": 63,
   "metadata": {},
   "outputs": [
    {
     "data": {
      "image/png": "[encoded data removed]",
      "text/plain": [
       "<Figure size 432x288 with 1 Axes>"
      ]
     },
     "metadata": {},
     "output_type": "display_data"
    },
    {
     "name": "stdout",
     "output_type": "stream",
     "text": [
      "clusters: 2\n"
     ]
    }
   ],
   "source": [
    "Z = shc.linkage(dataset, method='ward') \n",
    "last = Z[-10:, 2]\n",
    "last_rev = last[::-1]\n",
    "idxs = np.arange(1, len(last) + 1)\n",
    "plt.plot(idxs, last_rev)\n",
    "\n",
    "acceleration = np.diff(last, 2)  # 2nd derivative of the distances\n",
    "acceleration_rev = acceleration[::-1]\n",
    "plt.plot(idxs[:-2] + 1, acceleration_rev)\n",
    "plt.show()\n",
    "k = acceleration_rev.argmax() + 2  # if idx 0 is the max of this we want 2 clusters\n",
    "print (\"clusters:\", k)"
   ]
  },
  {
   "cell_type": "code",
   "execution_count": null,
   "metadata": {},
   "outputs": [],
   "source": [
    "# nc=k\n",
    "# clusters ={i:{'DEL':[],'DEM':[],'DEMi':[]} for i in range(1,nc+1)}\n",
    "# #labels = model.labels_.tolist()\n",
    "# labels = list(fcluster(Z, nc, criterion='maxclust'))\n",
    "# for i in range(len(labels)):\n",
    "#     if keys[i] in coexp_del:\n",
    "#         clusters[labels[i]]['DEL'].append(keys[i])\n",
    "#     elif keys[i] in coexp_demi:\n",
    "#         clusters[labels[i]]['DEMi'].append(keys[i])\n",
    "#     else:\n",
    "#         clusters[labels[i]]['DEM'].append(keys[i])\n",
    "    \n",
    "# for i in range(1,nc+1):\n",
    "#     print(clusters[i])\n",
    "#     print (len(clusters[i]['DEL'])+len(clusters[i]['DEM'])+len(clusters[i]['DEMi']))\n",
    "#     print('\\n')\n"
   ]
  },
  {
   "cell_type": "code",
   "execution_count": 47,
   "metadata": {},
   "outputs": [],
   "source": [
    "#from sklearn.cluster import AgglomerativeClustering"
   ]
  },
  {
   "cell_type": "code",
   "execution_count": 64,
   "metadata": {},
   "outputs": [
    {
     "name": "stdout",
     "output_type": "stream",
     "text": [
      "{'DEL': ['HOXA11‐AS', 'BACE1‐AS', 'VLDLR‐AS1', 'SOX2‐OT', 'BCYRN1', 'EGOT', 'PCAT1', 'H19', 'LINKROR', 'HOTAIR', 'GAS5', 'TUG1'], 'DEM': ['NIPAL1', 'KLRD1', 'THEMIS2', 'VCAM1', 'NFIL3', 'CD3D', 'PLXNC1', 'ERN1', 'INO80D', 'MFSD4A', 'CD244', 'CDH7', 'EVI2A', 'RNF122', 'FKBP4', 'CDKN2A', 'IL10RA', 'CHAC1', 'TRAF5', 'KLLN', 'ZNF780A', 'CORO7', 'BCL2L11', 'ZNF846', 'NBPF10', 'PYGO1', 'TUSC1', 'SERPINA3', 'MPP2', 'ZNF157', 'RANBP6', 'SMTNL2', 'C1RL', 'COL16A1', 'DYRK3', 'CYBA', 'P3H2', 'NUP210', 'JAML', 'FAM81B', 'SEMA4B', 'NOTCH2NL', 'SLFN12L', 'ADAMTS4', 'TLR7', 'FERMT2', 'TRAF1', 'B4GALT6', 'FAM83F', 'PSD4', 'RHOH', 'SLC24A2', 'CNOT6L', 'BCAS4', 'PLEKHO1', 'SSC5D', 'MYO5A', 'RAPGEFL1', 'CSRNP3', 'ZNF226', 'ANKRD36', 'SLITRK4', 'TMEM79', 'COL1A1', 'SLC25A25', 'VAV2', 'MDK', 'PLEKHH2', 'IGFBP2', 'PTK2B', 'HES6', 'TNFSF14', 'SMCR8', 'TRABD2A', 'DCAF12L2', 'ITGB3', 'MORN4', 'IRS1', 'BCAR1', 'RNF125', 'HDAC9', 'STK4', 'OTUD7A', 'HAVCR2', 'GCSAM', 'FRMPD4', 'GLIS2', 'SIGLEC14', 'KCNIP2', 'KCNB1', 'SVOP', 'THBS1', 'TUBA1C', 'TCOF1', 'GOLM1', 'CHDH', 'CCDC33', 'KYNU', 'PTGDR2', 'NFAM1', 'XRCC3', 'H2AFZ', 'SPTBN2', 'GLCCI1', 'CYCS', 'GFPT2', 'CCDC88C', 'OTUD6A', 'GOLGA7B', 'IGF1', 'NOD2', 'HDGF', 'CD19', 'CASP8', 'SGPP2', 'FAM43A', 'EPHA7', 'IL17RB', 'SH3TC2', 'BMP4', 'NR4A2', 'TMEM30B', 'NUDT4', 'CLIC6', 'LFNG', 'CCR7', 'TLR5', 'TIGIT', 'EIF4EBP2', 'SLC23A3', 'GLI2', 'APOL6', 'MARVELD2', 'INPP5D', 'TLR6', 'CXCR4', 'TXNDC5', 'MLXIPL', 'HAPLN1', 'TCF7', 'BGN', 'LRFN1', 'RASSF2', 'ZFP36L2', 'VAV1', 'COL4A3', 'TMEM108', 'GCK', 'ZMYND8', 'PBOV1', 'PROSER1', 'TRIM59', 'KLHDC8B', 'GRID1', 'HIST1H3B', 'FAM117B', 'WNT3A', 'SREBF1', 'KIAA0513', 'FUT4', 'MOSPD1', 'NCK2', 'INTU', 'ABCC3', 'FKBP5', 'SLC16A9', 'NID2', 'UCHL1', 'CLEC12A', 'SLC18B1', 'MMP9', 'ANKRD44', 'PRDM1', 'ANKRD33B', 'EBI3', 'LCP1', 'RAB11FIP4', 'CAMK4', 'PHF21B', 'VAC14', 'MET', 'SPN', 'UTP11', 'PTPN22', 'NLRC3', 'PLCB2', 'SIT1', 'PMAIP1', 'SPNS3', 'FAM105A', 'CCDC171', 'TRMT5', 'ZNF217', 'MYO1F', 'TGFBR2', 'SOGA3', 'CAPS', 'F2R', 'LPXN', 'FASN', 'KIAA1456', 'CEP85L', 'ATP5G1', 'IL18', 'CLNK', 'ITGB2', 'ZNF215', 'OCIAD2', 'METTL7A', 'SRGAP2', 'ISLR2', 'NPTX2', 'IL21R', 'CHST15', 'TUBB2A', 'HMGN2', 'ABCC5', 'LAIR1', 'FAM217B', 'ZNF546', 'LDLR', 'CD226', 'SLC2A13', 'ARRDC3', 'AIDA', 'TACC3', 'HSPA6', 'SPRY3', 'PRRG4', 'HSPA1B', 'FBXO41', 'TXNIP', 'SLC43A3', 'ASCL2', 'SHCBP1', 'DNALI1', 'LILRA2', 'TAS2R30', 'NPY4R', 'PRKCB', 'AMD1', 'FNBP1', 'PIK3CD', 'PIM1', 'VAV3', 'CD40LG', 'MT1E', 'VASN', 'PTPRC', 'RPAIN', 'AP1S3', 'SLCO4C1', 'PIM2', 'CCSAP', 'GPX6', 'PLA2G7', 'TFCP2L1', 'MSI2', 'SRCIN1', 'PIK3R1', 'CFTR', 'SEPT11', 'FAM46C', 'ZNF774', 'CD59', 'WWC1', 'TMEM130', 'ADAMTS9', 'IFNG', 'FGFBP3', 'NACC2', 'DDIT4', 'E2F8', 'SOCS1', 'BACH2', 'MYBL1', 'SYNRG', 'EDEM1', 'TP53INP1', 'AURKA', 'FAM84A', 'CEP128', 'PNMA2', 'DUSP18', 'OSBPL3', 'SEPT1', 'SNX22', 'HS6ST3', 'SLC2A5', 'DOK3', 'ZDHHC15', 'ALOX5AP', 'PTK6', 'PRDX6', 'KNTC1', 'BTLA', 'GPRC5A', 'AFF1', 'NFATC2', 'DLEU1', 'RIMS3', 'NECTIN1', 'CXCL11', 'HIST1H3H', 'RAB39B', 'IKZF3', 'LPAR3', 'COL4A4', 'FAM49A', 'NAV1', 'SEL1L3', 'NHLRC3', 'RUNX2', 'CFAP77', 'ESR1', 'ADAM28', 'HAUS5', 'CCL5', 'SYT17', 'PCP4L1', 'STYK1', 'SAMD9L', 'MAML3', 'NTN1', 'MB21D1', 'ARHGAP15', 'ZBTB37', 'P2RY1', 'CXCR2', 'ARHGAP21', 'PITX1', 'PPP1CC', 'KIAA1551', 'MID1IP1', 'ANGPTL7', 'PPIL1', 'HTR2A', 'PITPNM2', 'SCN9A', 'FAM167B', 'IER3', 'CASS4', 'CCDC80', 'SLCO5A1', 'LTBP2', 'KY', 'CENPM', 'ENTPD1', 'SPIC', 'CD44', 'PTPRU', 'CREM', 'CENPN', 'KCNJ2', 'FNDC9', 'ZFP14', 'CHRDL1', 'IRAK3', 'PARP15', 'RAB8B', 'KIAA1958', 'RAB44', 'THY1', 'MGAT4C', 'SLC39A14', 'RAB15', 'NAT8L', 'NLRC5', 'MEX3D', 'RGS9BP', 'CLEC4D', 'PPM1K', 'GRAMD1C', 'GRIK3', 'FASLG', 'GPR45', 'TM4SF1', 'ART4', 'IL18RAP', 'KCNN3', 'TACC1', 'ZFHX4', 'TNIP3', 'RAB3IP', 'FOXN2', 'GCNT1', 'DAAM2', 'FBXL2', 'SP140L', 'NOTCH2', 'FCRL2', 'CFHR3', 'LONRF3', 'IPCEF1', 'KLRC3', 'PIM3', 'STON2', 'SYT7', 'MDGA1', 'EDA2R', 'ARAP2', 'BANK1', 'COL22A1', 'SPOCK2', 'MAT2A', 'SFMBT2', 'MIDN', 'E2F2', 'RNFT2', 'TMSB4X', 'VDR', 'FOSL1', 'CGNL1', 'IP6K3', 'CACNA1I', 'CD28', 'RNF213', 'ATAD5', 'BMF', 'PLXDC2', 'SEMA6B', 'TRERF1', 'GRAP2', 'CCDC85C', 'CSF1R', 'KIF11', 'MPEG1', 'COL14A1', 'SLC4A1', 'PIK3CG', 'KIAA0408', 'CLSTN3', 'DNAJB5', 'ICMT', 'KRT80', 'LAX1', 'ZNF594', 'DLX5', 'TRIM10', 'CTGF', 'KCNA4', 'COTL1', 'FAM46B', 'EXPH5', 'LRRC38', 'HACD4', 'EML4', 'HOPX', 'VENTX', 'GINS2', 'LINC00632', 'RBM43', 'RTN4RL1', 'SEPT6', 'S100A16', 'UNKL', 'EREG', 'GABRB1', 'SLC25A45', 'ATP2A2', 'BEST3', 'KCNK1', 'AHSA2', 'BMP6', 'EPB41', 'HIST2H3A', 'ATXN7L1', 'TRAT1', 'RAB3C', 'CCDC65', 'TMED8', 'LILRB1', 'TFF1', 'MYPN', 'IL5RA', 'MEG3', 'ERP27', 'METTL21A', 'COL1A2', 'FAAH', 'TNFAIP8', 'BMP7', 'SLFN13', 'CTRC', 'TONSL', 'PAQR5', 'RPH3A', 'TRIM14', 'LAMP5', 'LILRB4', 'JAKMIP2', 'RUNX1', 'GAS1', 'GSTM5', 'LPAR2', 'PAX4', 'STK17B', 'DUSP2', 'RBM38', 'COL8A1', 'ENAM', 'RRAD', 'RBM47', 'MIS18BP1', 'LILRB2'], 'DEMi': ['hsa-let-7i-5p', 'hsa-miR-486-5p', 'hsa-miR-181a-5p', 'hsa-miR-15a-3p', 'hsa-miR-197-3p', 'hsa-miR-876-3p', 'hsa-miR-483-3p', 'hsa-let-7a-5p', 'hsa-miR-382-3p', 'hsa-miR-23a-3p', 'hsa-miR-320e', 'hsa-miR-30d-5p', 'hsa-miR-324-3p', 'hsa-miR-542-3p', 'hsa-miR-320b', 'hsa-miR-101-3p', 'hsa-miR-574-5p', 'hsa-miR-616-3p', 'hsa-miR-491-3p', 'hsa-miR-576-5p', 'hsa-miR-7f-5p', 'hsa-miR-597-5p', 'hsa-miR-1238-3p', 'hsa-miR-183-5p', 'hsa-miR-320c', 'hsa-miR-590-3p', 'hsa-miR-6883-3p', 'hsa-miR-22-3p', 'hsa-miR-302d-5p', 'hsa-miR-548ap-3p', 'hsa-miR-1202', 'hsa-miR-548f-3p', 'hsa-miR-548c-3p', 'hsa-let-7g-5p', 'hsa-miR-580-3p', 'hsa-miR-320d', 'hsa-miR-320a', 'hsa-miR-1825', 'hsa-miR-940', 'hsa-miR-586', 'hsa-miR-423-5p', 'hsa-miR-8485'], 'Pathways': ['KEGG_ADIPOCYTOKINE_SIGNALING_PATHWAY', 'KEGG_PHENYLALANINE_METABOLISM', 'KEGG_CITRATE_CYCLE_TCA_CYCLE', 'KEGG_SMALL_CELL_LUNG_CANCER', 'KEGG_WNT_SIGNALING_PATHWAY', 'KEGG_HUNTINGTONS_DISEASE', 'KEGG_MELANOGENESIS', 'KEGG_LONG_TERM_POTENTIATION', 'KEGG_DNA_REPLICATION', 'KEGG_TASTE_TRANSDUCTION', 'KEGG_MISMATCH_REPAIR', 'KEGG_AMYOTROPHIC_LATERAL_SCLEROSIS_ALS', 'KEGG_OOCYTE_MEIOSIS', 'KEGG_GRAFT_VERSUS_HOST_DISEASE', 'KEGG_FOCAL_ADHESION', 'KEGG_VIBRIO_CHOLERAE_INFECTION', 'KEGG_REGULATION_OF_AUTOPHAGY', 'KEGG_GLYCOSPHINGOLIPID_BIOSYNTHESIS_LACTO_AND_NEOLACTO_SERIES', 'KEGG_HOMOLOGOUS_RECOMBINATION', 'KEGG_VEGF_SIGNALING_PATHWAY', 'KEGG_NEUROTROPHIN_SIGNALING_PATHWAY', 'KEGG_GLYCOSAMINOGLYCAN_BIOSYNTHESIS_CHONDROITIN_SULFATE', 'KEGG_TIGHT_JUNCTION', 'KEGG_ANTIGEN_PROCESSING_AND_PRESENTATION', 'KEGG_LEISHMANIA_INFECTION', 'KEGG_INOSITOL_PHOSPHATE_METABOLISM', 'KEGG_NOD_LIKE_RECEPTOR_SIGNALING_PATHWAY', 'KEGG_BLADDER_CANCER', 'KEGG_ARGININE_AND_PROLINE_METABOLISM', 'KEGG_P53_SIGNALING_PATHWAY', 'KEGG_CHEMOKINE_SIGNALING_PATHWAY', 'KEGG_VIRAL_MYOCARDITIS', 'KEGG_CYTOSOLIC_DNA_SENSING_PATHWAY', 'KEGG_PANCREATIC_CANCER', 'KEGG_LEUKOCYTE_TRANSENDOTHELIAL_MIGRATION', 'KEGG_ABC_TRANSPORTERS', 'KEGG_LONG_TERM_DEPRESSION', 'KEGG_CELL_CYCLE', 'KEGG_PEROXISOME', 'KEGG_NOTCH_SIGNALING_PATHWAY', 'KEGG_GAP_JUNCTION', 'KEGG_AMINO_SUGAR_AND_NUCLEOTIDE_SUGAR_METABOLISM', 'KEGG_PATHWAYS_IN_CANCER', 'KEGG_REGULATION_OF_ACTIN_CYTOSKELETON', 'KEGG_DILATED_CARDIOMYOPATHY', 'KEGG_NATURAL_KILLER_CELL_MEDIATED_CYTOTOXICITY', 'KEGG_FC_GAMMA_R_MEDIATED_PHAGOCYTOSIS', 'KEGG_INTESTINAL_IMMUNE_NETWORK_FOR_IGA_PRODUCTION', 'KEGG_PATHOGENIC_ESCHERICHIA_COLI_INFECTION', 'KEGG_METABOLISM_OF_XENOBIOTICS_BY_CYTOCHROME_P450', 'KEGG_ARACHIDONIC_ACID_METABOLISM', 'KEGG_NON_SMALL_CELL_LUNG_CANCER', 'KEGG_ARRHYTHMOGENIC_RIGHT_VENTRICULAR_CARDIOMYOPATHY_ARVC', 'KEGG_COMPLEMENT_AND_COAGULATION_CASCADES', 'KEGG_RNA_DEGRADATION', 'KEGG_NEUROACTIVE_LIGAND_RECEPTOR_INTERACTION', 'KEGG_SPHINGOLIPID_METABOLISM', 'KEGG_NICOTINATE_AND_NICOTINAMIDE_METABOLISM', 'KEGG_MELANOMA', 'KEGG_DRUG_METABOLISM_CYTOCHROME_P450', 'KEGG_UBIQUITIN_MEDIATED_PROTEOLYSIS', 'KEGG_MAPK_SIGNALING_PATHWAY', 'KEGG_TOLL_LIKE_RECEPTOR_SIGNALING_PATHWAY', 'KEGG_ECM_RECEPTOR_INTERACTION', 'KEGG_FC_EPSILON_RI_SIGNALING_PATHWAY', 'KEGG_GNRH_SIGNALING_PATHWAY', 'KEGG_PARKINSONS_DISEASE', 'KEGG_APOPTOSIS', 'KEGG_ALDOSTERONE_REGULATED_SODIUM_REABSORPTION', 'KEGG_MTOR_SIGNALING_PATHWAY', 'KEGG_CHRONIC_MYELOID_LEUKEMIA', 'KEGG_DORSO_VENTRAL_AXIS_FORMATION', 'KEGG_CALCIUM_SIGNALING_PATHWAY', 'KEGG_ALLOGRAFT_REJECTION', 'KEGG_OXIDATIVE_PHOSPHORYLATION', 'KEGG_ASTHMA', 'KEGG_LYSOSOME', 'KEGG_ETHER_LIPID_METABOLISM', 'KEGG_SPLICEOSOME', 'KEGG_SELENOAMINO_ACID_METABOLISM', 'KEGG_ENDOCYTOSIS', 'KEGG_CARDIAC_MUSCLE_CONTRACTION', 'KEGG_ERBB_SIGNALING_PATHWAY', 'KEGG_CYSTEINE_AND_METHIONINE_METABOLISM', 'KEGG_AXON_GUIDANCE', 'KEGG_COLORECTAL_CANCER', 'KEGG_PRION_DISEASES', 'KEGG_PROSTATE_CANCER', 'KEGG_RENAL_CELL_CARCINOMA', 'KEGG_B_CELL_RECEPTOR_SIGNALING_PATHWAY', 'KEGG_HYPERTROPHIC_CARDIOMYOPATHY_HCM', 'KEGG_MATURITY_ONSET_DIABETES_OF_THE_YOUNG', 'KEGG_THYROID_CANCER', 'KEGG_SYSTEMIC_LUPUS_ERYTHEMATOSUS', 'KEGG_VASCULAR_SMOOTH_MUSCLE_CONTRACTION', 'KEGG_GLYCOLYSIS_GLUCONEOGENESIS', 'KEGG_ALZHEIMERS_DISEASE', 'KEGG_AUTOIMMUNE_THYROID_DISEASE', 'KEGG_EPITHELIAL_CELL_SIGNALING_IN_HELICOBACTER_PYLORI_INFECTION', 'KEGG_GLIOMA', 'KEGG_PYRIMIDINE_METABOLISM', 'KEGG_ADHERENS_JUNCTION', 'KEGG_GLYCINE_SERINE_AND_THREONINE_METABOLISM', 'KEGG_CYTOKINE_CYTOKINE_RECEPTOR_INTERACTION', 'KEGG_TYPE_I_DIABETES_MELLITUS', 'KEGG_BASAL_CELL_CARCINOMA', 'KEGG_ENDOMETRIAL_CANCER', 'KEGG_HEDGEHOG_SIGNALING_PATHWAY', 'KEGG_GLYCOSAMINOGLYCAN_BIOSYNTHESIS_HEPARAN_SULFATE', 'KEGG_T_CELL_RECEPTOR_SIGNALING_PATHWAY', 'KEGG_PROGESTERONE_MEDIATED_OOCYTE_MATURATION', 'KEGG_TYPE_II_DIABETES_MELLITUS', 'KEGG_INSULIN_SIGNALING_PATHWAY', 'KEGG_CELL_ADHESION_MOLECULES_CAMS', 'KEGG_PHOSPHATIDYLINOSITOL_SIGNALING_SYSTEM', 'KEGG_STARCH_AND_SUCROSE_METABOLISM', 'KEGG_TRYPTOPHAN_METABOLISM', 'KEGG_NUCLEOTIDE_EXCISION_REPAIR', 'KEGG_RIG_I_LIKE_RECEPTOR_SIGNALING_PATHWAY', 'KEGG_PRIMARY_IMMUNODEFICIENCY', 'KEGG_GLUTATHIONE_METABOLISM', 'KEGG_JAK_STAT_SIGNALING_PATHWAY', 'KEGG_HEMATOPOIETIC_CELL_LINEAGE', 'KEGG_TGF_BETA_SIGNALING_PATHWAY', 'KEGG_ALANINE_ASPARTATE_AND_GLUTAMATE_METABOLISM', 'KEGG_GALACTOSE_METABOLISM', 'KEGG_ACUTE_MYELOID_LEUKEMIA']}\n",
      "{'DEL': [], 'DEM': ['TMEM156', 'TRANK1', 'LILRA4', 'FOLR2', 'COX5A', 'ARL4A', 'RNASE6', 'RNASET2', 'CCL2', 'HOXC4', 'ZWINT', 'PLAC8', 'PARP4', 'PDE4A', 'PHLDA1', 'GPR183', 'KRT222', 'CXCL9', 'NT5DC2', 'CRTAM', 'GATA4', 'TNFAIP3', 'DOCK10', 'PSMB8', 'PDE4DIP', 'GRM8', 'TGM1', 'ERI2', 'RPGRIP1', 'RASGRP3', 'EIF1AY', 'CXCL13', 'ATXN2L', 'CCDC170', 'DMXL2', 'IRF4', 'FKTN', 'CISH', 'FMO3', 'RAB30', 'RIPK4', 'FOLH1', 'NR4A3', 'SFRP4', 'KLRC1', 'EDN2', 'S100A7A', 'CDH9', 'BATF', 'SOCS6', 'IGSF6', 'MARCH1', 'SMPD3', 'COL5A1', 'LAMP3', 'PCBP3', 'PHLDA2', 'TMEM154', 'BCL11B', 'ENDOG', 'UNC93B1', 'PNOC', 'CNTRL', 'IGFLR1', 'DDX60', 'DCHS2', 'CXCR6', 'ITGAX', 'NABP1', 'MYOG', 'BLNK', 'F3', 'GRIK2', 'CACNB4', 'NAMPT', 'IKZF1', 'SNRPC', 'REEP4', 'RNF6', 'KCNN2', 'ANKRD36B', 'TRIM22', 'VANGL2', 'MREG', 'IFIH1', 'MCTP2', 'LIG1', 'IDH2', 'ZFY', 'LSAMP', 'SLAMF1', 'ATF3', 'TMEM254', 'SLC6A9', 'TOX', 'RYR3', 'SIDT1', 'TRPC4', 'LIF', 'GDF10', 'PRSS16', 'MNDA', 'CYTIP', 'IFRD2', 'LRRC8E', 'KIF21B', 'KLRC4', 'GALNT3', 'EAF2', 'GBP2', 'INPP5J', 'ERAP2', 'STARD5', 'ADGRG6', 'VNN2', 'KDM5D', 'IAPP', 'FCGR1B', 'C1QTNF1', 'CHEK2', 'TXK', 'LRRC17', 'SUSD5', 'C1QB', 'ASPN', 'PSTPIP2', 'LMCD1', 'PTPRO', 'IL7R', 'PARP11', 'SCGB1D2', 'SCGB1D1'], 'DEMi': ['hsa-miR-26b-5p'], 'Pathways': ['KEGG_PANTOTHENATE_AND_COA_BIOSYNTHESIS', 'KEGG_O_GLYCAN_BIOSYNTHESIS', 'KEGG_PURINE_METABOLISM', 'KEGG_PROTEASOME', 'KEGG_BASE_EXCISION_REPAIR']}\n"
     ]
    }
   ],
   "source": [
    "nc = k\n",
    "clusters ={i:{'DEL':[],'DEM':[],'DEMi':[],'Pathways':[]} for i in range(nc)}\n",
    "clustering = AgglomerativeClustering(n_clusters=nc).fit(dataset)\n",
    "labels = clustering.labels_.tolist()\n",
    "\n",
    "for i in range(len(labels)):\n",
    "    if keys[i] in coexp_del:\n",
    "        clusters[labels[i]]['DEL'].append(keys[i])\n",
    "    elif keys[i] in coexp_demi:\n",
    "        clusters[labels[i]]['DEMi'].append(keys[i])\n",
    "    elif keys[i] in coexp_dem:\n",
    "        clusters[labels[i]]['DEM'].append(keys[i])\n",
    "    else:\n",
    "        clusters[labels[i]]['Pathways'].append(keys[i])\n",
    "        \n",
    "for i in range(nc):\n",
    "    print(clusters[i])\n"
   ]
  },
  {
   "cell_type": "markdown",
   "metadata": {},
   "source": [
    "## K-Means"
   ]
  },
  {
   "cell_type": "code",
   "execution_count": 65,
   "metadata": {},
   "outputs": [],
   "source": [
    "from sklearn.cluster import KMeans"
   ]
  },
  {
   "cell_type": "code",
   "execution_count": 66,
   "metadata": {},
   "outputs": [
    {
     "name": "stdout",
     "output_type": "stream",
     "text": [
      "{'DEL': ['HOXA11‐AS', 'BACE1‐AS', 'VLDLR‐AS1', 'SOX2‐OT', 'BCYRN1', 'EGOT', 'PCAT1', 'H19', 'LINKROR', 'HOTAIR', 'GAS5', 'TUG1'], 'DEM': ['NIPAL1', 'KEGG_ADIPOCYTOKINE_SIGNALING_PATHWAY', 'KLRD1', 'KEGG_PHENYLALANINE_METABOLISM', 'THEMIS2', 'VCAM1', 'NFIL3', 'KEGG_CITRATE_CYCLE_TCA_CYCLE', 'CD3D', 'PLXNC1', 'ERN1', 'KEGG_SMALL_CELL_LUNG_CANCER', 'KEGG_WNT_SIGNALING_PATHWAY', 'INO80D', 'MFSD4A', 'CD244', 'CDH7', 'KEGG_HUNTINGTONS_DISEASE', 'RNF122', 'KEGG_MELANOGENESIS', 'FKBP4', 'KEGG_LONG_TERM_POTENTIATION', 'CDKN2A', 'KEGG_TASTE_TRANSDUCTION', 'IL10RA', 'KEGG_MISMATCH_REPAIR', 'TRAF5', 'KEGG_AMYOTROPHIC_LATERAL_SCLEROSIS_ALS', 'KLLN', 'ZNF780A', 'KEGG_OOCYTE_MEIOSIS', 'CORO7', 'BCL2L11', 'ZNF846', 'NBPF10', 'KEGG_GRAFT_VERSUS_HOST_DISEASE', 'KEGG_FOCAL_ADHESION', 'PYGO1', 'TUSC1', 'SERPINA3', 'MPP2', 'KEGG_VIBRIO_CHOLERAE_INFECTION', 'ZNF157', 'RANBP6', 'SMTNL2', 'C1RL', 'KEGG_REGULATION_OF_AUTOPHAGY', 'KEGG_GLYCOSPHINGOLIPID_BIOSYNTHESIS_LACTO_AND_NEOLACTO_SERIES', 'COL16A1', 'DYRK3', 'KEGG_HOMOLOGOUS_RECOMBINATION', 'CYBA', 'KEGG_VEGF_SIGNALING_PATHWAY', 'P3H2', 'NUP210', 'JAML', 'FAM81B', 'KEGG_NEUROTROPHIN_SIGNALING_PATHWAY', 'SEMA4B', 'NOTCH2NL', 'KEGG_GLYCOSAMINOGLYCAN_BIOSYNTHESIS_CHONDROITIN_SULFATE', 'SLFN12L', 'ADAMTS4', 'KEGG_TIGHT_JUNCTION', 'TLR7', 'FERMT2', 'TRAF1', 'B4GALT6', 'FAM83F', 'PSD4', 'RHOH', 'SLC24A2', 'CNOT6L', 'KEGG_ANTIGEN_PROCESSING_AND_PRESENTATION', 'BCAS4', 'PLEKHO1', 'SSC5D', 'MYO5A', 'RAPGEFL1', 'CSRNP3', 'ZNF226', 'ANKRD36', 'SLITRK4', 'TMEM79', 'COL1A1', 'SLC25A25', 'VAV2', 'MDK', 'KEGG_LEISHMANIA_INFECTION', 'PLEKHH2', 'IGFBP2', 'KEGG_INOSITOL_PHOSPHATE_METABOLISM', 'PTK2B', 'KEGG_NOD_LIKE_RECEPTOR_SIGNALING_PATHWAY', 'HES6', 'TNFSF14', 'SMCR8', 'KEGG_BLADDER_CANCER', 'TRABD2A', 'DCAF12L2', 'ITGB3', 'MORN4', 'IRS1', 'BCAR1', 'HDAC9', 'STK4', 'OTUD7A', 'KEGG_ARGININE_AND_PROLINE_METABOLISM', 'KEGG_P53_SIGNALING_PATHWAY', 'HAVCR2', 'GCSAM', 'FRMPD4', 'GLIS2', 'SIGLEC14', 'KCNIP2', 'KCNB1', 'SVOP', 'THBS1', 'TUBA1C', 'TCOF1', 'GOLM1', 'CHDH', 'CCDC33', 'KYNU', 'PTGDR2', 'NFAM1', 'KEGG_CHEMOKINE_SIGNALING_PATHWAY', 'XRCC3', 'H2AFZ', 'SPTBN2', 'GLCCI1', 'CYCS', 'GFPT2', 'CCDC88C', 'OTUD6A', 'GOLGA7B', 'IGF1', 'NOD2', 'HDGF', 'CD19', 'KEGG_VIRAL_MYOCARDITIS', 'CASP8', 'SGPP2', 'FAM43A', 'EPHA7', 'SH3TC2', 'BMP4', 'NR4A2', 'KEGG_CYTOSOLIC_DNA_SENSING_PATHWAY', 'NUDT4', 'CLIC6', 'LFNG', 'CCR7', 'KEGG_PANCREATIC_CANCER', 'TLR5', 'TIGIT', 'KEGG_LEUKOCYTE_TRANSENDOTHELIAL_MIGRATION', 'KEGG_ABC_TRANSPORTERS', 'EIF4EBP2', 'SLC23A3', 'GLI2', 'APOL6', 'MARVELD2', 'TLR6', 'CXCR4', 'TXNDC5', 'MLXIPL', 'HAPLN1', 'TCF7', 'KEGG_LONG_TERM_DEPRESSION', 'BGN', 'LRFN1', 'RASSF2', 'KEGG_CELL_CYCLE', 'ZFP36L2', 'VAV1', 'COL4A3', 'TMEM108', 'GCK', 'ZMYND8', 'PBOV1', 'KEGG_PEROXISOME', 'PROSER1', 'TRIM59', 'KLHDC8B', 'GRID1', 'KEGG_NOTCH_SIGNALING_PATHWAY', 'HIST1H3B', 'FAM117B', 'KEGG_GAP_JUNCTION', 'WNT3A', 'KEGG_AMINO_SUGAR_AND_NUCLEOTIDE_SUGAR_METABOLISM', 'SREBF1', 'KIAA0513', 'FUT4', 'MOSPD1', 'KEGG_PATHWAYS_IN_CANCER', 'NCK2', 'INTU', 'ABCC3', 'FKBP5', 'SLC16A9', 'NID2', 'UCHL1', 'KEGG_REGULATION_OF_ACTIN_CYTOSKELETON', 'KEGG_DILATED_CARDIOMYOPATHY', 'KEGG_NATURAL_KILLER_CELL_MEDIATED_CYTOTOXICITY', 'KEGG_FC_GAMMA_R_MEDIATED_PHAGOCYTOSIS', 'CLEC12A', 'KEGG_INTESTINAL_IMMUNE_NETWORK_FOR_IGA_PRODUCTION', 'SLC18B1', 'KEGG_PATHOGENIC_ESCHERICHIA_COLI_INFECTION', 'KEGG_METABOLISM_OF_XENOBIOTICS_BY_CYTOCHROME_P450', 'MMP9', 'ANKRD44', 'PRDM1', 'KEGG_ARACHIDONIC_ACID_METABOLISM', 'ANKRD33B', 'EBI3', 'LCP1', 'RAB11FIP4', 'CAMK4', 'PHF21B', 'VAC14', 'MET', 'SPN', 'UTP11', 'KEGG_NON_SMALL_CELL_LUNG_CANCER', 'PTPN22', 'KEGG_ARRHYTHMOGENIC_RIGHT_VENTRICULAR_CARDIOMYOPATHY_ARVC', 'NLRC3', 'PLCB2', 'SIT1', 'PMAIP1', 'SPNS3', 'FAM105A', 'CCDC171', 'TRMT5', 'ZNF217', 'KEGG_COMPLEMENT_AND_COAGULATION_CASCADES', 'MYO1F', 'TGFBR2', 'SOGA3', 'CAPS', 'F2R', 'LPXN', 'FASN', 'KIAA1456', 'KEGG_RNA_DEGRADATION', 'CEP85L', 'ATP5G1', 'IL18', 'CLNK', 'KEGG_NEUROACTIVE_LIGAND_RECEPTOR_INTERACTION', 'KEGG_SPHINGOLIPID_METABOLISM', 'ZNF215', 'METTL7A', 'SRGAP2', 'ISLR2', 'NPTX2', 'KEGG_MELANOMA', 'IL21R', 'CHST15', 'TUBB2A', 'HMGN2', 'KEGG_UBIQUITIN_MEDIATED_PROTEOLYSIS', 'ABCC5', 'KEGG_MAPK_SIGNALING_PATHWAY', 'LAIR1', 'FAM217B', 'ZNF546', 'LDLR', 'CD226', 'SLC2A13', 'ARRDC3', 'KEGG_TOLL_LIKE_RECEPTOR_SIGNALING_PATHWAY', 'KEGG_ECM_RECEPTOR_INTERACTION', 'KEGG_FC_EPSILON_RI_SIGNALING_PATHWAY', 'AIDA', 'TACC3', 'HSPA6', 'SPRY3', 'PRRG4', 'HSPA1B', 'FBXO41', 'KEGG_GNRH_SIGNALING_PATHWAY', 'TXNIP', 'SLC43A3', 'ASCL2', 'SHCBP1', 'KEGG_PARKINSONS_DISEASE', 'DNALI1', 'LILRA2', 'TAS2R30', 'NPY4R', 'PRKCB', 'AMD1', 'FNBP1', 'PIK3CD', 'PIM1', 'VAV3', 'CD40LG', 'KEGG_APOPTOSIS', 'MT1E', 'VASN', 'PTPRC', 'RPAIN', 'AP1S3', 'SLCO4C1', 'PIM2', 'CCSAP', 'GPX6', 'PLA2G7', 'TFCP2L1', 'MSI2', 'SRCIN1', 'PIK3R1', 'CFTR', 'SEPT11', 'FAM46C', 'ZNF774', 'CD59', 'KEGG_ALDOSTERONE_REGULATED_SODIUM_REABSORPTION', 'WWC1', 'TMEM130', 'ADAMTS9', 'IFNG', 'FGFBP3', 'NACC2', 'DDIT4', 'E2F8', 'SOCS1', 'BACH2', 'MYBL1', 'SYNRG', 'KEGG_MTOR_SIGNALING_PATHWAY', 'EDEM1', 'TP53INP1', 'AURKA', 'FAM84A', 'KEGG_CHRONIC_MYELOID_LEUKEMIA', 'CEP128', 'KEGG_DORSO_VENTRAL_AXIS_FORMATION', 'KEGG_CALCIUM_SIGNALING_PATHWAY', 'PNMA2', 'DUSP18', 'KEGG_ALLOGRAFT_REJECTION', 'OSBPL3', 'SEPT1', 'SNX22', 'KEGG_OXIDATIVE_PHOSPHORYLATION', 'HS6ST3', 'SLC2A5', 'DOK3', 'ZDHHC15', 'ALOX5AP', 'PTK6', 'PRDX6', 'KNTC1', 'KEGG_ASTHMA', 'BTLA', 'GPRC5A', 'AFF1', 'NFATC2', 'DLEU1', 'RIMS3', 'NECTIN1', 'CXCL11', 'HIST1H3H', 'KEGG_ETHER_LIPID_METABOLISM', 'RAB39B', 'KEGG_SPLICEOSOME', 'IKZF3', 'KEGG_SELENOAMINO_ACID_METABOLISM', 'LPAR3', 'COL4A4', 'FAM49A', 'NAV1', 'SEL1L3', 'KEGG_ENDOCYTOSIS', 'NHLRC3', 'RUNX2', 'CFAP77', 'ESR1', 'ADAM28', 'KEGG_CARDIAC_MUSCLE_CONTRACTION', 'KEGG_ERBB_SIGNALING_PATHWAY', 'KEGG_CYSTEINE_AND_METHIONINE_METABOLISM', 'HAUS5', 'CCL5', 'SYT17', 'PCP4L1', 'STYK1', 'SAMD9L', 'MAML3', 'KEGG_AXON_GUIDANCE', 'NTN1', 'KEGG_COLORECTAL_CANCER', 'MB21D1', 'ARHGAP15', 'ZBTB37', 'KEGG_PRION_DISEASES', 'P2RY1', 'CXCR2', 'ARHGAP21', 'PITX1', 'PPP1CC', 'KEGG_PROSTATE_CANCER', 'KIAA1551', 'MID1IP1', 'ANGPTL7', 'PPIL1', 'HTR2A', 'PITPNM2', 'SCN9A', 'FAM167B', 'IER3', 'CASS4', 'CCDC80', 'KEGG_RENAL_CELL_CARCINOMA', 'SLCO5A1', 'LTBP2', 'KY', 'CENPM', 'ENTPD1', 'SPIC', 'CD44', 'PTPRU', 'CREM', 'CENPN', 'KCNJ2', 'FNDC9', 'ZFP14', 'CHRDL1', 'IRAK3', 'KEGG_B_CELL_RECEPTOR_SIGNALING_PATHWAY', 'PARP15', 'RAB8B', 'KEGG_HYPERTROPHIC_CARDIOMYOPATHY_HCM', 'KIAA1958', 'RAB44', 'THY1', 'MGAT4C', 'SLC39A14', 'RAB15', 'KEGG_THYROID_CANCER', 'NAT8L', 'NLRC5', 'MEX3D', 'RGS9BP', 'CLEC4D', 'PPM1K', 'GRAMD1C', 'KEGG_SYSTEMIC_LUPUS_ERYTHEMATOSUS', 'GRIK3', 'FASLG', 'GPR45', 'TM4SF1', 'ART4', 'IL18RAP', 'KCNN3', 'TACC1', 'KEGG_VASCULAR_SMOOTH_MUSCLE_CONTRACTION', 'ZFHX4', 'TNIP3', 'RAB3IP', 'FOXN2', 'GCNT1', 'DAAM2', 'FBXL2', 'SP140L', 'NOTCH2', 'KEGG_GLYCOLYSIS_GLUCONEOGENESIS', 'FCRL2', 'KEGG_ALZHEIMERS_DISEASE', 'KEGG_AUTOIMMUNE_THYROID_DISEASE', 'KEGG_EPITHELIAL_CELL_SIGNALING_IN_HELICOBACTER_PYLORI_INFECTION', 'CFHR3', 'KEGG_GLIOMA', 'LONRF3', 'IPCEF1', 'KLRC3', 'PIM3', 'STON2', 'KEGG_PYRIMIDINE_METABOLISM', 'SYT7', 'MDGA1', 'EDA2R', 'ARAP2', 'BANK1', 'COL22A1', 'SPOCK2', 'MAT2A', 'SFMBT2', 'MIDN', 'E2F2', 'KEGG_ADHERENS_JUNCTION', 'RNFT2', 'TMSB4X', 'VDR', 'FOSL1', 'CGNL1', 'IP6K3', 'CACNA1I', 'KEGG_GLYCINE_SERINE_AND_THREONINE_METABOLISM', 'KEGG_CYTOKINE_CYTOKINE_RECEPTOR_INTERACTION', 'CD28', 'KEGG_TYPE_I_DIABETES_MELLITUS', 'RNF213', 'ATAD5', 'BMF', 'PLXDC2', 'SEMA6B', 'TRERF1', 'GRAP2', 'KEGG_BASAL_CELL_CARCINOMA', 'CCDC85C', 'CSF1R', 'KEGG_ENDOMETRIAL_CANCER', 'KIF11', 'MPEG1', 'COL14A1', 'SLC4A1', 'KEGG_HEDGEHOG_SIGNALING_PATHWAY', 'PIK3CG', 'KIAA0408', 'KEGG_GLYCOSAMINOGLYCAN_BIOSYNTHESIS_HEPARAN_SULFATE', 'CLSTN3', 'DNAJB5', 'KEGG_T_CELL_RECEPTOR_SIGNALING_PATHWAY', 'KRT80', 'KEGG_PROGESTERONE_MEDIATED_OOCYTE_MATURATION', 'LAX1', 'ZNF594', 'KEGG_TYPE_II_DIABETES_MELLITUS', 'DLX5', 'TRIM10', 'KEGG_INSULIN_SIGNALING_PATHWAY', 'KCNA4', 'COTL1', 'FAM46B', 'EXPH5', 'LRRC38', 'HACD4', 'EML4', 'HOPX', 'VENTX', 'GINS2', 'KEGG_CELL_ADHESION_MOLECULES_CAMS', 'LINC00632', 'RBM43', 'RTN4RL1', 'SEPT6', 'KEGG_PHOSPHATIDYLINOSITOL_SIGNALING_SYSTEM', 'S100A16', 'KEGG_STARCH_AND_SUCROSE_METABOLISM', 'UNKL', 'EREG', 'KEGG_TRYPTOPHAN_METABOLISM', 'GABRB1', 'SLC25A45', 'ATP2A2', 'BEST3', 'KCNK1', 'AHSA2', 'BMP6', 'EPB41', 'HIST2H3A', 'ATXN7L1', 'TRAT1', 'RAB3C', 'CCDC65', 'TMED8', 'LILRB1', 'TFF1', 'KEGG_PRIMARY_IMMUNODEFICIENCY', 'KEGG_GLUTATHIONE_METABOLISM', 'KEGG_JAK_STAT_SIGNALING_PATHWAY', 'MYPN', 'KEGG_HEMATOPOIETIC_CELL_LINEAGE', 'IL5RA', 'MEG3', 'ERP27', 'METTL21A', 'COL1A2', 'FAAH', 'TNFAIP8', 'BMP7', 'KEGG_TGF_BETA_SIGNALING_PATHWAY', 'CTRC', 'TONSL', 'PAQR5', 'RPH3A', 'TRIM14', 'LAMP5', 'LILRB4', 'JAKMIP2', 'RUNX1', 'KEGG_ALANINE_ASPARTATE_AND_GLUTAMATE_METABOLISM', 'GAS1', 'GSTM5', 'LPAR2', 'PAX4', 'KEGG_GALACTOSE_METABOLISM', 'STK17B', 'KEGG_ACUTE_MYELOID_LEUKEMIA', 'DUSP2', 'RBM38', 'COL8A1', 'ENAM', 'RRAD', 'RBM47', 'MIS18BP1', 'LILRB2'], 'DEMi': ['hsa-let-7i-5p', 'hsa-miR-486-5p', 'hsa-miR-181a-5p', 'hsa-miR-15a-3p', 'hsa-miR-197-3p', 'hsa-miR-876-3p', 'hsa-miR-483-3p', 'hsa-let-7a-5p', 'hsa-miR-382-3p', 'hsa-miR-23a-3p', 'hsa-miR-320e', 'hsa-miR-30d-5p', 'hsa-miR-324-3p', 'hsa-miR-542-3p', 'hsa-miR-320b', 'hsa-miR-101-3p', 'hsa-miR-574-5p', 'hsa-miR-616-3p', 'hsa-miR-491-3p', 'hsa-miR-576-5p', 'hsa-miR-7f-5p', 'hsa-miR-597-5p', 'hsa-miR-1238-3p', 'hsa-miR-183-5p', 'hsa-miR-320c', 'hsa-miR-590-3p', 'hsa-miR-6883-3p', 'hsa-miR-22-3p', 'hsa-miR-302d-5p', 'hsa-miR-548ap-3p', 'hsa-miR-1202', 'hsa-miR-548f-3p', 'hsa-miR-548c-3p', 'hsa-let-7g-5p', 'hsa-miR-580-3p', 'hsa-miR-320d', 'hsa-miR-320a', 'hsa-miR-1825', 'hsa-miR-940', 'hsa-miR-586', 'hsa-miR-423-5p', 'hsa-miR-8485']}\n",
      "{'DEL': [], 'DEM': ['TMEM156', 'KEGG_PANTOTHENATE_AND_COA_BIOSYNTHESIS', 'TRANK1', 'LILRA4', 'FOLR2', 'EVI2A', 'COX5A', 'ARL4A', 'KEGG_DNA_REPLICATION', 'RNASE6', 'RNASET2', 'CCL2', 'CHAC1', 'HOXC4', 'ZWINT', 'PLAC8', 'PARP4', 'PDE4A', 'PHLDA1', 'GPR183', 'KRT222', 'CXCL9', 'NT5DC2', 'CRTAM', 'GATA4', 'TNFAIP3', 'DOCK10', 'PSMB8', 'RNF125', 'PDE4DIP', 'GRM8', 'TGM1', 'ERI2', 'RPGRIP1', 'RASGRP3', 'EIF1AY', 'CXCL13', 'ATXN2L', 'CCDC170', 'DMXL2', 'IRF4', 'FKTN', 'CISH', 'FMO3', 'RAB30', 'RIPK4', 'FOLH1', 'IL17RB', 'TMEM30B', 'NR4A3', 'SFRP4', 'KLRC1', 'KEGG_O_GLYCAN_BIOSYNTHESIS', 'INPP5D', 'EDN2', 'KEGG_PURINE_METABOLISM', 'S100A7A', 'CDH9', 'BATF', 'SOCS6', 'IGSF6', 'MARCH1', 'SMPD3', 'COL5A1', 'LAMP3', 'PCBP3', 'PHLDA2', 'TMEM154', 'BCL11B', 'ENDOG', 'UNC93B1', 'PNOC', 'CNTRL', 'IGFLR1', 'DDX60', 'DCHS2', 'ITGB2', 'KEGG_NICOTINATE_AND_NICOTINAMIDE_METABOLISM', 'OCIAD2', 'CXCR6', 'KEGG_DRUG_METABOLISM_CYTOCHROME_P450', 'ITGAX', 'NABP1', 'MYOG', 'BLNK', 'F3', 'GRIK2', 'CACNB4', 'NAMPT', 'IKZF1', 'SNRPC', 'REEP4', 'RNF6', 'KCNN2', 'ANKRD36B', 'TRIM22', 'VANGL2', 'MREG', 'IFIH1', 'KEGG_LYSOSOME', 'MCTP2', 'LIG1', 'IDH2', 'ZFY', 'LSAMP', 'SLAMF1', 'ATF3', 'TMEM254', 'SLC6A9', 'TOX', 'RYR3', 'SIDT1', 'TRPC4', 'LIF', 'GDF10', 'KEGG_MATURITY_ONSET_DIABETES_OF_THE_YOUNG', 'PRSS16', 'MNDA', 'CYTIP', 'IFRD2', 'LRRC8E', 'KIF21B', 'KLRC4', 'GALNT3', 'EAF2', 'GBP2', 'INPP5J', 'KEGG_PROTEASOME', 'ERAP2', 'STARD5', 'ADGRG6', 'VNN2', 'ICMT', 'KEGG_BASE_EXCISION_REPAIR', 'KDM5D', 'CTGF', 'IAPP', 'FCGR1B', 'C1QTNF1', 'CHEK2', 'TXK', 'LRRC17', 'KEGG_NUCLEOTIDE_EXCISION_REPAIR', 'KEGG_RIG_I_LIKE_RECEPTOR_SIGNALING_PATHWAY', 'SUSD5', 'C1QB', 'ASPN', 'PSTPIP2', 'LMCD1', 'PTPRO', 'IL7R', 'SLFN13', 'PARP11', 'SCGB1D2', 'SCGB1D1'], 'DEMi': ['hsa-miR-26b-5p']}\n"
     ]
    }
   ],
   "source": [
    "nc=k\n",
    "kmeans = KMeans(n_clusters=nc, random_state=0).fit(dataset)\n",
    "\n",
    "clusters ={i:{'DEL':[],'DEM':[],'DEMi':[]} for i in range(nc)}\n",
    "labels = kmeans.labels_.tolist()\n",
    "\n",
    "for i in range(len(labels)):\n",
    "    if keys[i] in coexp_del:\n",
    "        clusters[labels[i]]['DEL'].append(keys[i])\n",
    "    elif keys[i] in coexp_demi:\n",
    "        clusters[labels[i]]['DEMi'].append(keys[i])\n",
    "    else:\n",
    "        clusters[labels[i]]['DEM'].append(keys[i])    \n",
    "for i in range(nc):\n",
    "    print(clusters[i])\n"
   ]
  },
  {
   "cell_type": "code",
   "execution_count": null,
   "metadata": {},
   "outputs": [],
   "source": [
    "# plot_dendrogram(model, truncate_mode='level', p=3)\n",
    "# plt.xlabel(\"Number of points in node (or index of point if no parenthesis).\")\n",
    "# plt.savefig('Cluster_dendo.png')"
   ]
  },
  {
   "cell_type": "code",
   "execution_count": null,
   "metadata": {},
   "outputs": [],
   "source": [
    "fp = open('genes_for_pathway.txt','w')\n",
    "for gene in clusters[0]['DEM']:\n",
    "    fp.write(gene+'\\n')\n",
    "fp.close()"
   ]
  },
  {
   "cell_type": "code",
   "execution_count": 71,
   "metadata": {},
   "outputs": [
    {
     "name": "stdout",
     "output_type": "stream",
     "text": [
      "{'DEL': [], 'DEM': ['TMEM156', 'TRANK1', 'LILRA4', 'FOLR2', 'COX5A', 'ARL4A', 'RNASE6', 'RNASET2', 'CCL2', 'HOXC4', 'ZWINT', 'PLAC8', 'PARP4', 'PDE4A', 'PHLDA1', 'GPR183', 'KRT222', 'CXCL9', 'NT5DC2', 'CRTAM', 'GATA4', 'TNFAIP3', 'DOCK10', 'PSMB8', 'PDE4DIP', 'GRM8', 'TGM1', 'ERI2', 'RPGRIP1', 'RASGRP3', 'EIF1AY', 'CXCL13', 'ATXN2L', 'CCDC170', 'DMXL2', 'IRF4', 'FKTN', 'CISH', 'FMO3', 'RAB30', 'RIPK4', 'FOLH1', 'NR4A3', 'SFRP4', 'KLRC1', 'EDN2', 'S100A7A', 'CDH9', 'BATF', 'SOCS6', 'IGSF6', 'MARCH1', 'SMPD3', 'COL5A1', 'LAMP3', 'PCBP3', 'PHLDA2', 'TMEM154', 'BCL11B', 'ENDOG', 'UNC93B1', 'PNOC', 'CNTRL', 'IGFLR1', 'DDX60', 'DCHS2', 'CXCR6', 'ITGAX', 'NABP1', 'MYOG', 'BLNK', 'F3', 'GRIK2', 'CACNB4', 'NAMPT', 'IKZF1', 'SNRPC', 'REEP4', 'RNF6', 'KCNN2', 'ANKRD36B', 'TRIM22', 'VANGL2', 'MREG', 'IFIH1', 'MCTP2', 'LIG1', 'IDH2', 'ZFY', 'LSAMP', 'SLAMF1', 'ATF3', 'TMEM254', 'SLC6A9', 'TOX', 'RYR3', 'SIDT1', 'TRPC4', 'LIF', 'GDF10', 'PRSS16', 'MNDA', 'CYTIP', 'IFRD2', 'LRRC8E', 'KIF21B', 'KLRC4', 'GALNT3', 'EAF2', 'GBP2', 'INPP5J', 'ERAP2', 'STARD5', 'ADGRG6', 'VNN2', 'KDM5D', 'IAPP', 'FCGR1B', 'C1QTNF1', 'CHEK2', 'TXK', 'LRRC17', 'SUSD5', 'C1QB', 'ASPN', 'PSTPIP2', 'LMCD1', 'PTPRO', 'IL7R', 'PARP11', 'SCGB1D2', 'SCGB1D1'], 'DEMi': ['hsa-miR-26b-5p'], 'Pathways': ['KEGG_PANTOTHENATE_AND_COA_BIOSYNTHESIS', 'KEGG_O_GLYCAN_BIOSYNTHESIS', 'KEGG_PURINE_METABOLISM', 'KEGG_PROTEASOME', 'KEGG_BASE_EXCISION_REPAIR']}\n",
      "{'DEL': ['HOXA11‐AS', 'BACE1‐AS', 'VLDLR‐AS1', 'SOX2‐OT', 'BCYRN1', 'EGOT', 'PCAT1', 'H19', 'LINKROR', 'HOTAIR', 'GAS5', 'TUG1'], 'DEM': ['NIPAL1', 'KLRD1', 'THEMIS2', 'VCAM1', 'NFIL3', 'CD3D', 'PLXNC1', 'ERN1', 'INO80D', 'MFSD4A', 'CD244', 'CDH7', 'EVI2A', 'RNF122', 'FKBP4', 'CDKN2A', 'IL10RA', 'CHAC1', 'TRAF5', 'KLLN', 'ZNF780A', 'CORO7', 'BCL2L11', 'ZNF846', 'NBPF10', 'PYGO1', 'TUSC1', 'SERPINA3', 'MPP2', 'ZNF157', 'RANBP6', 'SMTNL2', 'C1RL', 'COL16A1', 'DYRK3', 'CYBA', 'P3H2', 'NUP210', 'JAML', 'FAM81B', 'SEMA4B', 'NOTCH2NL', 'SLFN12L', 'ADAMTS4', 'TLR7', 'FERMT2', 'TRAF1', 'B4GALT6', 'FAM83F', 'PSD4', 'RHOH', 'SLC24A2', 'CNOT6L', 'BCAS4', 'PLEKHO1', 'SSC5D', 'MYO5A', 'RAPGEFL1', 'CSRNP3', 'ZNF226', 'ANKRD36', 'SLITRK4', 'TMEM79', 'COL1A1', 'SLC25A25', 'VAV2', 'MDK', 'PLEKHH2', 'IGFBP2', 'PTK2B', 'HES6', 'TNFSF14', 'SMCR8', 'TRABD2A', 'DCAF12L2', 'ITGB3', 'MORN4', 'IRS1', 'BCAR1', 'RNF125', 'HDAC9', 'STK4', 'OTUD7A', 'HAVCR2', 'GCSAM', 'FRMPD4', 'GLIS2', 'SIGLEC14', 'KCNIP2', 'KCNB1', 'SVOP', 'THBS1', 'TUBA1C', 'TCOF1', 'GOLM1', 'CHDH', 'CCDC33', 'KYNU', 'PTGDR2', 'NFAM1', 'XRCC3', 'H2AFZ', 'SPTBN2', 'GLCCI1', 'CYCS', 'GFPT2', 'CCDC88C', 'OTUD6A', 'GOLGA7B', 'IGF1', 'NOD2', 'HDGF', 'CD19', 'CASP8', 'SGPP2', 'FAM43A', 'EPHA7', 'IL17RB', 'SH3TC2', 'BMP4', 'NR4A2', 'TMEM30B', 'NUDT4', 'CLIC6', 'LFNG', 'CCR7', 'TLR5', 'TIGIT', 'EIF4EBP2', 'SLC23A3', 'GLI2', 'APOL6', 'MARVELD2', 'INPP5D', 'TLR6', 'CXCR4', 'TXNDC5', 'MLXIPL', 'HAPLN1', 'TCF7', 'BGN', 'LRFN1', 'RASSF2', 'ZFP36L2', 'VAV1', 'COL4A3', 'TMEM108', 'GCK', 'ZMYND8', 'PBOV1', 'PROSER1', 'TRIM59', 'KLHDC8B', 'GRID1', 'HIST1H3B', 'FAM117B', 'WNT3A', 'SREBF1', 'KIAA0513', 'FUT4', 'MOSPD1', 'NCK2', 'INTU', 'ABCC3', 'FKBP5', 'SLC16A9', 'NID2', 'UCHL1', 'CLEC12A', 'SLC18B1', 'MMP9', 'ANKRD44', 'PRDM1', 'ANKRD33B', 'EBI3', 'LCP1', 'RAB11FIP4', 'CAMK4', 'PHF21B', 'VAC14', 'MET', 'SPN', 'UTP11', 'PTPN22', 'NLRC3', 'PLCB2', 'SIT1', 'PMAIP1', 'SPNS3', 'FAM105A', 'CCDC171', 'TRMT5', 'ZNF217', 'MYO1F', 'TGFBR2', 'SOGA3', 'CAPS', 'F2R', 'LPXN', 'FASN', 'KIAA1456', 'CEP85L', 'ATP5G1', 'IL18', 'CLNK', 'ITGB2', 'ZNF215', 'OCIAD2', 'METTL7A', 'SRGAP2', 'ISLR2', 'NPTX2', 'IL21R', 'CHST15', 'TUBB2A', 'HMGN2', 'ABCC5', 'LAIR1', 'FAM217B', 'ZNF546', 'LDLR', 'CD226', 'SLC2A13', 'ARRDC3', 'AIDA', 'TACC3', 'HSPA6', 'SPRY3', 'PRRG4', 'HSPA1B', 'FBXO41', 'TXNIP', 'SLC43A3', 'ASCL2', 'SHCBP1', 'DNALI1', 'LILRA2', 'TAS2R30', 'NPY4R', 'PRKCB', 'AMD1', 'FNBP1', 'PIK3CD', 'PIM1', 'VAV3', 'CD40LG', 'MT1E', 'VASN', 'PTPRC', 'RPAIN', 'AP1S3', 'SLCO4C1', 'PIM2', 'CCSAP', 'GPX6', 'PLA2G7', 'TFCP2L1', 'MSI2', 'SRCIN1', 'PIK3R1', 'CFTR', 'SEPT11', 'FAM46C', 'ZNF774', 'CD59', 'WWC1', 'TMEM130', 'ADAMTS9', 'IFNG', 'FGFBP3', 'NACC2', 'DDIT4', 'E2F8', 'SOCS1', 'BACH2', 'MYBL1', 'SYNRG', 'EDEM1', 'TP53INP1', 'AURKA', 'FAM84A', 'CEP128', 'PNMA2', 'DUSP18', 'OSBPL3', 'SEPT1', 'SNX22', 'HS6ST3', 'SLC2A5', 'DOK3', 'ZDHHC15', 'ALOX5AP', 'PTK6', 'PRDX6', 'KNTC1', 'BTLA', 'GPRC5A', 'AFF1', 'NFATC2', 'DLEU1', 'RIMS3', 'NECTIN1', 'CXCL11', 'HIST1H3H', 'RAB39B', 'IKZF3', 'LPAR3', 'COL4A4', 'FAM49A', 'NAV1', 'SEL1L3', 'NHLRC3', 'RUNX2', 'CFAP77', 'ESR1', 'ADAM28', 'HAUS5', 'CCL5', 'SYT17', 'PCP4L1', 'STYK1', 'SAMD9L', 'MAML3', 'NTN1', 'MB21D1', 'ARHGAP15', 'ZBTB37', 'P2RY1', 'CXCR2', 'ARHGAP21', 'PITX1', 'PPP1CC', 'KIAA1551', 'MID1IP1', 'ANGPTL7', 'PPIL1', 'HTR2A', 'PITPNM2', 'SCN9A', 'FAM167B', 'IER3', 'CASS4', 'CCDC80', 'SLCO5A1', 'LTBP2', 'KY', 'CENPM', 'ENTPD1', 'SPIC', 'CD44', 'PTPRU', 'CREM', 'CENPN', 'KCNJ2', 'FNDC9', 'ZFP14', 'CHRDL1', 'IRAK3', 'PARP15', 'RAB8B', 'KIAA1958', 'RAB44', 'THY1', 'MGAT4C', 'SLC39A14', 'RAB15', 'NAT8L', 'NLRC5', 'MEX3D', 'RGS9BP', 'CLEC4D', 'PPM1K', 'GRAMD1C', 'GRIK3', 'FASLG', 'GPR45', 'TM4SF1', 'ART4', 'IL18RAP', 'KCNN3', 'TACC1', 'ZFHX4', 'TNIP3', 'RAB3IP', 'FOXN2', 'GCNT1', 'DAAM2', 'FBXL2', 'SP140L', 'NOTCH2', 'FCRL2', 'CFHR3', 'LONRF3', 'IPCEF1', 'KLRC3', 'PIM3', 'STON2', 'SYT7', 'MDGA1', 'EDA2R', 'ARAP2', 'BANK1', 'COL22A1', 'SPOCK2', 'MAT2A', 'SFMBT2', 'MIDN', 'E2F2', 'RNFT2', 'TMSB4X', 'VDR', 'FOSL1', 'CGNL1', 'IP6K3', 'CACNA1I', 'CD28', 'RNF213', 'ATAD5', 'BMF', 'PLXDC2', 'SEMA6B', 'TRERF1', 'GRAP2', 'CCDC85C', 'CSF1R', 'KIF11', 'MPEG1', 'COL14A1', 'SLC4A1', 'PIK3CG', 'KIAA0408', 'CLSTN3', 'DNAJB5', 'ICMT', 'KRT80', 'LAX1', 'ZNF594', 'DLX5', 'TRIM10', 'CTGF', 'KCNA4', 'COTL1', 'FAM46B', 'EXPH5', 'LRRC38', 'HACD4', 'EML4', 'HOPX', 'VENTX', 'GINS2', 'LINC00632', 'RBM43', 'RTN4RL1', 'SEPT6', 'S100A16', 'UNKL', 'EREG', 'GABRB1', 'SLC25A45', 'ATP2A2', 'BEST3', 'KCNK1', 'AHSA2', 'BMP6', 'EPB41', 'HIST2H3A', 'ATXN7L1', 'TRAT1', 'RAB3C', 'CCDC65', 'TMED8', 'LILRB1', 'TFF1', 'MYPN', 'IL5RA', 'MEG3', 'ERP27', 'METTL21A', 'COL1A2', 'FAAH', 'TNFAIP8', 'BMP7', 'SLFN13', 'CTRC', 'TONSL', 'PAQR5', 'RPH3A', 'TRIM14', 'LAMP5', 'LILRB4', 'JAKMIP2', 'RUNX1', 'GAS1', 'GSTM5', 'LPAR2', 'PAX4', 'STK17B', 'DUSP2', 'RBM38', 'COL8A1', 'ENAM', 'RRAD', 'RBM47', 'MIS18BP1', 'LILRB2'], 'DEMi': ['hsa-let-7i-5p', 'hsa-miR-486-5p', 'hsa-miR-181a-5p', 'hsa-miR-15a-3p', 'hsa-miR-197-3p', 'hsa-miR-876-3p', 'hsa-miR-483-3p', 'hsa-let-7a-5p', 'hsa-miR-382-3p', 'hsa-miR-23a-3p', 'hsa-miR-320e', 'hsa-miR-30d-5p', 'hsa-miR-324-3p', 'hsa-miR-542-3p', 'hsa-miR-320b', 'hsa-miR-101-3p', 'hsa-miR-574-5p', 'hsa-miR-616-3p', 'hsa-miR-491-3p', 'hsa-miR-576-5p', 'hsa-miR-7f-5p', 'hsa-miR-597-5p', 'hsa-miR-1238-3p', 'hsa-miR-183-5p', 'hsa-miR-320c', 'hsa-miR-590-3p', 'hsa-miR-6883-3p', 'hsa-miR-22-3p', 'hsa-miR-302d-5p', 'hsa-miR-548ap-3p', 'hsa-miR-1202', 'hsa-miR-548f-3p', 'hsa-miR-548c-3p', 'hsa-let-7g-5p', 'hsa-miR-580-3p', 'hsa-miR-320d', 'hsa-miR-320a', 'hsa-miR-1825', 'hsa-miR-940', 'hsa-miR-586', 'hsa-miR-423-5p', 'hsa-miR-8485'], 'Pathways': ['KEGG_ADIPOCYTOKINE_SIGNALING_PATHWAY', 'KEGG_PHENYLALANINE_METABOLISM', 'KEGG_CITRATE_CYCLE_TCA_CYCLE', 'KEGG_SMALL_CELL_LUNG_CANCER', 'KEGG_WNT_SIGNALING_PATHWAY', 'KEGG_HUNTINGTONS_DISEASE', 'KEGG_MELANOGENESIS', 'KEGG_LONG_TERM_POTENTIATION', 'KEGG_DNA_REPLICATION', 'KEGG_TASTE_TRANSDUCTION', 'KEGG_MISMATCH_REPAIR', 'KEGG_AMYOTROPHIC_LATERAL_SCLEROSIS_ALS', 'KEGG_OOCYTE_MEIOSIS', 'KEGG_GRAFT_VERSUS_HOST_DISEASE', 'KEGG_FOCAL_ADHESION', 'KEGG_VIBRIO_CHOLERAE_INFECTION', 'KEGG_REGULATION_OF_AUTOPHAGY', 'KEGG_GLYCOSPHINGOLIPID_BIOSYNTHESIS_LACTO_AND_NEOLACTO_SERIES', 'KEGG_HOMOLOGOUS_RECOMBINATION', 'KEGG_VEGF_SIGNALING_PATHWAY', 'KEGG_NEUROTROPHIN_SIGNALING_PATHWAY', 'KEGG_GLYCOSAMINOGLYCAN_BIOSYNTHESIS_CHONDROITIN_SULFATE', 'KEGG_TIGHT_JUNCTION', 'KEGG_ANTIGEN_PROCESSING_AND_PRESENTATION', 'KEGG_LEISHMANIA_INFECTION', 'KEGG_INOSITOL_PHOSPHATE_METABOLISM', 'KEGG_NOD_LIKE_RECEPTOR_SIGNALING_PATHWAY', 'KEGG_BLADDER_CANCER', 'KEGG_ARGININE_AND_PROLINE_METABOLISM', 'KEGG_P53_SIGNALING_PATHWAY', 'KEGG_CHEMOKINE_SIGNALING_PATHWAY', 'KEGG_VIRAL_MYOCARDITIS', 'KEGG_CYTOSOLIC_DNA_SENSING_PATHWAY', 'KEGG_PANCREATIC_CANCER', 'KEGG_LEUKOCYTE_TRANSENDOTHELIAL_MIGRATION', 'KEGG_ABC_TRANSPORTERS', 'KEGG_LONG_TERM_DEPRESSION', 'KEGG_CELL_CYCLE', 'KEGG_PEROXISOME', 'KEGG_NOTCH_SIGNALING_PATHWAY', 'KEGG_GAP_JUNCTION', 'KEGG_AMINO_SUGAR_AND_NUCLEOTIDE_SUGAR_METABOLISM', 'KEGG_PATHWAYS_IN_CANCER', 'KEGG_REGULATION_OF_ACTIN_CYTOSKELETON', 'KEGG_DILATED_CARDIOMYOPATHY', 'KEGG_NATURAL_KILLER_CELL_MEDIATED_CYTOTOXICITY', 'KEGG_FC_GAMMA_R_MEDIATED_PHAGOCYTOSIS', 'KEGG_INTESTINAL_IMMUNE_NETWORK_FOR_IGA_PRODUCTION', 'KEGG_PATHOGENIC_ESCHERICHIA_COLI_INFECTION', 'KEGG_METABOLISM_OF_XENOBIOTICS_BY_CYTOCHROME_P450', 'KEGG_ARACHIDONIC_ACID_METABOLISM', 'KEGG_NON_SMALL_CELL_LUNG_CANCER', 'KEGG_ARRHYTHMOGENIC_RIGHT_VENTRICULAR_CARDIOMYOPATHY_ARVC', 'KEGG_COMPLEMENT_AND_COAGULATION_CASCADES', 'KEGG_RNA_DEGRADATION', 'KEGG_NEUROACTIVE_LIGAND_RECEPTOR_INTERACTION', 'KEGG_SPHINGOLIPID_METABOLISM', 'KEGG_NICOTINATE_AND_NICOTINAMIDE_METABOLISM', 'KEGG_MELANOMA', 'KEGG_DRUG_METABOLISM_CYTOCHROME_P450', 'KEGG_UBIQUITIN_MEDIATED_PROTEOLYSIS', 'KEGG_MAPK_SIGNALING_PATHWAY', 'KEGG_TOLL_LIKE_RECEPTOR_SIGNALING_PATHWAY', 'KEGG_ECM_RECEPTOR_INTERACTION', 'KEGG_FC_EPSILON_RI_SIGNALING_PATHWAY', 'KEGG_GNRH_SIGNALING_PATHWAY', 'KEGG_PARKINSONS_DISEASE', 'KEGG_APOPTOSIS', 'KEGG_ALDOSTERONE_REGULATED_SODIUM_REABSORPTION', 'KEGG_MTOR_SIGNALING_PATHWAY', 'KEGG_CHRONIC_MYELOID_LEUKEMIA', 'KEGG_DORSO_VENTRAL_AXIS_FORMATION', 'KEGG_CALCIUM_SIGNALING_PATHWAY', 'KEGG_ALLOGRAFT_REJECTION', 'KEGG_OXIDATIVE_PHOSPHORYLATION', 'KEGG_ASTHMA', 'KEGG_LYSOSOME', 'KEGG_ETHER_LIPID_METABOLISM', 'KEGG_SPLICEOSOME', 'KEGG_SELENOAMINO_ACID_METABOLISM', 'KEGG_ENDOCYTOSIS', 'KEGG_CARDIAC_MUSCLE_CONTRACTION', 'KEGG_ERBB_SIGNALING_PATHWAY', 'KEGG_CYSTEINE_AND_METHIONINE_METABOLISM', 'KEGG_AXON_GUIDANCE', 'KEGG_COLORECTAL_CANCER', 'KEGG_PRION_DISEASES', 'KEGG_PROSTATE_CANCER', 'KEGG_RENAL_CELL_CARCINOMA', 'KEGG_B_CELL_RECEPTOR_SIGNALING_PATHWAY', 'KEGG_HYPERTROPHIC_CARDIOMYOPATHY_HCM', 'KEGG_MATURITY_ONSET_DIABETES_OF_THE_YOUNG', 'KEGG_THYROID_CANCER', 'KEGG_SYSTEMIC_LUPUS_ERYTHEMATOSUS', 'KEGG_VASCULAR_SMOOTH_MUSCLE_CONTRACTION', 'KEGG_GLYCOLYSIS_GLUCONEOGENESIS', 'KEGG_ALZHEIMERS_DISEASE', 'KEGG_AUTOIMMUNE_THYROID_DISEASE', 'KEGG_EPITHELIAL_CELL_SIGNALING_IN_HELICOBACTER_PYLORI_INFECTION', 'KEGG_GLIOMA', 'KEGG_PYRIMIDINE_METABOLISM', 'KEGG_ADHERENS_JUNCTION', 'KEGG_GLYCINE_SERINE_AND_THREONINE_METABOLISM', 'KEGG_CYTOKINE_CYTOKINE_RECEPTOR_INTERACTION', 'KEGG_TYPE_I_DIABETES_MELLITUS', 'KEGG_BASAL_CELL_CARCINOMA', 'KEGG_ENDOMETRIAL_CANCER', 'KEGG_HEDGEHOG_SIGNALING_PATHWAY', 'KEGG_GLYCOSAMINOGLYCAN_BIOSYNTHESIS_HEPARAN_SULFATE', 'KEGG_T_CELL_RECEPTOR_SIGNALING_PATHWAY', 'KEGG_PROGESTERONE_MEDIATED_OOCYTE_MATURATION', 'KEGG_TYPE_II_DIABETES_MELLITUS', 'KEGG_INSULIN_SIGNALING_PATHWAY', 'KEGG_CELL_ADHESION_MOLECULES_CAMS', 'KEGG_PHOSPHATIDYLINOSITOL_SIGNALING_SYSTEM', 'KEGG_STARCH_AND_SUCROSE_METABOLISM', 'KEGG_TRYPTOPHAN_METABOLISM', 'KEGG_NUCLEOTIDE_EXCISION_REPAIR', 'KEGG_RIG_I_LIKE_RECEPTOR_SIGNALING_PATHWAY', 'KEGG_PRIMARY_IMMUNODEFICIENCY', 'KEGG_GLUTATHIONE_METABOLISM', 'KEGG_JAK_STAT_SIGNALING_PATHWAY', 'KEGG_HEMATOPOIETIC_CELL_LINEAGE', 'KEGG_TGF_BETA_SIGNALING_PATHWAY', 'KEGG_ALANINE_ASPARTATE_AND_GLUTAMATE_METABOLISM', 'KEGG_GALACTOSE_METABOLISM', 'KEGG_ACUTE_MYELOID_LEUKEMIA']}\n"
     ]
    }
   ],
   "source": [
    "nc = k\n",
    "clusters ={i:{'DEL':[],'DEM':[],'DEMi':[],'Pathways':[]} for i in range(1,nc+1)}\n",
    "#clustering = AgglomerativeClustering(n_clusters=nc).fit(dataset)\n",
    "labels = fcluster(Z,nc , criterion='maxclust').tolist()\n",
    "\n",
    "for i in range(len(labels)):\n",
    "    if keys[i] in coexp_del:\n",
    "        clusters[labels[i]]['DEL'].append(keys[i])\n",
    "    elif keys[i] in coexp_demi:\n",
    "        clusters[labels[i]]['DEMi'].append(keys[i])\n",
    "    elif keys[i] in coexp_dem:\n",
    "        clusters[labels[i]]['DEM'].append(keys[i])\n",
    "    else:\n",
    "        clusters[labels[i]]['Pathways'].append(keys[i])\n",
    "        \n",
    "for i in range(1,nc+1):\n",
    "    print(clusters[i])\n"
   ]
  },
  {
   "cell_type": "code",
   "execution_count": null,
   "metadata": {},
   "outputs": [],
   "source": []
  },
  {
   "cell_type": "code",
   "execution_count": null,
   "metadata": {},
   "outputs": [],
   "source": []
  },
  {
   "cell_type": "code",
   "execution_count": null,
   "metadata": {},
   "outputs": [],
   "source": []
  },
  {
   "cell_type": "code",
   "execution_count": 73,
   "metadata": {},
   "outputs": [],
   "source": [
    "from networkx.algorithms import bipartite"
   ]
  },
  {
   "cell_type": "code",
   "execution_count": 86,
   "metadata": {},
   "outputs": [
    {
     "data": {
      "text/plain": [
       "True"
      ]
     },
     "execution_count": 86,
     "metadata": {},
     "output_type": "execute_result"
    }
   ],
   "source": [
    "bipartite.is_bipartite(graph)"
   ]
  },
  {
   "cell_type": "code",
   "execution_count": 87,
   "metadata": {},
   "outputs": [
    {
     "data": {
      "text/plain": [
       "({'ABCC3',\n",
       "  'ABCC5',\n",
       "  'ADAM28',\n",
       "  'ADAMTS4',\n",
       "  'ADAMTS9',\n",
       "  'ADGRG6',\n",
       "  'AFF1',\n",
       "  'AHSA2',\n",
       "  'AIDA',\n",
       "  'ALOX5AP',\n",
       "  'AMD1',\n",
       "  'ANGPTL7',\n",
       "  'ANKRD33B',\n",
       "  'ANKRD36',\n",
       "  'ANKRD36B',\n",
       "  'ANKRD44',\n",
       "  'AP1S3',\n",
       "  'APOL6',\n",
       "  'ARAP2',\n",
       "  'ARHGAP15',\n",
       "  'ARHGAP21',\n",
       "  'ARL4A',\n",
       "  'ARRDC3',\n",
       "  'ART4',\n",
       "  'ASCL2',\n",
       "  'ASPN',\n",
       "  'ATAD5',\n",
       "  'ATF3',\n",
       "  'ATP2A2',\n",
       "  'ATP5G1',\n",
       "  'ATXN2L',\n",
       "  'ATXN7L1',\n",
       "  'AURKA',\n",
       "  'B4GALT6',\n",
       "  'BACE1‐AS',\n",
       "  'BACH2',\n",
       "  'BANK1',\n",
       "  'BATF',\n",
       "  'BCAR1',\n",
       "  'BCAS4',\n",
       "  'BCL11B',\n",
       "  'BCL2L11',\n",
       "  'BCYRN1',\n",
       "  'BEST3',\n",
       "  'BGN',\n",
       "  'BLNK',\n",
       "  'BMF',\n",
       "  'BMP4',\n",
       "  'BMP6',\n",
       "  'BMP7',\n",
       "  'BTLA',\n",
       "  'C1QB',\n",
       "  'C1QTNF1',\n",
       "  'C1RL',\n",
       "  'CACNA1I',\n",
       "  'CACNB4',\n",
       "  'CAMK4',\n",
       "  'CAPS',\n",
       "  'CASP8',\n",
       "  'CASS4',\n",
       "  'CCDC170',\n",
       "  'CCDC171',\n",
       "  'CCDC33',\n",
       "  'CCDC65',\n",
       "  'CCDC80',\n",
       "  'CCDC85C',\n",
       "  'CCDC88C',\n",
       "  'CCL2',\n",
       "  'CCL5',\n",
       "  'CCR7',\n",
       "  'CCSAP',\n",
       "  'CD19',\n",
       "  'CD226',\n",
       "  'CD244',\n",
       "  'CD28',\n",
       "  'CD3D',\n",
       "  'CD40LG',\n",
       "  'CD44',\n",
       "  'CD59',\n",
       "  'CDH7',\n",
       "  'CDH9',\n",
       "  'CDKN2A',\n",
       "  'CENPM',\n",
       "  'CENPN',\n",
       "  'CEP128',\n",
       "  'CEP85L',\n",
       "  'CFAP77',\n",
       "  'CFHR3',\n",
       "  'CFTR',\n",
       "  'CGNL1',\n",
       "  'CHAC1',\n",
       "  'CHDH',\n",
       "  'CHEK2',\n",
       "  'CHRDL1',\n",
       "  'CHST15',\n",
       "  'CISH',\n",
       "  'CLEC12A',\n",
       "  'CLEC4D',\n",
       "  'CLIC6',\n",
       "  'CLNK',\n",
       "  'CLSTN3',\n",
       "  'CNOT6L',\n",
       "  'CNTRL',\n",
       "  'COL14A1',\n",
       "  'COL16A1',\n",
       "  'COL1A1',\n",
       "  'COL1A2',\n",
       "  'COL22A1',\n",
       "  'COL4A3',\n",
       "  'COL4A4',\n",
       "  'COL5A1',\n",
       "  'COL8A1',\n",
       "  'CORO7',\n",
       "  'COTL1',\n",
       "  'COX5A',\n",
       "  'CREM',\n",
       "  'CRTAM',\n",
       "  'CSF1R',\n",
       "  'CSRNP3',\n",
       "  'CTGF',\n",
       "  'CTRC',\n",
       "  'CXCL11',\n",
       "  'CXCL13',\n",
       "  'CXCL9',\n",
       "  'CXCR2',\n",
       "  'CXCR4',\n",
       "  'CXCR6',\n",
       "  'CYBA',\n",
       "  'CYCS',\n",
       "  'CYTIP',\n",
       "  'DAAM2',\n",
       "  'DCAF12L2',\n",
       "  'DCHS2',\n",
       "  'DDIT4',\n",
       "  'DDX60',\n",
       "  'DLEU1',\n",
       "  'DLX5',\n",
       "  'DMXL2',\n",
       "  'DNAJB5',\n",
       "  'DNALI1',\n",
       "  'DOCK10',\n",
       "  'DOK3',\n",
       "  'DUSP18',\n",
       "  'DUSP2',\n",
       "  'DYRK3',\n",
       "  'E2F2',\n",
       "  'E2F8',\n",
       "  'EAF2',\n",
       "  'EBI3',\n",
       "  'EDA2R',\n",
       "  'EDEM1',\n",
       "  'EDN2',\n",
       "  'EGOT',\n",
       "  'EIF1AY',\n",
       "  'EIF4EBP2',\n",
       "  'EML4',\n",
       "  'ENAM',\n",
       "  'ENDOG',\n",
       "  'ENTPD1',\n",
       "  'EPB41',\n",
       "  'EPHA7',\n",
       "  'ERAP2',\n",
       "  'EREG',\n",
       "  'ERI2',\n",
       "  'ERN1',\n",
       "  'ERP27',\n",
       "  'ESR1',\n",
       "  'EVI2A',\n",
       "  'EXPH5',\n",
       "  'F2R',\n",
       "  'F3',\n",
       "  'FAAH',\n",
       "  'FAM105A',\n",
       "  'FAM117B',\n",
       "  'FAM167B',\n",
       "  'FAM217B',\n",
       "  'FAM43A',\n",
       "  'FAM46B',\n",
       "  'FAM46C',\n",
       "  'FAM49A',\n",
       "  'FAM81B',\n",
       "  'FAM83F',\n",
       "  'FAM84A',\n",
       "  'FASLG',\n",
       "  'FASN',\n",
       "  'FBXL2',\n",
       "  'FBXO41',\n",
       "  'FCGR1B',\n",
       "  'FCRL2',\n",
       "  'FERMT2',\n",
       "  'FGFBP3',\n",
       "  'FKBP4',\n",
       "  'FKBP5',\n",
       "  'FKTN',\n",
       "  'FMO3',\n",
       "  'FNBP1',\n",
       "  'FNDC9',\n",
       "  'FOLH1',\n",
       "  'FOLR2',\n",
       "  'FOSL1',\n",
       "  'FOXN2',\n",
       "  'FRMPD4',\n",
       "  'FUT4',\n",
       "  'GABRB1',\n",
       "  'GALNT3',\n",
       "  'GAS1',\n",
       "  'GAS5',\n",
       "  'GATA4',\n",
       "  'GBP2',\n",
       "  'GCK',\n",
       "  'GCNT1',\n",
       "  'GCSAM',\n",
       "  'GDF10',\n",
       "  'GFPT2',\n",
       "  'GINS2',\n",
       "  'GLCCI1',\n",
       "  'GLI2',\n",
       "  'GLIS2',\n",
       "  'GOLGA7B',\n",
       "  'GOLM1',\n",
       "  'GPR183',\n",
       "  'GPR45',\n",
       "  'GPRC5A',\n",
       "  'GPX6',\n",
       "  'GRAMD1C',\n",
       "  'GRAP2',\n",
       "  'GRID1',\n",
       "  'GRIK2',\n",
       "  'GRIK3',\n",
       "  'GRM8',\n",
       "  'GSTM5',\n",
       "  'H19',\n",
       "  'H2AFZ',\n",
       "  'HACD4',\n",
       "  'HAPLN1',\n",
       "  'HAUS5',\n",
       "  'HAVCR2',\n",
       "  'HDAC9',\n",
       "  'HDGF',\n",
       "  'HES6',\n",
       "  'HIST1H3B',\n",
       "  'HIST1H3H',\n",
       "  'HIST2H3A',\n",
       "  'HMGN2',\n",
       "  'HOPX',\n",
       "  'HOTAIR',\n",
       "  'HOXA11‐AS',\n",
       "  'HOXC4',\n",
       "  'HS6ST3',\n",
       "  'HSPA1B',\n",
       "  'HSPA6',\n",
       "  'HTR2A',\n",
       "  'IAPP',\n",
       "  'ICMT',\n",
       "  'IDH2',\n",
       "  'IER3',\n",
       "  'IFIH1',\n",
       "  'IFNG',\n",
       "  'IFRD2',\n",
       "  'IGF1',\n",
       "  'IGFBP2',\n",
       "  'IGFLR1',\n",
       "  'IGSF6',\n",
       "  'IKZF1',\n",
       "  'IKZF3',\n",
       "  'IL10RA',\n",
       "  'IL17RB',\n",
       "  'IL18',\n",
       "  'IL18RAP',\n",
       "  'IL21R',\n",
       "  'IL5RA',\n",
       "  'IL7R',\n",
       "  'INO80D',\n",
       "  'INPP5D',\n",
       "  'INPP5J',\n",
       "  'INTU',\n",
       "  'IP6K3',\n",
       "  'IPCEF1',\n",
       "  'IRAK3',\n",
       "  'IRF4',\n",
       "  'IRS1',\n",
       "  'ISLR2',\n",
       "  'ITGAX',\n",
       "  'ITGB2',\n",
       "  'ITGB3',\n",
       "  'JAKMIP2',\n",
       "  'JAML',\n",
       "  'KCNA4',\n",
       "  'KCNB1',\n",
       "  'KCNIP2',\n",
       "  'KCNJ2',\n",
       "  'KCNK1',\n",
       "  'KCNN2',\n",
       "  'KCNN3',\n",
       "  'KDM5D',\n",
       "  'KIAA0408',\n",
       "  'KIAA0513',\n",
       "  'KIAA1456',\n",
       "  'KIAA1551',\n",
       "  'KIAA1958',\n",
       "  'KIF11',\n",
       "  'KIF21B',\n",
       "  'KLHDC8B',\n",
       "  'KLLN',\n",
       "  'KLRC1',\n",
       "  'KLRC3',\n",
       "  'KLRC4',\n",
       "  'KLRD1',\n",
       "  'KNTC1',\n",
       "  'KRT222',\n",
       "  'KRT80',\n",
       "  'KY',\n",
       "  'KYNU',\n",
       "  'LAIR1',\n",
       "  'LAMP3',\n",
       "  'LAMP5',\n",
       "  'LAX1',\n",
       "  'LCP1',\n",
       "  'LDLR',\n",
       "  'LFNG',\n",
       "  'LIF',\n",
       "  'LIG1',\n",
       "  'LILRA2',\n",
       "  'LILRA4',\n",
       "  'LILRB1',\n",
       "  'LILRB2',\n",
       "  'LILRB4',\n",
       "  'LINC00632',\n",
       "  'LINKROR',\n",
       "  'LMCD1',\n",
       "  'LONRF3',\n",
       "  'LPAR2',\n",
       "  'LPAR3',\n",
       "  'LPXN',\n",
       "  'LRFN1',\n",
       "  'LRRC17',\n",
       "  'LRRC38',\n",
       "  'LRRC8E',\n",
       "  'LSAMP',\n",
       "  'LTBP2',\n",
       "  'MAML3',\n",
       "  'MARCH1',\n",
       "  'MARVELD2',\n",
       "  'MAT2A',\n",
       "  'MB21D1',\n",
       "  'MCTP2',\n",
       "  'MDGA1',\n",
       "  'MDK',\n",
       "  'MEG3',\n",
       "  'MET',\n",
       "  'METTL21A',\n",
       "  'METTL7A',\n",
       "  'MEX3D',\n",
       "  'MFSD4A',\n",
       "  'MGAT4C',\n",
       "  'MID1IP1',\n",
       "  'MIDN',\n",
       "  'MIS18BP1',\n",
       "  'MLXIPL',\n",
       "  'MMP9',\n",
       "  'MNDA',\n",
       "  'MORN4',\n",
       "  'MOSPD1',\n",
       "  'MPEG1',\n",
       "  'MPP2',\n",
       "  'MREG',\n",
       "  'MSI2',\n",
       "  'MT1E',\n",
       "  'MYBL1',\n",
       "  'MYO1F',\n",
       "  'MYO5A',\n",
       "  'MYOG',\n",
       "  'MYPN',\n",
       "  'NABP1',\n",
       "  'NACC2',\n",
       "  'NAMPT',\n",
       "  'NAT8L',\n",
       "  'NAV1',\n",
       "  'NBPF10',\n",
       "  'NCK2',\n",
       "  'NECTIN1',\n",
       "  'NFAM1',\n",
       "  'NFATC2',\n",
       "  'NFIL3',\n",
       "  'NHLRC3',\n",
       "  'NID2',\n",
       "  'NIPAL1',\n",
       "  'NLRC3',\n",
       "  'NLRC5',\n",
       "  'NOD2',\n",
       "  'NOTCH2',\n",
       "  'NOTCH2NL',\n",
       "  'NPTX2',\n",
       "  'NPY4R',\n",
       "  'NR4A2',\n",
       "  'NR4A3',\n",
       "  'NT5DC2',\n",
       "  'NTN1',\n",
       "  'NUDT4',\n",
       "  'NUP210',\n",
       "  'OCIAD2',\n",
       "  'OSBPL3',\n",
       "  'OTUD6A',\n",
       "  'OTUD7A',\n",
       "  'P2RY1',\n",
       "  'P3H2',\n",
       "  'PAQR5',\n",
       "  'PARP11',\n",
       "  'PARP15',\n",
       "  'PARP4',\n",
       "  'PAX4',\n",
       "  'PBOV1',\n",
       "  'PCAT1',\n",
       "  'PCBP3',\n",
       "  'PCP4L1',\n",
       "  'PDE4A',\n",
       "  'PDE4DIP',\n",
       "  'PHF21B',\n",
       "  'PHLDA1',\n",
       "  'PHLDA2',\n",
       "  'PIK3CD',\n",
       "  'PIK3CG',\n",
       "  'PIK3R1',\n",
       "  'PIM1',\n",
       "  'PIM2',\n",
       "  'PIM3',\n",
       "  'PITPNM2',\n",
       "  'PITX1',\n",
       "  'PLA2G7',\n",
       "  'PLAC8',\n",
       "  'PLCB2',\n",
       "  'PLEKHH2',\n",
       "  'PLEKHO1',\n",
       "  'PLXDC2',\n",
       "  'PLXNC1',\n",
       "  'PMAIP1',\n",
       "  'PNMA2',\n",
       "  'PNOC',\n",
       "  'PPIL1',\n",
       "  'PPM1K',\n",
       "  'PPP1CC',\n",
       "  'PRDM1',\n",
       "  'PRDX6',\n",
       "  'PRKCB',\n",
       "  'PROSER1',\n",
       "  'PRRG4',\n",
       "  'PRSS16',\n",
       "  'PSD4',\n",
       "  'PSMB8',\n",
       "  'PSTPIP2',\n",
       "  'PTGDR2',\n",
       "  'PTK2B',\n",
       "  'PTK6',\n",
       "  'PTPN22',\n",
       "  'PTPRC',\n",
       "  'PTPRO',\n",
       "  'PTPRU',\n",
       "  'PYGO1',\n",
       "  'RAB11FIP4',\n",
       "  'RAB15',\n",
       "  'RAB30',\n",
       "  'RAB39B',\n",
       "  'RAB3C',\n",
       "  'RAB3IP',\n",
       "  'RAB44',\n",
       "  'RAB8B',\n",
       "  'RANBP6',\n",
       "  'RAPGEFL1',\n",
       "  'RASGRP3',\n",
       "  'RASSF2',\n",
       "  'RBM38',\n",
       "  'RBM43',\n",
       "  'RBM47',\n",
       "  'REEP4',\n",
       "  'RGS9BP',\n",
       "  'RHOH',\n",
       "  'RIMS3',\n",
       "  'RIPK4',\n",
       "  'RNASE6',\n",
       "  'RNASET2',\n",
       "  'RNF122',\n",
       "  'RNF125',\n",
       "  'RNF213',\n",
       "  'RNF6',\n",
       "  'RNFT2',\n",
       "  'RPAIN',\n",
       "  'RPGRIP1',\n",
       "  'RPH3A',\n",
       "  'RRAD',\n",
       "  'RTN4RL1',\n",
       "  'RUNX1',\n",
       "  'RUNX2',\n",
       "  'RYR3',\n",
       "  'S100A16',\n",
       "  'S100A7A',\n",
       "  'SAMD9L',\n",
       "  'SCGB1D1',\n",
       "  'SCGB1D2',\n",
       "  'SCN9A',\n",
       "  'SEL1L3',\n",
       "  'SEMA4B',\n",
       "  'SEMA6B',\n",
       "  'SEPT1',\n",
       "  'SEPT11',\n",
       "  'SEPT6',\n",
       "  'SERPINA3',\n",
       "  'SFMBT2',\n",
       "  'SFRP4',\n",
       "  'SGPP2',\n",
       "  'SH3TC2',\n",
       "  'SHCBP1',\n",
       "  'SIDT1',\n",
       "  'SIGLEC14',\n",
       "  'SIT1',\n",
       "  'SLAMF1',\n",
       "  'SLC16A9',\n",
       "  'SLC18B1',\n",
       "  'SLC23A3',\n",
       "  'SLC24A2',\n",
       "  'SLC25A25',\n",
       "  'SLC25A45',\n",
       "  'SLC2A13',\n",
       "  'SLC2A5',\n",
       "  'SLC39A14',\n",
       "  'SLC43A3',\n",
       "  'SLC4A1',\n",
       "  'SLC6A9',\n",
       "  'SLCO4C1',\n",
       "  'SLCO5A1',\n",
       "  'SLFN12L',\n",
       "  'SLFN13',\n",
       "  'SLITRK4',\n",
       "  'SMCR8',\n",
       "  'SMPD3',\n",
       "  'SMTNL2',\n",
       "  'SNRPC',\n",
       "  'SNX22',\n",
       "  'SOCS1',\n",
       "  'SOCS6',\n",
       "  'SOGA3',\n",
       "  'SOX2‐OT',\n",
       "  'SP140L',\n",
       "  'SPIC',\n",
       "  'SPN',\n",
       "  'SPNS3',\n",
       "  'SPOCK2',\n",
       "  'SPRY3',\n",
       "  'SPTBN2',\n",
       "  'SRCIN1',\n",
       "  'SREBF1',\n",
       "  'SRGAP2',\n",
       "  'SSC5D',\n",
       "  'STARD5',\n",
       "  'STK17B',\n",
       "  'STK4',\n",
       "  'STON2',\n",
       "  'STYK1',\n",
       "  'SUSD5',\n",
       "  'SVOP',\n",
       "  'SYNRG',\n",
       "  'SYT17',\n",
       "  'SYT7',\n",
       "  'TACC1',\n",
       "  'TACC3',\n",
       "  'TAS2R30',\n",
       "  'TCF7',\n",
       "  'TCOF1',\n",
       "  'TFCP2L1',\n",
       "  'TFF1',\n",
       "  'TGFBR2',\n",
       "  'TGM1',\n",
       "  'THBS1',\n",
       "  'THEMIS2',\n",
       "  'THY1',\n",
       "  'TIGIT',\n",
       "  'TLR5',\n",
       "  'TLR6',\n",
       "  'TLR7',\n",
       "  'TM4SF1',\n",
       "  'TMED8',\n",
       "  'TMEM108',\n",
       "  'TMEM130',\n",
       "  'TMEM154',\n",
       "  'TMEM156',\n",
       "  'TMEM254',\n",
       "  'TMEM30B',\n",
       "  'TMEM79',\n",
       "  'TMSB4X',\n",
       "  'TNFAIP3',\n",
       "  'TNFAIP8',\n",
       "  'TNFSF14',\n",
       "  'TNIP3',\n",
       "  'TONSL',\n",
       "  'TOX',\n",
       "  'TP53INP1',\n",
       "  'TRABD2A',\n",
       "  'TRAF1',\n",
       "  'TRAF5',\n",
       "  'TRANK1',\n",
       "  'TRAT1',\n",
       "  'TRERF1',\n",
       "  'TRIM10',\n",
       "  'TRIM14',\n",
       "  'TRIM22',\n",
       "  'TRIM59',\n",
       "  'TRMT5',\n",
       "  'TRPC4',\n",
       "  'TUBA1C',\n",
       "  'TUBB2A',\n",
       "  'TUG1',\n",
       "  'TUSC1',\n",
       "  'TXK',\n",
       "  'TXNDC5',\n",
       "  'TXNIP',\n",
       "  'UCHL1',\n",
       "  'UNC93B1',\n",
       "  'UNKL',\n",
       "  'UTP11',\n",
       "  'VAC14',\n",
       "  'VANGL2',\n",
       "  'VASN',\n",
       "  'VAV1',\n",
       "  'VAV2',\n",
       "  'VAV3',\n",
       "  'VCAM1',\n",
       "  'VDR',\n",
       "  'VENTX',\n",
       "  'VLDLR‐AS1',\n",
       "  'VNN2',\n",
       "  'WNT3A',\n",
       "  'WWC1',\n",
       "  'XRCC3',\n",
       "  'ZBTB37',\n",
       "  'ZDHHC15',\n",
       "  'ZFHX4',\n",
       "  'ZFP14',\n",
       "  'ZFP36L2',\n",
       "  'ZFY',\n",
       "  'ZMYND8',\n",
       "  'ZNF157',\n",
       "  'ZNF215',\n",
       "  'ZNF217',\n",
       "  'ZNF226',\n",
       "  'ZNF546',\n",
       "  'ZNF594',\n",
       "  'ZNF774',\n",
       "  'ZNF780A',\n",
       "  'ZNF846',\n",
       "  'ZWINT'},\n",
       " {'KEGG_ABC_TRANSPORTERS',\n",
       "  'KEGG_ACUTE_MYELOID_LEUKEMIA',\n",
       "  'KEGG_ADHERENS_JUNCTION',\n",
       "  'KEGG_ADIPOCYTOKINE_SIGNALING_PATHWAY',\n",
       "  'KEGG_ALANINE_ASPARTATE_AND_GLUTAMATE_METABOLISM',\n",
       "  'KEGG_ALDOSTERONE_REGULATED_SODIUM_REABSORPTION',\n",
       "  'KEGG_ALLOGRAFT_REJECTION',\n",
       "  'KEGG_ALZHEIMERS_DISEASE',\n",
       "  'KEGG_AMINO_SUGAR_AND_NUCLEOTIDE_SUGAR_METABOLISM',\n",
       "  'KEGG_AMYOTROPHIC_LATERAL_SCLEROSIS_ALS',\n",
       "  'KEGG_ANTIGEN_PROCESSING_AND_PRESENTATION',\n",
       "  'KEGG_APOPTOSIS',\n",
       "  'KEGG_ARACHIDONIC_ACID_METABOLISM',\n",
       "  'KEGG_ARGININE_AND_PROLINE_METABOLISM',\n",
       "  'KEGG_ARRHYTHMOGENIC_RIGHT_VENTRICULAR_CARDIOMYOPATHY_ARVC',\n",
       "  'KEGG_ASTHMA',\n",
       "  'KEGG_AUTOIMMUNE_THYROID_DISEASE',\n",
       "  'KEGG_AXON_GUIDANCE',\n",
       "  'KEGG_BASAL_CELL_CARCINOMA',\n",
       "  'KEGG_BASE_EXCISION_REPAIR',\n",
       "  'KEGG_BLADDER_CANCER',\n",
       "  'KEGG_B_CELL_RECEPTOR_SIGNALING_PATHWAY',\n",
       "  'KEGG_CALCIUM_SIGNALING_PATHWAY',\n",
       "  'KEGG_CARDIAC_MUSCLE_CONTRACTION',\n",
       "  'KEGG_CELL_ADHESION_MOLECULES_CAMS',\n",
       "  'KEGG_CELL_CYCLE',\n",
       "  'KEGG_CHEMOKINE_SIGNALING_PATHWAY',\n",
       "  'KEGG_CHRONIC_MYELOID_LEUKEMIA',\n",
       "  'KEGG_CITRATE_CYCLE_TCA_CYCLE',\n",
       "  'KEGG_COLORECTAL_CANCER',\n",
       "  'KEGG_COMPLEMENT_AND_COAGULATION_CASCADES',\n",
       "  'KEGG_CYSTEINE_AND_METHIONINE_METABOLISM',\n",
       "  'KEGG_CYTOKINE_CYTOKINE_RECEPTOR_INTERACTION',\n",
       "  'KEGG_CYTOSOLIC_DNA_SENSING_PATHWAY',\n",
       "  'KEGG_DILATED_CARDIOMYOPATHY',\n",
       "  'KEGG_DNA_REPLICATION',\n",
       "  'KEGG_DORSO_VENTRAL_AXIS_FORMATION',\n",
       "  'KEGG_DRUG_METABOLISM_CYTOCHROME_P450',\n",
       "  'KEGG_ECM_RECEPTOR_INTERACTION',\n",
       "  'KEGG_ENDOCYTOSIS',\n",
       "  'KEGG_ENDOMETRIAL_CANCER',\n",
       "  'KEGG_EPITHELIAL_CELL_SIGNALING_IN_HELICOBACTER_PYLORI_INFECTION',\n",
       "  'KEGG_ERBB_SIGNALING_PATHWAY',\n",
       "  'KEGG_ETHER_LIPID_METABOLISM',\n",
       "  'KEGG_FC_EPSILON_RI_SIGNALING_PATHWAY',\n",
       "  'KEGG_FC_GAMMA_R_MEDIATED_PHAGOCYTOSIS',\n",
       "  'KEGG_FOCAL_ADHESION',\n",
       "  'KEGG_GALACTOSE_METABOLISM',\n",
       "  'KEGG_GAP_JUNCTION',\n",
       "  'KEGG_GLIOMA',\n",
       "  'KEGG_GLUTATHIONE_METABOLISM',\n",
       "  'KEGG_GLYCINE_SERINE_AND_THREONINE_METABOLISM',\n",
       "  'KEGG_GLYCOLYSIS_GLUCONEOGENESIS',\n",
       "  'KEGG_GLYCOSAMINOGLYCAN_BIOSYNTHESIS_CHONDROITIN_SULFATE',\n",
       "  'KEGG_GLYCOSAMINOGLYCAN_BIOSYNTHESIS_HEPARAN_SULFATE',\n",
       "  'KEGG_GLYCOSPHINGOLIPID_BIOSYNTHESIS_LACTO_AND_NEOLACTO_SERIES',\n",
       "  'KEGG_GNRH_SIGNALING_PATHWAY',\n",
       "  'KEGG_GRAFT_VERSUS_HOST_DISEASE',\n",
       "  'KEGG_HEDGEHOG_SIGNALING_PATHWAY',\n",
       "  'KEGG_HEMATOPOIETIC_CELL_LINEAGE',\n",
       "  'KEGG_HOMOLOGOUS_RECOMBINATION',\n",
       "  'KEGG_HUNTINGTONS_DISEASE',\n",
       "  'KEGG_HYPERTROPHIC_CARDIOMYOPATHY_HCM',\n",
       "  'KEGG_INOSITOL_PHOSPHATE_METABOLISM',\n",
       "  'KEGG_INSULIN_SIGNALING_PATHWAY',\n",
       "  'KEGG_INTESTINAL_IMMUNE_NETWORK_FOR_IGA_PRODUCTION',\n",
       "  'KEGG_JAK_STAT_SIGNALING_PATHWAY',\n",
       "  'KEGG_LEISHMANIA_INFECTION',\n",
       "  'KEGG_LEUKOCYTE_TRANSENDOTHELIAL_MIGRATION',\n",
       "  'KEGG_LONG_TERM_DEPRESSION',\n",
       "  'KEGG_LONG_TERM_POTENTIATION',\n",
       "  'KEGG_LYSOSOME',\n",
       "  'KEGG_MAPK_SIGNALING_PATHWAY',\n",
       "  'KEGG_MATURITY_ONSET_DIABETES_OF_THE_YOUNG',\n",
       "  'KEGG_MELANOGENESIS',\n",
       "  'KEGG_MELANOMA',\n",
       "  'KEGG_METABOLISM_OF_XENOBIOTICS_BY_CYTOCHROME_P450',\n",
       "  'KEGG_MISMATCH_REPAIR',\n",
       "  'KEGG_MTOR_SIGNALING_PATHWAY',\n",
       "  'KEGG_NATURAL_KILLER_CELL_MEDIATED_CYTOTOXICITY',\n",
       "  'KEGG_NEUROACTIVE_LIGAND_RECEPTOR_INTERACTION',\n",
       "  'KEGG_NEUROTROPHIN_SIGNALING_PATHWAY',\n",
       "  'KEGG_NICOTINATE_AND_NICOTINAMIDE_METABOLISM',\n",
       "  'KEGG_NOD_LIKE_RECEPTOR_SIGNALING_PATHWAY',\n",
       "  'KEGG_NON_SMALL_CELL_LUNG_CANCER',\n",
       "  'KEGG_NOTCH_SIGNALING_PATHWAY',\n",
       "  'KEGG_NUCLEOTIDE_EXCISION_REPAIR',\n",
       "  'KEGG_OOCYTE_MEIOSIS',\n",
       "  'KEGG_OXIDATIVE_PHOSPHORYLATION',\n",
       "  'KEGG_O_GLYCAN_BIOSYNTHESIS',\n",
       "  'KEGG_P53_SIGNALING_PATHWAY',\n",
       "  'KEGG_PANCREATIC_CANCER',\n",
       "  'KEGG_PANTOTHENATE_AND_COA_BIOSYNTHESIS',\n",
       "  'KEGG_PARKINSONS_DISEASE',\n",
       "  'KEGG_PATHOGENIC_ESCHERICHIA_COLI_INFECTION',\n",
       "  'KEGG_PATHWAYS_IN_CANCER',\n",
       "  'KEGG_PEROXISOME',\n",
       "  'KEGG_PHENYLALANINE_METABOLISM',\n",
       "  'KEGG_PHOSPHATIDYLINOSITOL_SIGNALING_SYSTEM',\n",
       "  'KEGG_PRIMARY_IMMUNODEFICIENCY',\n",
       "  'KEGG_PRION_DISEASES',\n",
       "  'KEGG_PROGESTERONE_MEDIATED_OOCYTE_MATURATION',\n",
       "  'KEGG_PROSTATE_CANCER',\n",
       "  'KEGG_PROTEASOME',\n",
       "  'KEGG_PURINE_METABOLISM',\n",
       "  'KEGG_PYRIMIDINE_METABOLISM',\n",
       "  'KEGG_REGULATION_OF_ACTIN_CYTOSKELETON',\n",
       "  'KEGG_REGULATION_OF_AUTOPHAGY',\n",
       "  'KEGG_RENAL_CELL_CARCINOMA',\n",
       "  'KEGG_RIG_I_LIKE_RECEPTOR_SIGNALING_PATHWAY',\n",
       "  'KEGG_RNA_DEGRADATION',\n",
       "  'KEGG_SELENOAMINO_ACID_METABOLISM',\n",
       "  'KEGG_SMALL_CELL_LUNG_CANCER',\n",
       "  'KEGG_SPHINGOLIPID_METABOLISM',\n",
       "  'KEGG_SPLICEOSOME',\n",
       "  'KEGG_STARCH_AND_SUCROSE_METABOLISM',\n",
       "  'KEGG_SYSTEMIC_LUPUS_ERYTHEMATOSUS',\n",
       "  'KEGG_TASTE_TRANSDUCTION',\n",
       "  'KEGG_TGF_BETA_SIGNALING_PATHWAY',\n",
       "  'KEGG_THYROID_CANCER',\n",
       "  'KEGG_TIGHT_JUNCTION',\n",
       "  'KEGG_TOLL_LIKE_RECEPTOR_SIGNALING_PATHWAY',\n",
       "  'KEGG_TRYPTOPHAN_METABOLISM',\n",
       "  'KEGG_TYPE_II_DIABETES_MELLITUS',\n",
       "  'KEGG_TYPE_I_DIABETES_MELLITUS',\n",
       "  'KEGG_T_CELL_RECEPTOR_SIGNALING_PATHWAY',\n",
       "  'KEGG_UBIQUITIN_MEDIATED_PROTEOLYSIS',\n",
       "  'KEGG_VASCULAR_SMOOTH_MUSCLE_CONTRACTION',\n",
       "  'KEGG_VEGF_SIGNALING_PATHWAY',\n",
       "  'KEGG_VIBRIO_CHOLERAE_INFECTION',\n",
       "  'KEGG_VIRAL_MYOCARDITIS',\n",
       "  'KEGG_WNT_SIGNALING_PATHWAY',\n",
       "  'hsa-let-7a-5p',\n",
       "  'hsa-let-7g-5p',\n",
       "  'hsa-let-7i-5p',\n",
       "  'hsa-miR-101-3p',\n",
       "  'hsa-miR-1202',\n",
       "  'hsa-miR-1238-3p',\n",
       "  'hsa-miR-15a-3p',\n",
       "  'hsa-miR-181a-5p',\n",
       "  'hsa-miR-1825',\n",
       "  'hsa-miR-183-5p',\n",
       "  'hsa-miR-197-3p',\n",
       "  'hsa-miR-22-3p',\n",
       "  'hsa-miR-23a-3p',\n",
       "  'hsa-miR-26b-5p',\n",
       "  'hsa-miR-302d-5p',\n",
       "  'hsa-miR-30d-5p',\n",
       "  'hsa-miR-320a',\n",
       "  'hsa-miR-320b',\n",
       "  'hsa-miR-320c',\n",
       "  'hsa-miR-320d',\n",
       "  'hsa-miR-320e',\n",
       "  'hsa-miR-324-3p',\n",
       "  'hsa-miR-382-3p',\n",
       "  'hsa-miR-423-5p',\n",
       "  'hsa-miR-483-3p',\n",
       "  'hsa-miR-486-5p',\n",
       "  'hsa-miR-491-3p',\n",
       "  'hsa-miR-542-3p',\n",
       "  'hsa-miR-548ap-3p',\n",
       "  'hsa-miR-548c-3p',\n",
       "  'hsa-miR-548f-3p',\n",
       "  'hsa-miR-574-5p',\n",
       "  'hsa-miR-576-5p',\n",
       "  'hsa-miR-580-3p',\n",
       "  'hsa-miR-586',\n",
       "  'hsa-miR-590-3p',\n",
       "  'hsa-miR-597-5p',\n",
       "  'hsa-miR-616-3p',\n",
       "  'hsa-miR-6883-3p',\n",
       "  'hsa-miR-7f-5p',\n",
       "  'hsa-miR-8485',\n",
       "  'hsa-miR-876-3p',\n",
       "  'hsa-miR-940'})"
      ]
     },
     "execution_count": 87,
     "metadata": {},
     "output_type": "execute_result"
    }
   ],
   "source": [
    "bipartite.sets(graph)"
   ]
  },
  {
   "cell_type": "code",
   "execution_count": 78,
   "metadata": {},
   "outputs": [],
   "source": [
    "c = bipartite.clustering(graph,mode='dot')"
   ]
  },
  {
   "cell_type": "code",
   "execution_count": 79,
   "metadata": {},
   "outputs": [
    {
     "data": {
      "text/plain": [
       "0.13349649552022533"
      ]
     },
     "execution_count": 79,
     "metadata": {},
     "output_type": "execute_result"
    }
   ],
   "source": [
    "c['HOTAIR']"
   ]
  },
  {
   "cell_type": "code",
   "execution_count": 81,
   "metadata": {},
   "outputs": [],
   "source": [
    "closeness =bipartite.closeness_centrality(graph,graph.nodes)"
   ]
  },
  {
   "cell_type": "code",
   "execution_count": 85,
   "metadata": {},
   "outputs": [
    {
     "data": {
      "text/plain": [
       "0.5709330558446063"
      ]
     },
     "execution_count": 85,
     "metadata": {},
     "output_type": "execute_result"
    }
   ],
   "source": [
    "closeness['HOTAIR']"
   ]
  },
  {
   "cell_type": "code",
   "execution_count": 88,
   "metadata": {},
   "outputs": [],
   "source": [
    "from networkx.algorithms import community"
   ]
  },
  {
   "cell_type": "code",
   "execution_count": 93,
   "metadata": {},
   "outputs": [],
   "source": [
    "communities_generator = community.girvan_newman(graph)"
   ]
  },
  {
   "cell_type": "code",
   "execution_count": 94,
   "metadata": {},
   "outputs": [],
   "source": [
    "top_level_communities = next(communities_generator)"
   ]
  },
  {
   "cell_type": "code",
   "execution_count": 95,
   "metadata": {},
   "outputs": [],
   "source": [
    "next_level_communities = next(communities_generator)"
   ]
  },
  {
   "cell_type": "code",
   "execution_count": 96,
   "metadata": {},
   "outputs": [
    {
     "data": {
      "text/plain": [
       "[['ABCC3',\n",
       "  'ABCC5',\n",
       "  'ADAM28',\n",
       "  'ADGRG6',\n",
       "  'AHSA2',\n",
       "  'AIDA',\n",
       "  'AMD1',\n",
       "  'ANGPTL7',\n",
       "  'ANKRD33B',\n",
       "  'ANKRD36',\n",
       "  'ANKRD36B',\n",
       "  'AP1S3',\n",
       "  'APOL6',\n",
       "  'ARAP2',\n",
       "  'ARHGAP15',\n",
       "  'ARHGAP21',\n",
       "  'ARL4A',\n",
       "  'ARRDC3',\n",
       "  'ART4',\n",
       "  'ASCL2',\n",
       "  'ASPN',\n",
       "  'ATAD5',\n",
       "  'ATF3',\n",
       "  'ATP2A2',\n",
       "  'ATP5G1',\n",
       "  'ATXN2L',\n",
       "  'ATXN7L1',\n",
       "  'AURKA',\n",
       "  'BACE1‐AS',\n",
       "  'BATF',\n",
       "  'BCAR1',\n",
       "  'BCAS4',\n",
       "  'BCL11B',\n",
       "  'BCL2L11',\n",
       "  'BCYRN1',\n",
       "  'BEST3',\n",
       "  'BLNK',\n",
       "  'BMF',\n",
       "  'BMP4',\n",
       "  'BMP6',\n",
       "  'BMP7',\n",
       "  'BTLA',\n",
       "  'C1QB',\n",
       "  'C1QTNF1',\n",
       "  'C1RL',\n",
       "  'CACNA1I',\n",
       "  'CACNB4',\n",
       "  'CAMK4',\n",
       "  'CAPS',\n",
       "  'CASP8',\n",
       "  'CASS4',\n",
       "  'CCDC170',\n",
       "  'CCDC171',\n",
       "  'CCDC33',\n",
       "  'CCDC65',\n",
       "  'CCDC80',\n",
       "  'CCDC85C',\n",
       "  'CCDC88C',\n",
       "  'CCL2',\n",
       "  'CCL5',\n",
       "  'CCR7',\n",
       "  'CCSAP',\n",
       "  'CD19',\n",
       "  'CD226',\n",
       "  'CD244',\n",
       "  'CD28',\n",
       "  'CD3D',\n",
       "  'CD40LG',\n",
       "  'CD44',\n",
       "  'CD59',\n",
       "  'CDH9',\n",
       "  'CDKN2A',\n",
       "  'CENPM',\n",
       "  'CENPN',\n",
       "  'CEP128',\n",
       "  'CEP85L',\n",
       "  'CFAP77',\n",
       "  'CFHR3',\n",
       "  'CFTR',\n",
       "  'CGNL1',\n",
       "  'CHAC1',\n",
       "  'CHEK2',\n",
       "  'CISH',\n",
       "  'CLIC6',\n",
       "  'CNOT6L',\n",
       "  'CNTRL',\n",
       "  'COL14A1',\n",
       "  'COL16A1',\n",
       "  'COL1A1',\n",
       "  'COL1A2',\n",
       "  'COL22A1',\n",
       "  'COL4A3',\n",
       "  'COL4A4',\n",
       "  'COL5A1',\n",
       "  'COL8A1',\n",
       "  'CORO7',\n",
       "  'COTL1',\n",
       "  'COX5A',\n",
       "  'CREM',\n",
       "  'CRTAM',\n",
       "  'CSF1R',\n",
       "  'CTRC',\n",
       "  'CXCL11',\n",
       "  'CXCL13',\n",
       "  'CXCL9',\n",
       "  'CXCR2',\n",
       "  'CXCR4',\n",
       "  'CXCR6',\n",
       "  'CYBA',\n",
       "  'CYCS',\n",
       "  'CYTIP',\n",
       "  'DAAM2',\n",
       "  'DCAF12L2',\n",
       "  'DCHS2',\n",
       "  'DDIT4',\n",
       "  'DDX60',\n",
       "  'DLEU1',\n",
       "  'DLX5',\n",
       "  'DMXL2',\n",
       "  'DNAJB5',\n",
       "  'DNALI1',\n",
       "  'DOCK10',\n",
       "  'DOK3',\n",
       "  'DUSP2',\n",
       "  'DYRK3',\n",
       "  'E2F2',\n",
       "  'E2F8',\n",
       "  'EAF2',\n",
       "  'EBI3',\n",
       "  'EDA2R',\n",
       "  'EDEM1',\n",
       "  'EDN2',\n",
       "  'EGOT',\n",
       "  'EIF1AY',\n",
       "  'EIF4EBP2',\n",
       "  'EML4',\n",
       "  'ENAM',\n",
       "  'ENDOG',\n",
       "  'ENTPD1',\n",
       "  'EPB41',\n",
       "  'EPHA7',\n",
       "  'ERAP2',\n",
       "  'EREG',\n",
       "  'ERI2',\n",
       "  'ERN1',\n",
       "  'ERP27',\n",
       "  'ESR1',\n",
       "  'EXPH5',\n",
       "  'F2R',\n",
       "  'F3',\n",
       "  'FAAH',\n",
       "  'FAM105A',\n",
       "  'FAM117B',\n",
       "  'FAM167B',\n",
       "  'FAM217B',\n",
       "  'FAM43A',\n",
       "  'FAM46B',\n",
       "  'FAM81B',\n",
       "  'FAM83F',\n",
       "  'FAM84A',\n",
       "  'FASLG',\n",
       "  'FASN',\n",
       "  'FBXL2',\n",
       "  'FBXO41',\n",
       "  'FCGR1B',\n",
       "  'FCRL2',\n",
       "  'FERMT2',\n",
       "  'FKBP4',\n",
       "  'FKBP5',\n",
       "  'FKTN',\n",
       "  'FMO3',\n",
       "  'FNDC9',\n",
       "  'FOLH1',\n",
       "  'FOLR2',\n",
       "  'FOSL1',\n",
       "  'FOXN2',\n",
       "  'FRMPD4',\n",
       "  'FUT4',\n",
       "  'GABRB1',\n",
       "  'GALNT3',\n",
       "  'GAS1',\n",
       "  'GAS5',\n",
       "  'GATA4',\n",
       "  'GBP2',\n",
       "  'GCK',\n",
       "  'GCNT1',\n",
       "  'GCSAM',\n",
       "  'GDF10',\n",
       "  'GFPT2',\n",
       "  'GINS2',\n",
       "  'GLI2',\n",
       "  'GLIS2',\n",
       "  'GOLM1',\n",
       "  'GPR183',\n",
       "  'GPR45',\n",
       "  'GPRC5A',\n",
       "  'GRAMD1C',\n",
       "  'GRAP2',\n",
       "  'GRID1',\n",
       "  'GRIK2',\n",
       "  'GRIK3',\n",
       "  'GRM8',\n",
       "  'GSTM5',\n",
       "  'H19',\n",
       "  'H2AFZ',\n",
       "  'HACD4',\n",
       "  'HAPLN1',\n",
       "  'HAVCR2',\n",
       "  'HDGF',\n",
       "  'HES6',\n",
       "  'HIST1H3B',\n",
       "  'HIST1H3H',\n",
       "  'HIST2H3A',\n",
       "  'HMGN2',\n",
       "  'HOPX',\n",
       "  'HOTAIR',\n",
       "  'HOXA11‐AS',\n",
       "  'HOXC4',\n",
       "  'HS6ST3',\n",
       "  'HSPA1B',\n",
       "  'HSPA6',\n",
       "  'HTR2A',\n",
       "  'IAPP',\n",
       "  'ICMT',\n",
       "  'IDH2',\n",
       "  'IER3',\n",
       "  'IFIH1',\n",
       "  'IFNG',\n",
       "  'IFRD2',\n",
       "  'IGF1',\n",
       "  'IGFBP2',\n",
       "  'IGFLR1',\n",
       "  'IGSF6',\n",
       "  'IKZF1',\n",
       "  'IKZF3',\n",
       "  'IL10RA',\n",
       "  'IL17RB',\n",
       "  'IL18',\n",
       "  'IL21R',\n",
       "  'IL5RA',\n",
       "  'IL7R',\n",
       "  'INO80D',\n",
       "  'INPP5D',\n",
       "  'INPP5J',\n",
       "  'IP6K3',\n",
       "  'IPCEF1',\n",
       "  'IRAK3',\n",
       "  'IRF4',\n",
       "  'IRS1',\n",
       "  'ITGAX',\n",
       "  'ITGB2',\n",
       "  'ITGB3',\n",
       "  'JAKMIP2',\n",
       "  'JAML',\n",
       "  'KCNB1',\n",
       "  'KCNIP2',\n",
       "  'KCNJ2',\n",
       "  'KCNN2',\n",
       "  'KCNN3',\n",
       "  'KDM5D',\n",
       "  'KEGG_ABC_TRANSPORTERS',\n",
       "  'KEGG_ACUTE_MYELOID_LEUKEMIA',\n",
       "  'KEGG_ADHERENS_JUNCTION',\n",
       "  'KEGG_ADIPOCYTOKINE_SIGNALING_PATHWAY',\n",
       "  'KEGG_ALANINE_ASPARTATE_AND_GLUTAMATE_METABOLISM',\n",
       "  'KEGG_ALDOSTERONE_REGULATED_SODIUM_REABSORPTION',\n",
       "  'KEGG_ALLOGRAFT_REJECTION',\n",
       "  'KEGG_ALZHEIMERS_DISEASE',\n",
       "  'KEGG_AMINO_SUGAR_AND_NUCLEOTIDE_SUGAR_METABOLISM',\n",
       "  'KEGG_AMYOTROPHIC_LATERAL_SCLEROSIS_ALS',\n",
       "  'KEGG_ANTIGEN_PROCESSING_AND_PRESENTATION',\n",
       "  'KEGG_APOPTOSIS',\n",
       "  'KEGG_ARGININE_AND_PROLINE_METABOLISM',\n",
       "  'KEGG_ARRHYTHMOGENIC_RIGHT_VENTRICULAR_CARDIOMYOPATHY_ARVC',\n",
       "  'KEGG_ASTHMA',\n",
       "  'KEGG_AUTOIMMUNE_THYROID_DISEASE',\n",
       "  'KEGG_AXON_GUIDANCE',\n",
       "  'KEGG_BASAL_CELL_CARCINOMA',\n",
       "  'KEGG_BLADDER_CANCER',\n",
       "  'KEGG_B_CELL_RECEPTOR_SIGNALING_PATHWAY',\n",
       "  'KEGG_CALCIUM_SIGNALING_PATHWAY',\n",
       "  'KEGG_CARDIAC_MUSCLE_CONTRACTION',\n",
       "  'KEGG_CELL_ADHESION_MOLECULES_CAMS',\n",
       "  'KEGG_CELL_CYCLE',\n",
       "  'KEGG_CHEMOKINE_SIGNALING_PATHWAY',\n",
       "  'KEGG_CHRONIC_MYELOID_LEUKEMIA',\n",
       "  'KEGG_CITRATE_CYCLE_TCA_CYCLE',\n",
       "  'KEGG_COLORECTAL_CANCER',\n",
       "  'KEGG_COMPLEMENT_AND_COAGULATION_CASCADES',\n",
       "  'KEGG_CYSTEINE_AND_METHIONINE_METABOLISM',\n",
       "  'KEGG_CYTOKINE_CYTOKINE_RECEPTOR_INTERACTION',\n",
       "  'KEGG_CYTOSOLIC_DNA_SENSING_PATHWAY',\n",
       "  'KEGG_DILATED_CARDIOMYOPATHY',\n",
       "  'KEGG_DORSO_VENTRAL_AXIS_FORMATION',\n",
       "  'KEGG_DRUG_METABOLISM_CYTOCHROME_P450',\n",
       "  'KEGG_ECM_RECEPTOR_INTERACTION',\n",
       "  'KEGG_ENDOCYTOSIS',\n",
       "  'KEGG_ENDOMETRIAL_CANCER',\n",
       "  'KEGG_EPITHELIAL_CELL_SIGNALING_IN_HELICOBACTER_PYLORI_INFECTION',\n",
       "  'KEGG_ERBB_SIGNALING_PATHWAY',\n",
       "  'KEGG_FC_EPSILON_RI_SIGNALING_PATHWAY',\n",
       "  'KEGG_FC_GAMMA_R_MEDIATED_PHAGOCYTOSIS',\n",
       "  'KEGG_FOCAL_ADHESION',\n",
       "  'KEGG_GALACTOSE_METABOLISM',\n",
       "  'KEGG_GAP_JUNCTION',\n",
       "  'KEGG_GLIOMA',\n",
       "  'KEGG_GLUTATHIONE_METABOLISM',\n",
       "  'KEGG_GLYCOLYSIS_GLUCONEOGENESIS',\n",
       "  'KEGG_GLYCOSAMINOGLYCAN_BIOSYNTHESIS_HEPARAN_SULFATE',\n",
       "  'KEGG_GLYCOSPHINGOLIPID_BIOSYNTHESIS_LACTO_AND_NEOLACTO_SERIES',\n",
       "  'KEGG_GNRH_SIGNALING_PATHWAY',\n",
       "  'KEGG_GRAFT_VERSUS_HOST_DISEASE',\n",
       "  'KEGG_HEDGEHOG_SIGNALING_PATHWAY',\n",
       "  'KEGG_HEMATOPOIETIC_CELL_LINEAGE',\n",
       "  'KEGG_HOMOLOGOUS_RECOMBINATION',\n",
       "  'KEGG_HUNTINGTONS_DISEASE',\n",
       "  'KEGG_HYPERTROPHIC_CARDIOMYOPATHY_HCM',\n",
       "  'KEGG_INOSITOL_PHOSPHATE_METABOLISM',\n",
       "  'KEGG_INSULIN_SIGNALING_PATHWAY',\n",
       "  'KEGG_INTESTINAL_IMMUNE_NETWORK_FOR_IGA_PRODUCTION',\n",
       "  'KEGG_JAK_STAT_SIGNALING_PATHWAY',\n",
       "  'KEGG_LEISHMANIA_INFECTION',\n",
       "  'KEGG_LEUKOCYTE_TRANSENDOTHELIAL_MIGRATION',\n",
       "  'KEGG_LONG_TERM_DEPRESSION',\n",
       "  'KEGG_LONG_TERM_POTENTIATION',\n",
       "  'KEGG_LYSOSOME',\n",
       "  'KEGG_MAPK_SIGNALING_PATHWAY',\n",
       "  'KEGG_MATURITY_ONSET_DIABETES_OF_THE_YOUNG',\n",
       "  'KEGG_MELANOGENESIS',\n",
       "  'KEGG_MELANOMA',\n",
       "  'KEGG_METABOLISM_OF_XENOBIOTICS_BY_CYTOCHROME_P450',\n",
       "  'KEGG_MTOR_SIGNALING_PATHWAY',\n",
       "  'KEGG_NATURAL_KILLER_CELL_MEDIATED_CYTOTOXICITY',\n",
       "  'KEGG_NEUROACTIVE_LIGAND_RECEPTOR_INTERACTION',\n",
       "  'KEGG_NEUROTROPHIN_SIGNALING_PATHWAY',\n",
       "  'KEGG_NICOTINATE_AND_NICOTINAMIDE_METABOLISM',\n",
       "  'KEGG_NOD_LIKE_RECEPTOR_SIGNALING_PATHWAY',\n",
       "  'KEGG_NON_SMALL_CELL_LUNG_CANCER',\n",
       "  'KEGG_NOTCH_SIGNALING_PATHWAY',\n",
       "  'KEGG_OOCYTE_MEIOSIS',\n",
       "  'KEGG_OXIDATIVE_PHOSPHORYLATION',\n",
       "  'KEGG_O_GLYCAN_BIOSYNTHESIS',\n",
       "  'KEGG_P53_SIGNALING_PATHWAY',\n",
       "  'KEGG_PANCREATIC_CANCER',\n",
       "  'KEGG_PANTOTHENATE_AND_COA_BIOSYNTHESIS',\n",
       "  'KEGG_PARKINSONS_DISEASE',\n",
       "  'KEGG_PATHOGENIC_ESCHERICHIA_COLI_INFECTION',\n",
       "  'KEGG_PATHWAYS_IN_CANCER',\n",
       "  'KEGG_PEROXISOME',\n",
       "  'KEGG_PHENYLALANINE_METABOLISM',\n",
       "  'KEGG_PHOSPHATIDYLINOSITOL_SIGNALING_SYSTEM',\n",
       "  'KEGG_PRIMARY_IMMUNODEFICIENCY',\n",
       "  'KEGG_PRION_DISEASES',\n",
       "  'KEGG_PROGESTERONE_MEDIATED_OOCYTE_MATURATION',\n",
       "  'KEGG_PROSTATE_CANCER',\n",
       "  'KEGG_PROTEASOME',\n",
       "  'KEGG_PURINE_METABOLISM',\n",
       "  'KEGG_PYRIMIDINE_METABOLISM',\n",
       "  'KEGG_REGULATION_OF_ACTIN_CYTOSKELETON',\n",
       "  'KEGG_REGULATION_OF_AUTOPHAGY',\n",
       "  'KEGG_RENAL_CELL_CARCINOMA',\n",
       "  'KEGG_RIG_I_LIKE_RECEPTOR_SIGNALING_PATHWAY',\n",
       "  'KEGG_RNA_DEGRADATION',\n",
       "  'KEGG_SELENOAMINO_ACID_METABOLISM',\n",
       "  'KEGG_SMALL_CELL_LUNG_CANCER',\n",
       "  'KEGG_SPLICEOSOME',\n",
       "  'KEGG_STARCH_AND_SUCROSE_METABOLISM',\n",
       "  'KEGG_SYSTEMIC_LUPUS_ERYTHEMATOSUS',\n",
       "  'KEGG_TASTE_TRANSDUCTION',\n",
       "  'KEGG_TGF_BETA_SIGNALING_PATHWAY',\n",
       "  'KEGG_THYROID_CANCER',\n",
       "  'KEGG_TIGHT_JUNCTION',\n",
       "  'KEGG_TOLL_LIKE_RECEPTOR_SIGNALING_PATHWAY',\n",
       "  'KEGG_TYPE_II_DIABETES_MELLITUS',\n",
       "  'KEGG_TYPE_I_DIABETES_MELLITUS',\n",
       "  'KEGG_T_CELL_RECEPTOR_SIGNALING_PATHWAY',\n",
       "  'KEGG_UBIQUITIN_MEDIATED_PROTEOLYSIS',\n",
       "  'KEGG_VASCULAR_SMOOTH_MUSCLE_CONTRACTION',\n",
       "  'KEGG_VEGF_SIGNALING_PATHWAY',\n",
       "  'KEGG_VIBRIO_CHOLERAE_INFECTION',\n",
       "  'KEGG_VIRAL_MYOCARDITIS',\n",
       "  'KEGG_WNT_SIGNALING_PATHWAY',\n",
       "  'KIAA0408',\n",
       "  'KIAA0513',\n",
       "  'KIAA1456',\n",
       "  'KIAA1551',\n",
       "  'KIAA1958',\n",
       "  'KIF11',\n",
       "  'KIF21B',\n",
       "  'KLHDC8B',\n",
       "  'KLLN',\n",
       "  'KLRC1',\n",
       "  'KLRC3',\n",
       "  'KLRC4',\n",
       "  'KLRD1',\n",
       "  'KNTC1',\n",
       "  'KRT222',\n",
       "  'KRT80',\n",
       "  'KY',\n",
       "  'LAIR1',\n",
       "  'LAMP3',\n",
       "  'LAMP5',\n",
       "  'LAX1',\n",
       "  'LCP1',\n",
       "  'LDLR',\n",
       "  'LFNG',\n",
       "  'LIF',\n",
       "  'LILRA2',\n",
       "  'LILRA4',\n",
       "  'LILRB4',\n",
       "  'LINKROR',\n",
       "  'LMCD1',\n",
       "  'LPAR2',\n",
       "  'LPXN',\n",
       "  'LRRC17',\n",
       "  'LRRC8E',\n",
       "  'LSAMP',\n",
       "  'LTBP2',\n",
       "  'MAML3',\n",
       "  'MARCH1',\n",
       "  'MARVELD2',\n",
       "  'MAT2A',\n",
       "  'MB21D1',\n",
       "  'MCTP2',\n",
       "  'MDK',\n",
       "  'MEG3',\n",
       "  'MET',\n",
       "  'METTL21A',\n",
       "  'METTL7A',\n",
       "  'MEX3D',\n",
       "  'MFSD4A',\n",
       "  'MID1IP1',\n",
       "  'MIDN',\n",
       "  'MIS18BP1',\n",
       "  'MMP9',\n",
       "  'MNDA',\n",
       "  'MORN4',\n",
       "  'MOSPD1',\n",
       "  'MREG',\n",
       "  'MSI2',\n",
       "  'MT1E',\n",
       "  'MYBL1',\n",
       "  'MYO1F',\n",
       "  'MYO5A',\n",
       "  'MYOG',\n",
       "  'MYPN',\n",
       "  'NABP1',\n",
       "  'NACC2',\n",
       "  'NAMPT',\n",
       "  'NAT8L',\n",
       "  'NAV1',\n",
       "  'NCK2',\n",
       "  'NECTIN1',\n",
       "  'NFATC2',\n",
       "  'NFIL3',\n",
       "  'NHLRC3',\n",
       "  'NID2',\n",
       "  'NIPAL1',\n",
       "  'NLRC3',\n",
       "  'NLRC5',\n",
       "  'NOD2',\n",
       "  'NOTCH2',\n",
       "  'NPTX2',\n",
       "  'NPY4R',\n",
       "  'NR4A2',\n",
       "  'NR4A3',\n",
       "  'NT5DC2',\n",
       "  'NTN1',\n",
       "  'NUDT4',\n",
       "  'NUP210',\n",
       "  'OCIAD2',\n",
       "  'OSBPL3',\n",
       "  'OTUD6A',\n",
       "  'OTUD7A',\n",
       "  'P3H2',\n",
       "  'PAQR5',\n",
       "  'PARP11',\n",
       "  'PARP15',\n",
       "  'PAX4',\n",
       "  'PCAT1',\n",
       "  'PCBP3',\n",
       "  'PCP4L1',\n",
       "  'PDE4A',\n",
       "  'PDE4DIP',\n",
       "  'PHF21B',\n",
       "  'PHLDA1',\n",
       "  'PHLDA2',\n",
       "  'PIK3CD',\n",
       "  'PIK3CG',\n",
       "  'PIK3R1',\n",
       "  'PIM1',\n",
       "  'PIM2',\n",
       "  'PIM3',\n",
       "  'PITPNM2',\n",
       "  'PITX1',\n",
       "  'PLAC8',\n",
       "  'PLCB2',\n",
       "  'PLEKHH2',\n",
       "  'PLEKHO1',\n",
       "  'PLXDC2',\n",
       "  'PMAIP1',\n",
       "  'PNMA2',\n",
       "  'PNOC',\n",
       "  'PPIL1',\n",
       "  'PPM1K',\n",
       "  'PPP1CC',\n",
       "  'PRDM1',\n",
       "  'PRDX6',\n",
       "  'PRKCB',\n",
       "  'PROSER1',\n",
       "  'PRRG4',\n",
       "  'PRSS16',\n",
       "  'PSMB8',\n",
       "  'PSTPIP2',\n",
       "  'PTGDR2',\n",
       "  'PTK2B',\n",
       "  'PTK6',\n",
       "  'PTPN22',\n",
       "  'PTPRC',\n",
       "  'PTPRO',\n",
       "  'PTPRU',\n",
       "  'PYGO1',\n",
       "  'RAB11FIP4',\n",
       "  'RAB15',\n",
       "  'RAB30',\n",
       "  'RAB39B',\n",
       "  'RAB3C',\n",
       "  'RAB3IP',\n",
       "  'RAB44',\n",
       "  'RAB8B',\n",
       "  'RANBP6',\n",
       "  'RASGRP3',\n",
       "  'RBM38',\n",
       "  'RBM43',\n",
       "  'RBM47',\n",
       "  'REEP4',\n",
       "  'RGS9BP',\n",
       "  'RIPK4',\n",
       "  'RNASE6',\n",
       "  'RNASET2',\n",
       "  'RNF122',\n",
       "  'RNF125',\n",
       "  'RNF6',\n",
       "  'RNFT2',\n",
       "  'RPAIN',\n",
       "  'RPGRIP1',\n",
       "  'RPH3A',\n",
       "  'RRAD',\n",
       "  'RTN4RL1',\n",
       "  'RUNX1',\n",
       "  'RUNX2',\n",
       "  'RYR3',\n",
       "  'S100A16',\n",
       "  'S100A7A',\n",
       "  'SAMD9L',\n",
       "  'SCGB1D1',\n",
       "  'SCGB1D2',\n",
       "  'SCN9A',\n",
       "  'SEL1L3',\n",
       "  'SEMA4B',\n",
       "  'SEMA6B',\n",
       "  'SEPT1',\n",
       "  'SEPT11',\n",
       "  'SEPT6',\n",
       "  'SERPINA3',\n",
       "  'SFMBT2',\n",
       "  'SFRP4',\n",
       "  'SHCBP1',\n",
       "  'SIDT1',\n",
       "  'SIT1',\n",
       "  'SLAMF1',\n",
       "  'SLC16A9',\n",
       "  'SLC18B1',\n",
       "  'SLC25A25',\n",
       "  'SLC2A13',\n",
       "  'SLC2A5',\n",
       "  'SLC39A14',\n",
       "  'SLC43A3',\n",
       "  'SLC4A1',\n",
       "  'SLC6A9',\n",
       "  'SLCO4C1',\n",
       "  'SLFN12L',\n",
       "  'SMCR8',\n",
       "  'SMTNL2',\n",
       "  'SNRPC',\n",
       "  'SNX22',\n",
       "  'SOCS1',\n",
       "  'SOCS6',\n",
       "  'SOX2‐OT',\n",
       "  'SP140L',\n",
       "  'SPN',\n",
       "  'SPNS3',\n",
       "  'SPRY3',\n",
       "  'SPTBN2',\n",
       "  'SRCIN1',\n",
       "  'SREBF1',\n",
       "  'SRGAP2',\n",
       "  'SSC5D',\n",
       "  'STARD5',\n",
       "  'STK17B',\n",
       "  'STK4',\n",
       "  'STON2',\n",
       "  'SUSD5',\n",
       "  'SVOP',\n",
       "  'SYT7',\n",
       "  'TACC1',\n",
       "  'TACC3',\n",
       "  'TCF7',\n",
       "  'TCOF1',\n",
       "  'TFCP2L1',\n",
       "  'TFF1',\n",
       "  'TGFBR2',\n",
       "  'TGM1',\n",
       "  'THBS1',\n",
       "  'THEMIS2',\n",
       "  'THY1',\n",
       "  'TLR5',\n",
       "  'TLR6',\n",
       "  'TLR7',\n",
       "  'TM4SF1',\n",
       "  'TMED8',\n",
       "  'TMEM108',\n",
       "  'TMEM130',\n",
       "  'TMEM154',\n",
       "  'TMEM156',\n",
       "  'TMEM254',\n",
       "  'TMSB4X',\n",
       "  'TNFAIP3',\n",
       "  'TNFAIP8',\n",
       "  'TONSL',\n",
       "  'TOX',\n",
       "  'TP53INP1',\n",
       "  'TRAF1',\n",
       "  'TRAF5',\n",
       "  'TRANK1',\n",
       "  'TRAT1',\n",
       "  'TRIM10',\n",
       "  'TRIM14',\n",
       "  'TRIM22',\n",
       "  'TRIM59',\n",
       "  'TRMT5',\n",
       "  'TRPC4',\n",
       "  'TUBA1C',\n",
       "  'TUBB2A',\n",
       "  'TUG1',\n",
       "  'TUSC1',\n",
       "  'TXK',\n",
       "  'TXNDC5',\n",
       "  'TXNIP',\n",
       "  'UCHL1',\n",
       "  'UNC93B1',\n",
       "  'UNKL',\n",
       "  'UTP11',\n",
       "  'VANGL2',\n",
       "  'VASN',\n",
       "  'VAV1',\n",
       "  'VAV2',\n",
       "  'VAV3',\n",
       "  'VCAM1',\n",
       "  'VDR',\n",
       "  'VLDLR‐AS1',\n",
       "  'VNN2',\n",
       "  'WNT3A',\n",
       "  'WWC1',\n",
       "  'XRCC3',\n",
       "  'ZBTB37',\n",
       "  'ZDHHC15',\n",
       "  'ZFHX4',\n",
       "  'ZFP36L2',\n",
       "  'ZFY',\n",
       "  'ZMYND8',\n",
       "  'ZNF157',\n",
       "  'ZNF215',\n",
       "  'ZNF217',\n",
       "  'ZNF546',\n",
       "  'ZNF594',\n",
       "  'ZNF774',\n",
       "  'ZNF846',\n",
       "  'ZWINT',\n",
       "  'hsa-let-7a-5p',\n",
       "  'hsa-let-7g-5p',\n",
       "  'hsa-let-7i-5p',\n",
       "  'hsa-miR-101-3p',\n",
       "  'hsa-miR-1202',\n",
       "  'hsa-miR-1238-3p',\n",
       "  'hsa-miR-15a-3p',\n",
       "  'hsa-miR-181a-5p',\n",
       "  'hsa-miR-1825',\n",
       "  'hsa-miR-183-5p',\n",
       "  'hsa-miR-197-3p',\n",
       "  'hsa-miR-22-3p',\n",
       "  'hsa-miR-23a-3p',\n",
       "  'hsa-miR-26b-5p',\n",
       "  'hsa-miR-302d-5p',\n",
       "  'hsa-miR-30d-5p',\n",
       "  'hsa-miR-320a',\n",
       "  'hsa-miR-320b',\n",
       "  'hsa-miR-320c',\n",
       "  'hsa-miR-320d',\n",
       "  'hsa-miR-320e',\n",
       "  'hsa-miR-324-3p',\n",
       "  'hsa-miR-382-3p',\n",
       "  'hsa-miR-423-5p',\n",
       "  'hsa-miR-483-3p',\n",
       "  'hsa-miR-486-5p',\n",
       "  'hsa-miR-491-3p',\n",
       "  'hsa-miR-542-3p',\n",
       "  'hsa-miR-548ap-3p',\n",
       "  'hsa-miR-548c-3p',\n",
       "  'hsa-miR-548f-3p',\n",
       "  'hsa-miR-574-5p',\n",
       "  'hsa-miR-576-5p',\n",
       "  'hsa-miR-580-3p',\n",
       "  'hsa-miR-586',\n",
       "  'hsa-miR-597-5p',\n",
       "  'hsa-miR-616-3p',\n",
       "  'hsa-miR-6883-3p',\n",
       "  'hsa-miR-7f-5p',\n",
       "  'hsa-miR-940'],\n",
       " ['ADAMTS4',\n",
       "  'ADAMTS9',\n",
       "  'AFF1',\n",
       "  'ALOX5AP',\n",
       "  'ANKRD44',\n",
       "  'B4GALT6',\n",
       "  'BACH2',\n",
       "  'BANK1',\n",
       "  'BGN',\n",
       "  'CDH7',\n",
       "  'CHDH',\n",
       "  'CHRDL1',\n",
       "  'CHST15',\n",
       "  'CLEC12A',\n",
       "  'CLEC4D',\n",
       "  'CLNK',\n",
       "  'CLSTN3',\n",
       "  'CSRNP3',\n",
       "  'CTGF',\n",
       "  'DUSP18',\n",
       "  'EVI2A',\n",
       "  'FAM46C',\n",
       "  'FAM49A',\n",
       "  'FGFBP3',\n",
       "  'FNBP1',\n",
       "  'GLCCI1',\n",
       "  'GOLGA7B',\n",
       "  'GPX6',\n",
       "  'HAUS5',\n",
       "  'HDAC9',\n",
       "  'IL18RAP',\n",
       "  'INTU',\n",
       "  'ISLR2',\n",
       "  'KCNA4',\n",
       "  'KCNK1',\n",
       "  'KEGG_ARACHIDONIC_ACID_METABOLISM',\n",
       "  'KEGG_ETHER_LIPID_METABOLISM',\n",
       "  'KEGG_GLYCINE_SERINE_AND_THREONINE_METABOLISM',\n",
       "  'KEGG_GLYCOSAMINOGLYCAN_BIOSYNTHESIS_CHONDROITIN_SULFATE',\n",
       "  'KEGG_SPHINGOLIPID_METABOLISM',\n",
       "  'KEGG_TRYPTOPHAN_METABOLISM',\n",
       "  'KYNU',\n",
       "  'LILRB1',\n",
       "  'LILRB2',\n",
       "  'LINC00632',\n",
       "  'LONRF3',\n",
       "  'LPAR3',\n",
       "  'LRFN1',\n",
       "  'LRRC38',\n",
       "  'MDGA1',\n",
       "  'MGAT4C',\n",
       "  'MLXIPL',\n",
       "  'MPEG1',\n",
       "  'MPP2',\n",
       "  'NBPF10',\n",
       "  'NFAM1',\n",
       "  'NOTCH2NL',\n",
       "  'P2RY1',\n",
       "  'PBOV1',\n",
       "  'PLA2G7',\n",
       "  'PLXNC1',\n",
       "  'PSD4',\n",
       "  'RAPGEFL1',\n",
       "  'RASSF2',\n",
       "  'RHOH',\n",
       "  'RIMS3',\n",
       "  'RNF213',\n",
       "  'SGPP2',\n",
       "  'SH3TC2',\n",
       "  'SIGLEC14',\n",
       "  'SLC23A3',\n",
       "  'SLC24A2',\n",
       "  'SLC25A45',\n",
       "  'SLCO5A1',\n",
       "  'SLFN13',\n",
       "  'SLITRK4',\n",
       "  'SMPD3',\n",
       "  'SOGA3',\n",
       "  'SPIC',\n",
       "  'SPOCK2',\n",
       "  'STYK1',\n",
       "  'SYNRG',\n",
       "  'SYT17',\n",
       "  'TAS2R30',\n",
       "  'TIGIT',\n",
       "  'TMEM30B',\n",
       "  'TMEM79',\n",
       "  'TNFSF14',\n",
       "  'TNIP3',\n",
       "  'TRABD2A',\n",
       "  'TRERF1',\n",
       "  'VAC14',\n",
       "  'VENTX',\n",
       "  'ZFP14',\n",
       "  'ZNF226',\n",
       "  'ZNF780A',\n",
       "  'hsa-miR-590-3p',\n",
       "  'hsa-miR-8485',\n",
       "  'hsa-miR-876-3p'],\n",
       " ['KEGG_BASE_EXCISION_REPAIR',\n",
       "  'KEGG_DNA_REPLICATION',\n",
       "  'KEGG_MISMATCH_REPAIR',\n",
       "  'KEGG_NUCLEOTIDE_EXCISION_REPAIR',\n",
       "  'LIG1',\n",
       "  'PARP4']]"
      ]
     },
     "execution_count": 96,
     "metadata": {},
     "output_type": "execute_result"
    }
   ],
   "source": [
    "sorted(map(sorted, next_level_communities))"
   ]
  },
  {
   "cell_type": "code",
   "execution_count": 98,
   "metadata": {},
   "outputs": [
    {
     "data": {
      "text/plain": [
       "tuple"
      ]
     },
     "execution_count": 98,
     "metadata": {},
     "output_type": "execute_result"
    }
   ],
   "source": [
    "type(next_level_communities)"
   ]
  },
  {
   "cell_type": "code",
   "execution_count": 100,
   "metadata": {},
   "outputs": [
    {
     "name": "stdout",
     "output_type": "stream",
     "text": [
      "{'UTP11', 'HSPA6', 'INO80D', 'KEGG_WNT_SIGNALING_PATHWAY', 'CCSAP', 'TGM1', 'PPIL1', 'KEGG_SYSTEMIC_LUPUS_ERYTHEMATOSUS', 'hsa-miR-491-3p', 'MYO5A', 'PIK3R1', 'hsa-miR-26b-5p', 'KEGG_CYTOSOLIC_DNA_SENSING_PATHWAY', 'hsa-miR-574-5p', 'KEGG_LONG_TERM_DEPRESSION', 'CYCS', 'TLR5', 'HMGN2', 'NPY4R', 'hsa-miR-320d', 'BEST3', 'RPAIN', 'TACC1', 'SEPT1', 'FNDC9', 'ITGB2', 'IRF4', 'KEGG_CARDIAC_MUSCLE_CONTRACTION', 'MYO1F', 'CCDC170', 'RANBP6', 'DUSP2', 'GCSAM', 'LILRA4', 'S100A16', 'NOTCH2', 'CD244', 'FAM105A', 'GINS2', 'LILRA2', 'hsa-miR-197-3p', 'DCAF12L2', 'DYRK3', 'KEGG_GLUTATHIONE_METABOLISM', 'EREG', 'ITGB3', 'EML4', 'PIM2', 'CFHR3', 'STK4', 'KEGG_INSULIN_SIGNALING_PATHWAY', 'hsa-miR-548ap-3p', 'IP6K3', 'SPRY3', 'KEGG_TASTE_TRANSDUCTION', 'hsa-miR-181a-5p', 'SOCS1', 'ZMYND8', 'KEGG_STARCH_AND_SUCROSE_METABOLISM', 'TMED8', 'CCDC33', 'BACE1‐AS', 'IGF1', 'CCL5', 'GAS1', 'KEGG_VIBRIO_CHOLERAE_INFECTION', 'IFIH1', 'RNASE6', 'ATXN2L', 'ASPN', 'REEP4', 'KEGG_HEMATOPOIETIC_CELL_LINEAGE', 'PLXDC2', 'MYBL1', 'COL1A1', 'hsa-miR-548c-3p', 'MCTP2', 'PARP11', 'DDIT4', 'CFAP77', 'SLC25A25', 'ZNF594', 'KCNIP2', 'PMAIP1', 'CAPS', 'KEGG_BLADDER_CANCER', 'SVOP', 'RBM47', 'BCYRN1', 'HTR2A', 'LTBP2', 'COL1A2', 'TMEM156', 'hsa-miR-486-5p', 'NAV1', 'TRIM14', 'SCGB1D1', 'CENPN', 'SLFN12L', 'GRM8', 'THY1', 'ANKRD36', 'KEGG_SELENOAMINO_ACID_METABOLISM', 'KEGG_PRION_DISEASES', 'CACNA1I', 'ZNF217', 'NTN1', 'GRAMD1C', 'GRAP2', 'KEGG_ADHERENS_JUNCTION', 'hsa-miR-423-5p', 'SERPINA3', 'CFTR', 'SFRP4', 'CXCL11', 'EIF1AY', 'EIF4EBP2', 'EPB41', 'KEGG_LEISHMANIA_INFECTION', 'KEGG_ENDOCYTOSIS', 'hsa-miR-320c', 'TMEM154', 'BCL2L11', 'KDM5D', 'SLC6A9', 'TRAT1', 'ADGRG6', 'hsa-let-7i-5p', 'CTRC', 'SMTNL2', 'NUP210', 'KLRC1', 'VNN2', 'ARHGAP21', 'AMD1', 'ITGAX', 'KEGG_CALCIUM_SIGNALING_PATHWAY', 'KEGG_DORSO_VENTRAL_AXIS_FORMATION', 'KEGG_AXON_GUIDANCE', 'KEGG_HYPERTROPHIC_CARDIOMYOPATHY_HCM', 'ZNF157', 'SRGAP2', 'FBXL2', 'hsa-miR-101-3p', 'CXCR4', 'COL14A1', 'RNFT2', 'KEGG_INTESTINAL_IMMUNE_NETWORK_FOR_IGA_PRODUCTION', 'DOCK10', 'hsa-miR-320a', 'KEGG_ALZHEIMERS_DISEASE', 'SCGB1D2', 'VANGL2', 'KEGG_VEGF_SIGNALING_PATHWAY', 'CCDC171', 'AHSA2', 'BTLA', 'F2R', 'OCIAD2', 'ZNF215', 'NFIL3', 'KCNB1', 'TNFAIP3', 'KIAA0513', 'H19', 'PIK3CD', 'FAM81B', 'hsa-miR-1825', 'NR4A2', 'PCP4L1', 'TRANK1', 'ZDHHC15', 'KIAA1456', 'MAML3', 'COL4A3', 'hsa-miR-542-3p', 'VASN', 'PRDM1', 'IAPP', 'DAAM2', 'GRIK3', 'RIPK4', 'FOSL1', 'KEGG_BASAL_CELL_CARCINOMA', 'KEGG_TOLL_LIKE_RECEPTOR_SIGNALING_PATHWAY', 'BMP4', 'C1RL', 'KLRC3', 'PHF21B', 'PLEKHH2', 'MIS18BP1', 'NID2', 'EDA2R', 'ARRDC3', 'IL18', 'KEGG_TGF_BETA_SIGNALING_PATHWAY', 'PTK2B', 'RTN4RL1', 'GSTM5', 'ABCC3', 'PRRG4', 'SEMA6B', 'LAMP5', 'ART4', 'MAT2A', 'IGFLR1', 'KEGG_ABC_TRANSPORTERS', 'ZNF546', 'KEGG_GLIOMA', 'MB21D1', 'KEGG_INOSITOL_PHOSPHATE_METABOLISM', 'NAT8L', 'NECTIN1', 'COL8A1', 'PRKCB', 'TONSL', 'ANKRD33B', 'PPM1K', 'CDH9', 'SPNS3', 'MMP9', 'CCL2', 'DOK3', 'HOXC4', 'LCP1', 'ERI2', 'CCDC65', 'NLRC5', 'VDR', 'TM4SF1', 'EBI3', 'IKZF3', 'hsa-miR-22-3p', 'PITPNM2', 'PIM1', 'KEGG_CYTOKINE_CYTOKINE_RECEPTOR_INTERACTION', 'GCK', 'PRDX6', 'FOXN2', 'KEGG_FC_EPSILON_RI_SIGNALING_PATHWAY', 'PTPRC', 'KEGG_HEDGEHOG_SIGNALING_PATHWAY', 'ATAD5', 'CXCR2', 'KEGG_GRAFT_VERSUS_HOST_DISEASE', 'ZBTB37', 'SP140L', 'RAB8B', 'VAV2', 'KLRD1', 'CACNB4', 'EXPH5', 'BCL11B', 'hsa-miR-1238-3p', 'SLC43A3', 'PTK6', 'PSMB8', 'FCGR1B', 'RAB11FIP4', 'RNF122', 'LAIR1', 'NUDT4', 'KEGG_PURINE_METABOLISM', 'CXCL13', 'KEGG_HUNTINGTONS_DISEASE', 'TXNDC5', 'SOX2‐OT', 'TRIM10', 'SHCBP1', 'NAMPT', 'CDKN2A', 'KIAA0408', 'CGNL1', 'ZFHX4', 'KEGG_PYRIMIDINE_METABOLISM', 'KEGG_PHENYLALANINE_METABOLISM', 'PTGDR2', 'GCNT1', 'ZFP36L2', 'KEGG_GLYCOLYSIS_GLUCONEOGENESIS', 'MFSD4A', 'KEGG_PROGESTERONE_MEDIATED_OOCYTE_MATURATION', 'FAM167B', 'SLAMF1', 'HS6ST3', 'EDEM1', 'SUSD5', 'KEGG_HOMOLOGOUS_RECOMBINATION', 'hsa-miR-302d-5p', 'CCDC80', 'KEGG_CHEMOKINE_SIGNALING_PATHWAY', 'KCNN2', 'MET', 'KEGG_ANTIGEN_PROCESSING_AND_PRESENTATION', 'HDGF', 'LILRB4', 'JAML', 'IKZF1', 'RAB3C', 'METTL21A', 'EGOT', 'KEGG_NICOTINATE_AND_NICOTINAMIDE_METABOLISM', 'HIST1H3H', 'CCDC88C', 'OTUD6A', 'TLR6', 'MYPN', 'ERN1', 'IRAK3', 'KCNN3', 'NR4A3', 'KEGG_SPLICEOSOME', 'NT5DC2', 'MYOG', 'NCK2', 'KEGG_THYROID_CANCER', 'TUG1', 'FAAH', 'UNC93B1', 'COX5A', 'CD59', 'CHAC1', 'KEGG_CHRONIC_MYELOID_LEUKEMIA', 'hsa-miR-597-5p', 'KEGG_PATHOGENIC_ESCHERICHIA_COLI_INFECTION', 'KEGG_MELANOMA', 'PDE4A', 'STON2', 'SLC18B1', 'DNALI1', 'MARCH1', 'hsa-miR-183-5p', 'KEGG_LYSOSOME', 'P3H2', 'SLCO4C1', 'PAX4', 'FMO3', 'CISH', 'COL16A1', 'SCN9A', 'CORO7', 'RNASET2', 'hsa-let-7g-5p', 'KEGG_CELL_ADHESION_MOLECULES_CAMS', 'IL5RA', 'CENPM', 'OTUD7A', 'KEGG_ECM_RECEPTOR_INTERACTION', 'hsa-miR-548f-3p', 'HIST1H3B', 'hsa-miR-23a-3p', 'KEGG_NATURAL_KILLER_CELL_MEDIATED_CYTOTOXICITY', 'KEGG_FC_GAMMA_R_MEDIATED_PHAGOCYTOSIS', 'ARHGAP15', 'hsa-miR-1202', 'hsa-miR-576-5p', 'hsa-miR-580-3p', 'KLLN', 'RNF6', 'SPTBN2', 'KEGG_UBIQUITIN_MEDIATED_PROTEOLYSIS', 'SNRPC', 'GALNT3', 'SEPT6', 'CD40LG', 'ARAP2', 'IPCEF1', 'KEGG_VASCULAR_SMOOTH_MUSCLE_CONTRACTION', 'FRMPD4', 'PROSER1', 'FKBP5', 'PIK3CG', 'CYTIP', 'GPR183', 'CASP8', 'CRTAM', 'TRPC4', 'ATF3', 'MID1IP1', 'DLEU1', 'KEGG_ARGININE_AND_PROLINE_METABOLISM', 'HIST2H3A', 'CCR7', 'IL7R', 'RPGRIP1', 'FCRL2', 'KEGG_T_CELL_RECEPTOR_SIGNALING_PATHWAY', 'KEGG_TIGHT_JUNCTION', 'THEMIS2', 'RGS9BP', 'RUNX2', 'KEGG_OXIDATIVE_PHOSPHORYLATION', 'XRCC3', 'CD44', 'CD226', 'CASS4', 'TLR7', 'DMXL2', 'VAV1', 'KEGG_O_GLYCAN_BIOSYNTHESIS', 'RRAD', 'KEGG_PEROXISOME', 'FAM46B', 'MORN4', 'hsa-miR-7f-5p', 'TGFBR2', 'CLIC6', 'GDF10', 'FAM117B', 'PLAC8', 'KEGG_AMYOTROPHIC_LATERAL_SCLEROSIS_ALS', 'F3', 'IGSF6', 'KEGG_MAPK_SIGNALING_PATHWAY', 'TRAF5', 'CD28', 'KIAA1551', 'H2AFZ', 'IL21R', 'KNTC1', 'MDK', 'SREBF1', 'ATP2A2', 'COL4A4', 'PNOC', 'PSTPIP2', 'KEGG_DRUG_METABOLISM_CYTOCHROME_P450', 'KEGG_PANCREATIC_CANCER', 'KEGG_NON_SMALL_CELL_LUNG_CANCER', 'CXCL9', 'KEGG_GNRH_SIGNALING_PATHWAY', 'LDLR', 'EDN2', 'KEGG_NOD_LIKE_RECEPTOR_SIGNALING_PATHWAY', 'ASCL2', 'TUSC1', 'APOL6', 'HAVCR2', 'CREM', 'DLX5', 'AURKA', 'FOLH1', 'PNMA2', 'AP1S3', 'COTL1', 'FAM217B', 'TCOF1', 'PTPRU', 'FAM84A', 'ERP27', 'VCAM1', 'ENDOG', 'RAB15', 'GBP2', 'FKTN', 'BATF', 'KEGG_PANTOTHENATE_AND_COA_BIOSYNTHESIS', 'KEGG_MATURITY_ONSET_DIABETES_OF_THE_YOUNG', 'RYR3', 'FBXO41', 'hsa-miR-30d-5p', 'ANKRD36B', 'KRT80', 'GLIS2', 'SPN', 'GFPT2', 'GAS5', 'SOCS6', 'HSPA1B', 'CD3D', 'KEGG_TYPE_II_DIABETES_MELLITUS', 'TRAF1', 'KEGG_ALDOSTERONE_REGULATED_SODIUM_REABSORPTION', 'INPP5D', 'KEGG_VIRAL_MYOCARDITIS', 'NHLRC3', 'LINKROR', 'hsa-miR-586', 'IFNG', 'hsa-miR-616-3p', 'LAMP3', 'IDH2', 'ESR1', 'IRS1', 'LMCD1', 'JAKMIP2', 'KEGG_TYPE_I_DIABETES_MELLITUS', 'SRCIN1', 'hsa-miR-940', 'LRRC17', 'AIDA', 'PLEKHO1', 'IER3', 'FKBP4', 'KIAA1958', 'ABCC5', 'KEGG_GLYCOSAMINOGLYCAN_BIOSYNTHESIS_HEPARAN_SULFATE', 'KEGG_ALANINE_ASPARTATE_AND_GLUTAMATE_METABOLISM', 'STARD5', 'FUT4', 'KEGG_AUTOIMMUNE_THYROID_DISEASE', 'KEGG_CITRATE_CYCLE_TCA_CYCLE', 'KEGG_RENAL_CELL_CARCINOMA', 'BMP6', 'IGFBP2', 'PITX1', 'HOTAIR', 'HOXA11‐AS', 'NOD2', 'SIT1', 'FASN', 'KEGG_ASTHMA', 'TCF7', 'METTL7A', 'PCAT1', 'CYBA', 'ZNF774', 'LSAMP', 'TXK', 'ARL4A', 'KEGG_RNA_DEGRADATION', 'S100A7A', 'IL17RB', 'BCAS4', 'KEGG_ACUTE_MYELOID_LEUKEMIA', 'ZWINT', 'RASGRP3', 'KEGG_COMPLEMENT_AND_COAGULATION_CASCADES', 'SEL1L3', 'KEGG_PHOSPHATIDYLINOSITOL_SIGNALING_SYSTEM', 'COL5A1', 'RAB3IP', 'KEGG_REGULATION_OF_ACTIN_CYTOSKELETON', 'NACC2', 'KEGG_GAP_JUNCTION', 'TNFAIP8', 'PHLDA2', 'GOLM1', 'FOLR2', 'BCAR1', 'TMEM254', 'MNDA', 'KLHDC8B', 'TRMT5', 'SSC5D', 'CXCR6', 'LIF', 'GPRC5A', 'KCNJ2', 'TP53INP1', 'GRID1', 'KEGG_CELL_CYCLE', 'IFRD2', 'KEGG_APOPTOSIS', 'INPP5J', 'FAM43A', 'SYT7', 'RPH3A', 'hsa-miR-320e', 'TFF1', 'hsa-miR-324-3p', 'KEGG_PARKINSONS_DISEASE', 'KEGG_LEUKOCYTE_TRANSENDOTHELIAL_MIGRATION', 'KEGG_B_CELL_RECEPTOR_SIGNALING_PATHWAY', 'MEX3D', 'GLI2', 'KEGG_REGULATION_OF_AUTOPHAGY', 'HES6', 'SLC4A1', 'TRIM59', 'SIDT1', 'LPXN', 'PIM3', 'LAX1', 'SLC2A5', 'PYGO1', 'PRSS16', 'NPTX2', 'CEP85L', 'ANGPTL7', 'KEGG_NOTCH_SIGNALING_PATHWAY', 'KEGG_EPITHELIAL_CELL_SIGNALING_IN_HELICOBACTER_PYLORI_INFECTION', 'UNKL', 'NABP1', 'LFNG', 'KEGG_JAK_STAT_SIGNALING_PATHWAY', 'TFCP2L1', 'SEPT11', 'MT1E', 'KEGG_NEUROACTIVE_LIGAND_RECEPTOR_INTERACTION', 'hsa-let-7a-5p', 'PCBP3', 'KEGG_SMALL_CELL_LUNG_CANCER', 'KEGG_PROSTATE_CANCER', 'LRRC8E', 'FAM83F', 'SFMBT2', 'RAB44', 'KIF11', 'PPP1CC', 'ENAM', 'CSF1R', 'FERMT2', 'FASLG', 'CEP128', 'KEGG_DILATED_CARDIOMYOPATHY', 'RBM43', 'KEGG_ENDOMETRIAL_CANCER', 'ICMT', 'hsa-miR-15a-3p', 'E2F8', 'MARVELD2', 'SAMD9L', 'MOSPD1', 'GPR45', 'BMP7', 'TMEM130', 'MSI2', 'HACD4', 'hsa-miR-483-3p', 'PLCB2', 'TXNIP', 'RAB30', 'KEGG_AMINO_SUGAR_AND_NUCLEOTIDE_SUGAR_METABOLISM', 'WWC1', 'EAF2', 'VLDLR‐AS1', 'GRIK2', 'BMF', 'VAV3', 'PDE4DIP', 'TUBB2A', 'COL22A1', 'KEGG_PROTEASOME', 'ATP5G1', 'RUNX1', 'WNT3A', 'PARP15', 'SLC16A9', 'KEGG_ADIPOCYTOKINE_SIGNALING_PATHWAY', 'NFATC2', 'TACC3', 'GABRB1', 'RNF125', 'KEGG_PRIMARY_IMMUNODEFICIENCY', 'ERAP2', 'ENTPD1', 'PHLDA1', 'ZFY', 'KIF21B', 'KEGG_MTOR_SIGNALING_PATHWAY', 'CCDC85C', 'KEGG_NEUROTROPHIN_SIGNALING_PATHWAY', 'TOX', 'PAQR5', 'KEGG_ALLOGRAFT_REJECTION', 'KEGG_OOCYTE_MEIOSIS', 'CNOT6L', 'KEGG_CYSTEINE_AND_METHIONINE_METABOLISM', 'TMSB4X', 'KEGG_COLORECTAL_CANCER', 'STK17B', 'SMCR8', 'CNTRL', 'PTPN22', 'IL10RA', 'HAPLN1', 'OSBPL3', 'KEGG_METABOLISM_OF_XENOBIOTICS_BY_CYTOCHROME_P450', 'SLC39A14', 'TMEM108', 'CAMK4', 'KEGG_LONG_TERM_POTENTIATION', 'MIDN', 'KEGG_MELANOGENESIS', 'KEGG_PATHWAYS_IN_CANCER', 'hsa-miR-320b', 'KEGG_FOCAL_ADHESION', 'KEGG_RIG_I_LIKE_RECEPTOR_SIGNALING_PATHWAY', 'SLC2A13', 'RAB39B', 'RBM38', 'MREG', 'THBS1', 'GATA4', 'UCHL1', 'PTPRO', 'SEMA4B', 'ATXN7L1', 'DDX60', 'NIPAL1', 'ADAM28', 'KEGG_GALACTOSE_METABOLISM', 'C1QTNF1', 'NLRC3', 'hsa-miR-6883-3p', 'KRT222', 'TUBA1C', 'ZNF846', 'CD19', 'HOPX', 'SNX22', 'EPHA7', 'CHEK2', 'KLRC4', 'KEGG_P53_SIGNALING_PATHWAY', 'hsa-miR-382-3p', 'TRIM22', 'KEGG_ERBB_SIGNALING_PATHWAY', 'C1QB', 'KEGG_GLYCOSPHINGOLIPID_BIOSYNTHESIS_LACTO_AND_NEOLACTO_SERIES', 'KEGG_ARRHYTHMOGENIC_RIGHT_VENTRICULAR_CARDIOMYOPATHY_ARVC', 'KY', 'DCHS2', 'MEG3', 'BLNK', 'E2F2', 'DNAJB5', 'LPAR2'}\n"
     ]
    }
   ],
   "source": [
    "print(next_level_communities[0])"
   ]
  },
  {
   "cell_type": "code",
   "execution_count": null,
   "metadata": {},
   "outputs": [],
   "source": []
  }
 ],
 "metadata": {
  "kernelspec": {
   "display_name": "Python 3",
   "language": "python",
   "name": "python3"
  },
  "language_info": {
   "codemirror_mode": {
    "name": "ipython",
    "version": 3
   },
   "file_extension": ".py",
   "mimetype": "text/x-python",
   "name": "python",
   "nbconvert_exporter": "python",
   "pygments_lexer": "ipython3",
   "version": "3.6.8"
  }
 },
 "nbformat": 4,
 "nbformat_minor": 2
}
