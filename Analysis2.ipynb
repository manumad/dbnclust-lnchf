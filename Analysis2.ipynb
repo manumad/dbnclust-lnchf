{
 "cells": [
  {
   "cell_type": "code",
   "execution_count": 1,
   "metadata": {},
   "outputs": [],
   "source": [
    "import pandas as pd"
   ]
  },
  {
   "cell_type": "code",
   "execution_count": 28,
   "metadata": {},
   "outputs": [
    {
     "data": {
      "text/plain": [
       "(94, 26)"
      ]
     },
     "execution_count": 28,
     "metadata": {},
     "output_type": "execute_result"
    }
   ],
   "source": [
    "df = pd.read_csv('GSE77399_non_normalized.txt',sep='\\t')\n",
    "df.shape"
   ]
  },
  {
   "cell_type": "code",
   "execution_count": 173,
   "metadata": {},
   "outputs": [],
   "source": [
    "fpr_list=[]\n",
    "tpr_list =[]\n",
    "aucs =[]\n",
    "accs=[]\n",
    "exps=[]"
   ]
  },
  {
   "cell_type": "code",
   "execution_count": 101,
   "metadata": {},
   "outputs": [],
   "source": [
    "#lnc_interest = ['ROR', 'TUG1', 'HOTAIR', 'H19', 'GAS5']\n",
    "lnc_interest =['EGO', 'ROR', 'TUG1', 'SOX2OT', 'HOTAIR', 'H19', 'GAS5','LINCRNA-VLDLR']"
   ]
  },
  {
   "cell_type": "code",
   "execution_count": 102,
   "metadata": {},
   "outputs": [
    {
     "data": {
      "text/html": [
       "<div>\n",
       "<style scoped>\n",
       "    .dataframe tbody tr th:only-of-type {\n",
       "        vertical-align: middle;\n",
       "    }\n",
       "\n",
       "    .dataframe tbody tr th {\n",
       "        vertical-align: top;\n",
       "    }\n",
       "\n",
       "    .dataframe thead th {\n",
       "        text-align: right;\n",
       "    }\n",
       "</style>\n",
       "<table border=\"1\" class=\"dataframe\">\n",
       "  <thead>\n",
       "    <tr style=\"text-align: right;\">\n",
       "      <th></th>\n",
       "      <th>ID_REF</th>\n",
       "      <th>SAMPLE 1</th>\n",
       "      <th>SAMPLE 2</th>\n",
       "      <th>SAMPLE 3</th>\n",
       "      <th>SAMPLE 4</th>\n",
       "      <th>SAMPLE 5</th>\n",
       "      <th>SAMPLE 6</th>\n",
       "      <th>SAMPLE 7</th>\n",
       "      <th>SAMPLE 8</th>\n",
       "      <th>SAMPLE 9</th>\n",
       "      <th>...</th>\n",
       "      <th>SAMPLE 16</th>\n",
       "      <th>SAMPLE 17</th>\n",
       "      <th>SAMPLE 18</th>\n",
       "      <th>SAMPLE 19</th>\n",
       "      <th>SAMPLE 20</th>\n",
       "      <th>SAMPLE 21</th>\n",
       "      <th>SAMPLE 22</th>\n",
       "      <th>SAMPLE 23</th>\n",
       "      <th>SAMPLE 24</th>\n",
       "      <th>SAMPLE 25</th>\n",
       "    </tr>\n",
       "  </thead>\n",
       "  <tbody>\n",
       "    <tr>\n",
       "      <th>23</th>\n",
       "      <td>EGO</td>\n",
       "      <td>25.7</td>\n",
       "      <td>25.7</td>\n",
       "      <td>26.5</td>\n",
       "      <td>25.8</td>\n",
       "      <td>26.7</td>\n",
       "      <td>24.9</td>\n",
       "      <td>25.3</td>\n",
       "      <td>25.3</td>\n",
       "      <td>26.0</td>\n",
       "      <td>...</td>\n",
       "      <td>27.4</td>\n",
       "      <td>27.2</td>\n",
       "      <td>26.7</td>\n",
       "      <td>27.9</td>\n",
       "      <td>26.7</td>\n",
       "      <td>22.9</td>\n",
       "      <td>23.0</td>\n",
       "      <td>23.9</td>\n",
       "      <td>24.1</td>\n",
       "      <td>25.5</td>\n",
       "    </tr>\n",
       "    <tr>\n",
       "      <th>24</th>\n",
       "      <td>GAS5</td>\n",
       "      <td>26.6</td>\n",
       "      <td>27.3</td>\n",
       "      <td>26.9</td>\n",
       "      <td>26.6</td>\n",
       "      <td>27.5</td>\n",
       "      <td>26.0</td>\n",
       "      <td>25.8</td>\n",
       "      <td>26.2</td>\n",
       "      <td>26.4</td>\n",
       "      <td>...</td>\n",
       "      <td>28.3</td>\n",
       "      <td>29.0</td>\n",
       "      <td>29.7</td>\n",
       "      <td>28.7</td>\n",
       "      <td>27.9</td>\n",
       "      <td>23.4</td>\n",
       "      <td>23.0</td>\n",
       "      <td>24.2</td>\n",
       "      <td>24.0</td>\n",
       "      <td>25.6</td>\n",
       "    </tr>\n",
       "    <tr>\n",
       "      <th>26</th>\n",
       "      <td>H19</td>\n",
       "      <td>26.6</td>\n",
       "      <td>26.3</td>\n",
       "      <td>25.6</td>\n",
       "      <td>25.9</td>\n",
       "      <td>25.9</td>\n",
       "      <td>25.9</td>\n",
       "      <td>29.7</td>\n",
       "      <td>24.4</td>\n",
       "      <td>29.0</td>\n",
       "      <td>...</td>\n",
       "      <td>33.8</td>\n",
       "      <td>32.8</td>\n",
       "      <td>37.6</td>\n",
       "      <td>34.3</td>\n",
       "      <td>37.6</td>\n",
       "      <td>32.4</td>\n",
       "      <td>30.1</td>\n",
       "      <td>33.7</td>\n",
       "      <td>33.2</td>\n",
       "      <td>33.7</td>\n",
       "    </tr>\n",
       "    <tr>\n",
       "      <th>30</th>\n",
       "      <td>HOTAIR</td>\n",
       "      <td>27.3</td>\n",
       "      <td>29.1</td>\n",
       "      <td>27.0</td>\n",
       "      <td>27.1</td>\n",
       "      <td>27.5</td>\n",
       "      <td>29.3</td>\n",
       "      <td>25.6</td>\n",
       "      <td>26.6</td>\n",
       "      <td>27.1</td>\n",
       "      <td>...</td>\n",
       "      <td>28.6</td>\n",
       "      <td>NaN</td>\n",
       "      <td>31.6</td>\n",
       "      <td>30.7</td>\n",
       "      <td>27.4</td>\n",
       "      <td>22.9</td>\n",
       "      <td>23.1</td>\n",
       "      <td>24.2</td>\n",
       "      <td>23.7</td>\n",
       "      <td>25.5</td>\n",
       "    </tr>\n",
       "    <tr>\n",
       "      <th>40</th>\n",
       "      <td>LINCRNA-VLDLR</td>\n",
       "      <td>26.8</td>\n",
       "      <td>27.4</td>\n",
       "      <td>26.6</td>\n",
       "      <td>26.9</td>\n",
       "      <td>28.0</td>\n",
       "      <td>27.8</td>\n",
       "      <td>25.8</td>\n",
       "      <td>27.1</td>\n",
       "      <td>26.9</td>\n",
       "      <td>...</td>\n",
       "      <td>28.9</td>\n",
       "      <td>28.2</td>\n",
       "      <td>28.9</td>\n",
       "      <td>29.0</td>\n",
       "      <td>26.4</td>\n",
       "      <td>23.9</td>\n",
       "      <td>23.5</td>\n",
       "      <td>24.0</td>\n",
       "      <td>24.4</td>\n",
       "      <td>25.7</td>\n",
       "    </tr>\n",
       "    <tr>\n",
       "      <th>63</th>\n",
       "      <td>ROR</td>\n",
       "      <td>27.7</td>\n",
       "      <td>29.2</td>\n",
       "      <td>27.2</td>\n",
       "      <td>27.5</td>\n",
       "      <td>27.7</td>\n",
       "      <td>29.3</td>\n",
       "      <td>26.2</td>\n",
       "      <td>27.5</td>\n",
       "      <td>28.0</td>\n",
       "      <td>...</td>\n",
       "      <td>29.0</td>\n",
       "      <td>29.8</td>\n",
       "      <td>30.0</td>\n",
       "      <td>32.5</td>\n",
       "      <td>26.9</td>\n",
       "      <td>23.9</td>\n",
       "      <td>23.9</td>\n",
       "      <td>24.2</td>\n",
       "      <td>24.1</td>\n",
       "      <td>25.8</td>\n",
       "    </tr>\n",
       "    <tr>\n",
       "      <th>66</th>\n",
       "      <td>SOX2OT</td>\n",
       "      <td>27.2</td>\n",
       "      <td>29.4</td>\n",
       "      <td>27.8</td>\n",
       "      <td>27.2</td>\n",
       "      <td>27.2</td>\n",
       "      <td>29.8</td>\n",
       "      <td>28.9</td>\n",
       "      <td>28.9</td>\n",
       "      <td>27.6</td>\n",
       "      <td>...</td>\n",
       "      <td>31.8</td>\n",
       "      <td>35.0</td>\n",
       "      <td>39.9</td>\n",
       "      <td>34.9</td>\n",
       "      <td>35.4</td>\n",
       "      <td>26.9</td>\n",
       "      <td>25.3</td>\n",
       "      <td>31.6</td>\n",
       "      <td>29.8</td>\n",
       "      <td>30.1</td>\n",
       "    </tr>\n",
       "    <tr>\n",
       "      <th>75</th>\n",
       "      <td>TUG1</td>\n",
       "      <td>23.6</td>\n",
       "      <td>23.9</td>\n",
       "      <td>24.3</td>\n",
       "      <td>24.1</td>\n",
       "      <td>24.8</td>\n",
       "      <td>23.1</td>\n",
       "      <td>24.9</td>\n",
       "      <td>23.8</td>\n",
       "      <td>23.6</td>\n",
       "      <td>...</td>\n",
       "      <td>29.4</td>\n",
       "      <td>27.6</td>\n",
       "      <td>30.3</td>\n",
       "      <td>26.5</td>\n",
       "      <td>29.8</td>\n",
       "      <td>23.9</td>\n",
       "      <td>22.9</td>\n",
       "      <td>25.9</td>\n",
       "      <td>24.7</td>\n",
       "      <td>26.5</td>\n",
       "    </tr>\n",
       "  </tbody>\n",
       "</table>\n",
       "<p>8 rows × 26 columns</p>\n",
       "</div>"
      ],
      "text/plain": [
       "           ID_REF  SAMPLE 1  SAMPLE 2  SAMPLE 3  SAMPLE 4  SAMPLE 5  SAMPLE 6  \\\n",
       "23            EGO      25.7      25.7      26.5      25.8      26.7      24.9   \n",
       "24           GAS5      26.6      27.3      26.9      26.6      27.5      26.0   \n",
       "26            H19      26.6      26.3      25.6      25.9      25.9      25.9   \n",
       "30         HOTAIR      27.3      29.1      27.0      27.1      27.5      29.3   \n",
       "40  LINCRNA-VLDLR      26.8      27.4      26.6      26.9      28.0      27.8   \n",
       "63            ROR      27.7      29.2      27.2      27.5      27.7      29.3   \n",
       "66         SOX2OT      27.2      29.4      27.8      27.2      27.2      29.8   \n",
       "75           TUG1      23.6      23.9      24.3      24.1      24.8      23.1   \n",
       "\n",
       "    SAMPLE 7  SAMPLE 8  SAMPLE 9    ...      SAMPLE 16  SAMPLE 17  SAMPLE 18  \\\n",
       "23      25.3      25.3      26.0    ...           27.4       27.2       26.7   \n",
       "24      25.8      26.2      26.4    ...           28.3       29.0       29.7   \n",
       "26      29.7      24.4      29.0    ...           33.8       32.8       37.6   \n",
       "30      25.6      26.6      27.1    ...           28.6        NaN       31.6   \n",
       "40      25.8      27.1      26.9    ...           28.9       28.2       28.9   \n",
       "63      26.2      27.5      28.0    ...           29.0       29.8       30.0   \n",
       "66      28.9      28.9      27.6    ...           31.8       35.0       39.9   \n",
       "75      24.9      23.8      23.6    ...           29.4       27.6       30.3   \n",
       "\n",
       "    SAMPLE 19  SAMPLE 20  SAMPLE 21  SAMPLE 22  SAMPLE 23  SAMPLE 24  \\\n",
       "23       27.9       26.7       22.9       23.0       23.9       24.1   \n",
       "24       28.7       27.9       23.4       23.0       24.2       24.0   \n",
       "26       34.3       37.6       32.4       30.1       33.7       33.2   \n",
       "30       30.7       27.4       22.9       23.1       24.2       23.7   \n",
       "40       29.0       26.4       23.9       23.5       24.0       24.4   \n",
       "63       32.5       26.9       23.9       23.9       24.2       24.1   \n",
       "66       34.9       35.4       26.9       25.3       31.6       29.8   \n",
       "75       26.5       29.8       23.9       22.9       25.9       24.7   \n",
       "\n",
       "    SAMPLE 25  \n",
       "23       25.5  \n",
       "24       25.6  \n",
       "26       33.7  \n",
       "30       25.5  \n",
       "40       25.7  \n",
       "63       25.8  \n",
       "66       30.1  \n",
       "75       26.5  \n",
       "\n",
       "[8 rows x 26 columns]"
      ]
     },
     "execution_count": 102,
     "metadata": {},
     "output_type": "execute_result"
    }
   ],
   "source": [
    "df_interest = df[df['ID_REF'].isin(lnc_interest)]\n",
    "df_interest"
   ]
  },
  {
   "cell_type": "code",
   "execution_count": 103,
   "metadata": {},
   "outputs": [],
   "source": [
    "df_interest.index = ['EGO','GAS5','H19','HOTAIR','LINCRNA-VLDLR','ROR','SOX2OT','TUG1']"
   ]
  },
  {
   "cell_type": "code",
   "execution_count": 104,
   "metadata": {},
   "outputs": [
    {
     "data": {
      "text/plain": [
       "(26, 8)"
      ]
     },
     "execution_count": 104,
     "metadata": {},
     "output_type": "execute_result"
    }
   ],
   "source": [
    "df_interest= df_interest.transpose()\n",
    "df_interest.shape"
   ]
  },
  {
   "cell_type": "code",
   "execution_count": 105,
   "metadata": {},
   "outputs": [],
   "source": [
    "df_interest.drop(index=['ID_REF'],inplace=True)"
   ]
  },
  {
   "cell_type": "code",
   "execution_count": 106,
   "metadata": {},
   "outputs": [
    {
     "data": {
      "text/html": [
       "<div>\n",
       "<style scoped>\n",
       "    .dataframe tbody tr th:only-of-type {\n",
       "        vertical-align: middle;\n",
       "    }\n",
       "\n",
       "    .dataframe tbody tr th {\n",
       "        vertical-align: top;\n",
       "    }\n",
       "\n",
       "    .dataframe thead th {\n",
       "        text-align: right;\n",
       "    }\n",
       "</style>\n",
       "<table border=\"1\" class=\"dataframe\">\n",
       "  <thead>\n",
       "    <tr style=\"text-align: right;\">\n",
       "      <th></th>\n",
       "      <th>EGO</th>\n",
       "      <th>GAS5</th>\n",
       "      <th>H19</th>\n",
       "      <th>HOTAIR</th>\n",
       "      <th>LINCRNA-VLDLR</th>\n",
       "      <th>ROR</th>\n",
       "      <th>SOX2OT</th>\n",
       "      <th>TUG1</th>\n",
       "    </tr>\n",
       "  </thead>\n",
       "  <tbody>\n",
       "    <tr>\n",
       "      <th>SAMPLE 1</th>\n",
       "      <td>25.7</td>\n",
       "      <td>26.6</td>\n",
       "      <td>26.6</td>\n",
       "      <td>27.3</td>\n",
       "      <td>26.8</td>\n",
       "      <td>27.7</td>\n",
       "      <td>27.2</td>\n",
       "      <td>23.6</td>\n",
       "    </tr>\n",
       "    <tr>\n",
       "      <th>SAMPLE 2</th>\n",
       "      <td>25.7</td>\n",
       "      <td>27.3</td>\n",
       "      <td>26.3</td>\n",
       "      <td>29.1</td>\n",
       "      <td>27.4</td>\n",
       "      <td>29.2</td>\n",
       "      <td>29.4</td>\n",
       "      <td>23.9</td>\n",
       "    </tr>\n",
       "    <tr>\n",
       "      <th>SAMPLE 3</th>\n",
       "      <td>26.5</td>\n",
       "      <td>26.9</td>\n",
       "      <td>25.6</td>\n",
       "      <td>27</td>\n",
       "      <td>26.6</td>\n",
       "      <td>27.2</td>\n",
       "      <td>27.8</td>\n",
       "      <td>24.3</td>\n",
       "    </tr>\n",
       "    <tr>\n",
       "      <th>SAMPLE 4</th>\n",
       "      <td>25.8</td>\n",
       "      <td>26.6</td>\n",
       "      <td>25.9</td>\n",
       "      <td>27.1</td>\n",
       "      <td>26.9</td>\n",
       "      <td>27.5</td>\n",
       "      <td>27.2</td>\n",
       "      <td>24.1</td>\n",
       "    </tr>\n",
       "    <tr>\n",
       "      <th>SAMPLE 5</th>\n",
       "      <td>26.7</td>\n",
       "      <td>27.5</td>\n",
       "      <td>25.9</td>\n",
       "      <td>27.5</td>\n",
       "      <td>28</td>\n",
       "      <td>27.7</td>\n",
       "      <td>27.2</td>\n",
       "      <td>24.8</td>\n",
       "    </tr>\n",
       "    <tr>\n",
       "      <th>SAMPLE 6</th>\n",
       "      <td>24.9</td>\n",
       "      <td>26</td>\n",
       "      <td>25.9</td>\n",
       "      <td>29.3</td>\n",
       "      <td>27.8</td>\n",
       "      <td>29.3</td>\n",
       "      <td>29.8</td>\n",
       "      <td>23.1</td>\n",
       "    </tr>\n",
       "    <tr>\n",
       "      <th>SAMPLE 7</th>\n",
       "      <td>25.3</td>\n",
       "      <td>25.8</td>\n",
       "      <td>29.7</td>\n",
       "      <td>25.6</td>\n",
       "      <td>25.8</td>\n",
       "      <td>26.2</td>\n",
       "      <td>28.9</td>\n",
       "      <td>24.9</td>\n",
       "    </tr>\n",
       "    <tr>\n",
       "      <th>SAMPLE 8</th>\n",
       "      <td>25.3</td>\n",
       "      <td>26.2</td>\n",
       "      <td>24.4</td>\n",
       "      <td>26.6</td>\n",
       "      <td>27.1</td>\n",
       "      <td>27.5</td>\n",
       "      <td>28.9</td>\n",
       "      <td>23.8</td>\n",
       "    </tr>\n",
       "    <tr>\n",
       "      <th>SAMPLE 9</th>\n",
       "      <td>26</td>\n",
       "      <td>26.4</td>\n",
       "      <td>29</td>\n",
       "      <td>27.1</td>\n",
       "      <td>26.9</td>\n",
       "      <td>28</td>\n",
       "      <td>27.6</td>\n",
       "      <td>23.6</td>\n",
       "    </tr>\n",
       "    <tr>\n",
       "      <th>SAMPLE 10</th>\n",
       "      <td>26.3</td>\n",
       "      <td>27.2</td>\n",
       "      <td>27.7</td>\n",
       "      <td>27.6</td>\n",
       "      <td>28.3</td>\n",
       "      <td>28.7</td>\n",
       "      <td>29.2</td>\n",
       "      <td>24.3</td>\n",
       "    </tr>\n",
       "    <tr>\n",
       "      <th>SAMPLE 11</th>\n",
       "      <td>26.6</td>\n",
       "      <td>27.4</td>\n",
       "      <td>29.3</td>\n",
       "      <td>27.9</td>\n",
       "      <td>28.4</td>\n",
       "      <td>28.5</td>\n",
       "      <td>28.5</td>\n",
       "      <td>25.3</td>\n",
       "    </tr>\n",
       "    <tr>\n",
       "      <th>SAMPLE 12</th>\n",
       "      <td>26.2</td>\n",
       "      <td>27.2</td>\n",
       "      <td>29.9</td>\n",
       "      <td>27.7</td>\n",
       "      <td>27.5</td>\n",
       "      <td>28.5</td>\n",
       "      <td>29.7</td>\n",
       "      <td>24.7</td>\n",
       "    </tr>\n",
       "    <tr>\n",
       "      <th>SAMPLE 13</th>\n",
       "      <td>24.9</td>\n",
       "      <td>25.3</td>\n",
       "      <td>31.9</td>\n",
       "      <td>25.3</td>\n",
       "      <td>25.5</td>\n",
       "      <td>26.1</td>\n",
       "      <td>26.6</td>\n",
       "      <td>24.7</td>\n",
       "    </tr>\n",
       "    <tr>\n",
       "      <th>SAMPLE 14</th>\n",
       "      <td>26.7</td>\n",
       "      <td>27.4</td>\n",
       "      <td>32.3</td>\n",
       "      <td>30.8</td>\n",
       "      <td>28.8</td>\n",
       "      <td>30.1</td>\n",
       "      <td>33.4</td>\n",
       "      <td>25.7</td>\n",
       "    </tr>\n",
       "    <tr>\n",
       "      <th>SAMPLE 15</th>\n",
       "      <td>26.3</td>\n",
       "      <td>28.2</td>\n",
       "      <td>34.8</td>\n",
       "      <td>28</td>\n",
       "      <td>28.1</td>\n",
       "      <td>28.7</td>\n",
       "      <td>36.5</td>\n",
       "      <td>28.1</td>\n",
       "    </tr>\n",
       "    <tr>\n",
       "      <th>SAMPLE 16</th>\n",
       "      <td>27.4</td>\n",
       "      <td>28.3</td>\n",
       "      <td>33.8</td>\n",
       "      <td>28.6</td>\n",
       "      <td>28.9</td>\n",
       "      <td>29</td>\n",
       "      <td>31.8</td>\n",
       "      <td>29.4</td>\n",
       "    </tr>\n",
       "    <tr>\n",
       "      <th>SAMPLE 17</th>\n",
       "      <td>27.2</td>\n",
       "      <td>29</td>\n",
       "      <td>32.8</td>\n",
       "      <td>NaN</td>\n",
       "      <td>28.2</td>\n",
       "      <td>29.8</td>\n",
       "      <td>35</td>\n",
       "      <td>27.6</td>\n",
       "    </tr>\n",
       "    <tr>\n",
       "      <th>SAMPLE 18</th>\n",
       "      <td>26.7</td>\n",
       "      <td>29.7</td>\n",
       "      <td>37.6</td>\n",
       "      <td>31.6</td>\n",
       "      <td>28.9</td>\n",
       "      <td>30</td>\n",
       "      <td>39.9</td>\n",
       "      <td>30.3</td>\n",
       "    </tr>\n",
       "    <tr>\n",
       "      <th>SAMPLE 19</th>\n",
       "      <td>27.9</td>\n",
       "      <td>28.7</td>\n",
       "      <td>34.3</td>\n",
       "      <td>30.7</td>\n",
       "      <td>29</td>\n",
       "      <td>32.5</td>\n",
       "      <td>34.9</td>\n",
       "      <td>26.5</td>\n",
       "    </tr>\n",
       "    <tr>\n",
       "      <th>SAMPLE 20</th>\n",
       "      <td>26.7</td>\n",
       "      <td>27.9</td>\n",
       "      <td>37.6</td>\n",
       "      <td>27.4</td>\n",
       "      <td>26.4</td>\n",
       "      <td>26.9</td>\n",
       "      <td>35.4</td>\n",
       "      <td>29.8</td>\n",
       "    </tr>\n",
       "    <tr>\n",
       "      <th>SAMPLE 21</th>\n",
       "      <td>22.9</td>\n",
       "      <td>23.4</td>\n",
       "      <td>32.4</td>\n",
       "      <td>22.9</td>\n",
       "      <td>23.9</td>\n",
       "      <td>23.9</td>\n",
       "      <td>26.9</td>\n",
       "      <td>23.9</td>\n",
       "    </tr>\n",
       "    <tr>\n",
       "      <th>SAMPLE 22</th>\n",
       "      <td>23</td>\n",
       "      <td>23</td>\n",
       "      <td>30.1</td>\n",
       "      <td>23.1</td>\n",
       "      <td>23.5</td>\n",
       "      <td>23.9</td>\n",
       "      <td>25.3</td>\n",
       "      <td>22.9</td>\n",
       "    </tr>\n",
       "    <tr>\n",
       "      <th>SAMPLE 23</th>\n",
       "      <td>23.9</td>\n",
       "      <td>24.2</td>\n",
       "      <td>33.7</td>\n",
       "      <td>24.2</td>\n",
       "      <td>24</td>\n",
       "      <td>24.2</td>\n",
       "      <td>31.6</td>\n",
       "      <td>25.9</td>\n",
       "    </tr>\n",
       "    <tr>\n",
       "      <th>SAMPLE 24</th>\n",
       "      <td>24.1</td>\n",
       "      <td>24</td>\n",
       "      <td>33.2</td>\n",
       "      <td>23.7</td>\n",
       "      <td>24.4</td>\n",
       "      <td>24.1</td>\n",
       "      <td>29.8</td>\n",
       "      <td>24.7</td>\n",
       "    </tr>\n",
       "    <tr>\n",
       "      <th>SAMPLE 25</th>\n",
       "      <td>25.5</td>\n",
       "      <td>25.6</td>\n",
       "      <td>33.7</td>\n",
       "      <td>25.5</td>\n",
       "      <td>25.7</td>\n",
       "      <td>25.8</td>\n",
       "      <td>30.1</td>\n",
       "      <td>26.5</td>\n",
       "    </tr>\n",
       "  </tbody>\n",
       "</table>\n",
       "</div>"
      ],
      "text/plain": [
       "            EGO  GAS5   H19 HOTAIR LINCRNA-VLDLR   ROR SOX2OT  TUG1\n",
       "SAMPLE 1   25.7  26.6  26.6   27.3          26.8  27.7   27.2  23.6\n",
       "SAMPLE 2   25.7  27.3  26.3   29.1          27.4  29.2   29.4  23.9\n",
       "SAMPLE 3   26.5  26.9  25.6     27          26.6  27.2   27.8  24.3\n",
       "SAMPLE 4   25.8  26.6  25.9   27.1          26.9  27.5   27.2  24.1\n",
       "SAMPLE 5   26.7  27.5  25.9   27.5            28  27.7   27.2  24.8\n",
       "SAMPLE 6   24.9    26  25.9   29.3          27.8  29.3   29.8  23.1\n",
       "SAMPLE 7   25.3  25.8  29.7   25.6          25.8  26.2   28.9  24.9\n",
       "SAMPLE 8   25.3  26.2  24.4   26.6          27.1  27.5   28.9  23.8\n",
       "SAMPLE 9     26  26.4    29   27.1          26.9    28   27.6  23.6\n",
       "SAMPLE 10  26.3  27.2  27.7   27.6          28.3  28.7   29.2  24.3\n",
       "SAMPLE 11  26.6  27.4  29.3   27.9          28.4  28.5   28.5  25.3\n",
       "SAMPLE 12  26.2  27.2  29.9   27.7          27.5  28.5   29.7  24.7\n",
       "SAMPLE 13  24.9  25.3  31.9   25.3          25.5  26.1   26.6  24.7\n",
       "SAMPLE 14  26.7  27.4  32.3   30.8          28.8  30.1   33.4  25.7\n",
       "SAMPLE 15  26.3  28.2  34.8     28          28.1  28.7   36.5  28.1\n",
       "SAMPLE 16  27.4  28.3  33.8   28.6          28.9    29   31.8  29.4\n",
       "SAMPLE 17  27.2    29  32.8    NaN          28.2  29.8     35  27.6\n",
       "SAMPLE 18  26.7  29.7  37.6   31.6          28.9    30   39.9  30.3\n",
       "SAMPLE 19  27.9  28.7  34.3   30.7            29  32.5   34.9  26.5\n",
       "SAMPLE 20  26.7  27.9  37.6   27.4          26.4  26.9   35.4  29.8\n",
       "SAMPLE 21  22.9  23.4  32.4   22.9          23.9  23.9   26.9  23.9\n",
       "SAMPLE 22    23    23  30.1   23.1          23.5  23.9   25.3  22.9\n",
       "SAMPLE 23  23.9  24.2  33.7   24.2            24  24.2   31.6  25.9\n",
       "SAMPLE 24  24.1    24  33.2   23.7          24.4  24.1   29.8  24.7\n",
       "SAMPLE 25  25.5  25.6  33.7   25.5          25.7  25.8   30.1  26.5"
      ]
     },
     "execution_count": 106,
     "metadata": {},
     "output_type": "execute_result"
    }
   ],
   "source": [
    "df_interest"
   ]
  },
  {
   "cell_type": "code",
   "execution_count": 107,
   "metadata": {},
   "outputs": [
    {
     "data": {
      "text/plain": [
       "[1, 1, 1, 1, 1, 1, 1, 1, 1, 1, 1, 1, 1, 0, 0, 0, 0, 0, 0, 0, 0, 0, 0, 0, 0]"
      ]
     },
     "execution_count": 107,
     "metadata": {},
     "output_type": "execute_result"
    }
   ],
   "source": [
    "target = [1]*13 + [0]*12\n",
    "target"
   ]
  },
  {
   "cell_type": "code",
   "execution_count": 108,
   "metadata": {},
   "outputs": [
    {
     "data": {
      "text/html": [
       "<div>\n",
       "<style scoped>\n",
       "    .dataframe tbody tr th:only-of-type {\n",
       "        vertical-align: middle;\n",
       "    }\n",
       "\n",
       "    .dataframe tbody tr th {\n",
       "        vertical-align: top;\n",
       "    }\n",
       "\n",
       "    .dataframe thead th {\n",
       "        text-align: right;\n",
       "    }\n",
       "</style>\n",
       "<table border=\"1\" class=\"dataframe\">\n",
       "  <thead>\n",
       "    <tr style=\"text-align: right;\">\n",
       "      <th></th>\n",
       "      <th>EGO</th>\n",
       "      <th>GAS5</th>\n",
       "      <th>H19</th>\n",
       "      <th>HOTAIR</th>\n",
       "      <th>LINCRNA-VLDLR</th>\n",
       "      <th>ROR</th>\n",
       "      <th>SOX2OT</th>\n",
       "      <th>TUG1</th>\n",
       "      <th>Target</th>\n",
       "    </tr>\n",
       "  </thead>\n",
       "  <tbody>\n",
       "    <tr>\n",
       "      <th>SAMPLE 1</th>\n",
       "      <td>25.7</td>\n",
       "      <td>26.6</td>\n",
       "      <td>26.6</td>\n",
       "      <td>27.30</td>\n",
       "      <td>26.8</td>\n",
       "      <td>27.7</td>\n",
       "      <td>27.2</td>\n",
       "      <td>23.6</td>\n",
       "      <td>1</td>\n",
       "    </tr>\n",
       "    <tr>\n",
       "      <th>SAMPLE 2</th>\n",
       "      <td>25.7</td>\n",
       "      <td>27.3</td>\n",
       "      <td>26.3</td>\n",
       "      <td>29.10</td>\n",
       "      <td>27.4</td>\n",
       "      <td>29.2</td>\n",
       "      <td>29.4</td>\n",
       "      <td>23.9</td>\n",
       "      <td>1</td>\n",
       "    </tr>\n",
       "    <tr>\n",
       "      <th>SAMPLE 3</th>\n",
       "      <td>26.5</td>\n",
       "      <td>26.9</td>\n",
       "      <td>25.6</td>\n",
       "      <td>27.00</td>\n",
       "      <td>26.6</td>\n",
       "      <td>27.2</td>\n",
       "      <td>27.8</td>\n",
       "      <td>24.3</td>\n",
       "      <td>1</td>\n",
       "    </tr>\n",
       "    <tr>\n",
       "      <th>SAMPLE 4</th>\n",
       "      <td>25.8</td>\n",
       "      <td>26.6</td>\n",
       "      <td>25.9</td>\n",
       "      <td>27.10</td>\n",
       "      <td>26.9</td>\n",
       "      <td>27.5</td>\n",
       "      <td>27.2</td>\n",
       "      <td>24.1</td>\n",
       "      <td>1</td>\n",
       "    </tr>\n",
       "    <tr>\n",
       "      <th>SAMPLE 5</th>\n",
       "      <td>26.7</td>\n",
       "      <td>27.5</td>\n",
       "      <td>25.9</td>\n",
       "      <td>27.50</td>\n",
       "      <td>28</td>\n",
       "      <td>27.7</td>\n",
       "      <td>27.2</td>\n",
       "      <td>24.8</td>\n",
       "      <td>1</td>\n",
       "    </tr>\n",
       "    <tr>\n",
       "      <th>SAMPLE 6</th>\n",
       "      <td>24.9</td>\n",
       "      <td>26</td>\n",
       "      <td>25.9</td>\n",
       "      <td>29.30</td>\n",
       "      <td>27.8</td>\n",
       "      <td>29.3</td>\n",
       "      <td>29.8</td>\n",
       "      <td>23.1</td>\n",
       "      <td>1</td>\n",
       "    </tr>\n",
       "    <tr>\n",
       "      <th>SAMPLE 7</th>\n",
       "      <td>25.3</td>\n",
       "      <td>25.8</td>\n",
       "      <td>29.7</td>\n",
       "      <td>25.60</td>\n",
       "      <td>25.8</td>\n",
       "      <td>26.2</td>\n",
       "      <td>28.9</td>\n",
       "      <td>24.9</td>\n",
       "      <td>1</td>\n",
       "    </tr>\n",
       "    <tr>\n",
       "      <th>SAMPLE 8</th>\n",
       "      <td>25.3</td>\n",
       "      <td>26.2</td>\n",
       "      <td>24.4</td>\n",
       "      <td>26.60</td>\n",
       "      <td>27.1</td>\n",
       "      <td>27.5</td>\n",
       "      <td>28.9</td>\n",
       "      <td>23.8</td>\n",
       "      <td>1</td>\n",
       "    </tr>\n",
       "    <tr>\n",
       "      <th>SAMPLE 9</th>\n",
       "      <td>26</td>\n",
       "      <td>26.4</td>\n",
       "      <td>29</td>\n",
       "      <td>27.10</td>\n",
       "      <td>26.9</td>\n",
       "      <td>28</td>\n",
       "      <td>27.6</td>\n",
       "      <td>23.6</td>\n",
       "      <td>1</td>\n",
       "    </tr>\n",
       "    <tr>\n",
       "      <th>SAMPLE 10</th>\n",
       "      <td>26.3</td>\n",
       "      <td>27.2</td>\n",
       "      <td>27.7</td>\n",
       "      <td>27.60</td>\n",
       "      <td>28.3</td>\n",
       "      <td>28.7</td>\n",
       "      <td>29.2</td>\n",
       "      <td>24.3</td>\n",
       "      <td>1</td>\n",
       "    </tr>\n",
       "    <tr>\n",
       "      <th>SAMPLE 11</th>\n",
       "      <td>26.6</td>\n",
       "      <td>27.4</td>\n",
       "      <td>29.3</td>\n",
       "      <td>27.90</td>\n",
       "      <td>28.4</td>\n",
       "      <td>28.5</td>\n",
       "      <td>28.5</td>\n",
       "      <td>25.3</td>\n",
       "      <td>1</td>\n",
       "    </tr>\n",
       "    <tr>\n",
       "      <th>SAMPLE 12</th>\n",
       "      <td>26.2</td>\n",
       "      <td>27.2</td>\n",
       "      <td>29.9</td>\n",
       "      <td>27.70</td>\n",
       "      <td>27.5</td>\n",
       "      <td>28.5</td>\n",
       "      <td>29.7</td>\n",
       "      <td>24.7</td>\n",
       "      <td>1</td>\n",
       "    </tr>\n",
       "    <tr>\n",
       "      <th>SAMPLE 13</th>\n",
       "      <td>24.9</td>\n",
       "      <td>25.3</td>\n",
       "      <td>31.9</td>\n",
       "      <td>25.30</td>\n",
       "      <td>25.5</td>\n",
       "      <td>26.1</td>\n",
       "      <td>26.6</td>\n",
       "      <td>24.7</td>\n",
       "      <td>1</td>\n",
       "    </tr>\n",
       "    <tr>\n",
       "      <th>SAMPLE 14</th>\n",
       "      <td>26.7</td>\n",
       "      <td>27.4</td>\n",
       "      <td>32.3</td>\n",
       "      <td>30.80</td>\n",
       "      <td>28.8</td>\n",
       "      <td>30.1</td>\n",
       "      <td>33.4</td>\n",
       "      <td>25.7</td>\n",
       "      <td>0</td>\n",
       "    </tr>\n",
       "    <tr>\n",
       "      <th>SAMPLE 15</th>\n",
       "      <td>26.3</td>\n",
       "      <td>28.2</td>\n",
       "      <td>34.8</td>\n",
       "      <td>28.00</td>\n",
       "      <td>28.1</td>\n",
       "      <td>28.7</td>\n",
       "      <td>36.5</td>\n",
       "      <td>28.1</td>\n",
       "      <td>0</td>\n",
       "    </tr>\n",
       "    <tr>\n",
       "      <th>SAMPLE 16</th>\n",
       "      <td>27.4</td>\n",
       "      <td>28.3</td>\n",
       "      <td>33.8</td>\n",
       "      <td>28.60</td>\n",
       "      <td>28.9</td>\n",
       "      <td>29</td>\n",
       "      <td>31.8</td>\n",
       "      <td>29.4</td>\n",
       "      <td>0</td>\n",
       "    </tr>\n",
       "    <tr>\n",
       "      <th>SAMPLE 17</th>\n",
       "      <td>27.2</td>\n",
       "      <td>29</td>\n",
       "      <td>32.8</td>\n",
       "      <td>27.15</td>\n",
       "      <td>28.2</td>\n",
       "      <td>29.8</td>\n",
       "      <td>35</td>\n",
       "      <td>27.6</td>\n",
       "      <td>0</td>\n",
       "    </tr>\n",
       "    <tr>\n",
       "      <th>SAMPLE 18</th>\n",
       "      <td>26.7</td>\n",
       "      <td>29.7</td>\n",
       "      <td>37.6</td>\n",
       "      <td>31.60</td>\n",
       "      <td>28.9</td>\n",
       "      <td>30</td>\n",
       "      <td>39.9</td>\n",
       "      <td>30.3</td>\n",
       "      <td>0</td>\n",
       "    </tr>\n",
       "    <tr>\n",
       "      <th>SAMPLE 19</th>\n",
       "      <td>27.9</td>\n",
       "      <td>28.7</td>\n",
       "      <td>34.3</td>\n",
       "      <td>30.70</td>\n",
       "      <td>29</td>\n",
       "      <td>32.5</td>\n",
       "      <td>34.9</td>\n",
       "      <td>26.5</td>\n",
       "      <td>0</td>\n",
       "    </tr>\n",
       "    <tr>\n",
       "      <th>SAMPLE 20</th>\n",
       "      <td>26.7</td>\n",
       "      <td>27.9</td>\n",
       "      <td>37.6</td>\n",
       "      <td>27.40</td>\n",
       "      <td>26.4</td>\n",
       "      <td>26.9</td>\n",
       "      <td>35.4</td>\n",
       "      <td>29.8</td>\n",
       "      <td>0</td>\n",
       "    </tr>\n",
       "    <tr>\n",
       "      <th>SAMPLE 21</th>\n",
       "      <td>22.9</td>\n",
       "      <td>23.4</td>\n",
       "      <td>32.4</td>\n",
       "      <td>22.90</td>\n",
       "      <td>23.9</td>\n",
       "      <td>23.9</td>\n",
       "      <td>26.9</td>\n",
       "      <td>23.9</td>\n",
       "      <td>0</td>\n",
       "    </tr>\n",
       "    <tr>\n",
       "      <th>SAMPLE 22</th>\n",
       "      <td>23</td>\n",
       "      <td>23</td>\n",
       "      <td>30.1</td>\n",
       "      <td>23.10</td>\n",
       "      <td>23.5</td>\n",
       "      <td>23.9</td>\n",
       "      <td>25.3</td>\n",
       "      <td>22.9</td>\n",
       "      <td>0</td>\n",
       "    </tr>\n",
       "    <tr>\n",
       "      <th>SAMPLE 23</th>\n",
       "      <td>23.9</td>\n",
       "      <td>24.2</td>\n",
       "      <td>33.7</td>\n",
       "      <td>24.20</td>\n",
       "      <td>24</td>\n",
       "      <td>24.2</td>\n",
       "      <td>31.6</td>\n",
       "      <td>25.9</td>\n",
       "      <td>0</td>\n",
       "    </tr>\n",
       "    <tr>\n",
       "      <th>SAMPLE 24</th>\n",
       "      <td>24.1</td>\n",
       "      <td>24</td>\n",
       "      <td>33.2</td>\n",
       "      <td>23.70</td>\n",
       "      <td>24.4</td>\n",
       "      <td>24.1</td>\n",
       "      <td>29.8</td>\n",
       "      <td>24.7</td>\n",
       "      <td>0</td>\n",
       "    </tr>\n",
       "    <tr>\n",
       "      <th>SAMPLE 25</th>\n",
       "      <td>25.5</td>\n",
       "      <td>25.6</td>\n",
       "      <td>33.7</td>\n",
       "      <td>25.50</td>\n",
       "      <td>25.7</td>\n",
       "      <td>25.8</td>\n",
       "      <td>30.1</td>\n",
       "      <td>26.5</td>\n",
       "      <td>0</td>\n",
       "    </tr>\n",
       "  </tbody>\n",
       "</table>\n",
       "</div>"
      ],
      "text/plain": [
       "            EGO  GAS5   H19  HOTAIR LINCRNA-VLDLR   ROR SOX2OT  TUG1  Target\n",
       "SAMPLE 1   25.7  26.6  26.6   27.30          26.8  27.7   27.2  23.6       1\n",
       "SAMPLE 2   25.7  27.3  26.3   29.10          27.4  29.2   29.4  23.9       1\n",
       "SAMPLE 3   26.5  26.9  25.6   27.00          26.6  27.2   27.8  24.3       1\n",
       "SAMPLE 4   25.8  26.6  25.9   27.10          26.9  27.5   27.2  24.1       1\n",
       "SAMPLE 5   26.7  27.5  25.9   27.50            28  27.7   27.2  24.8       1\n",
       "SAMPLE 6   24.9    26  25.9   29.30          27.8  29.3   29.8  23.1       1\n",
       "SAMPLE 7   25.3  25.8  29.7   25.60          25.8  26.2   28.9  24.9       1\n",
       "SAMPLE 8   25.3  26.2  24.4   26.60          27.1  27.5   28.9  23.8       1\n",
       "SAMPLE 9     26  26.4    29   27.10          26.9    28   27.6  23.6       1\n",
       "SAMPLE 10  26.3  27.2  27.7   27.60          28.3  28.7   29.2  24.3       1\n",
       "SAMPLE 11  26.6  27.4  29.3   27.90          28.4  28.5   28.5  25.3       1\n",
       "SAMPLE 12  26.2  27.2  29.9   27.70          27.5  28.5   29.7  24.7       1\n",
       "SAMPLE 13  24.9  25.3  31.9   25.30          25.5  26.1   26.6  24.7       1\n",
       "SAMPLE 14  26.7  27.4  32.3   30.80          28.8  30.1   33.4  25.7       0\n",
       "SAMPLE 15  26.3  28.2  34.8   28.00          28.1  28.7   36.5  28.1       0\n",
       "SAMPLE 16  27.4  28.3  33.8   28.60          28.9    29   31.8  29.4       0\n",
       "SAMPLE 17  27.2    29  32.8   27.15          28.2  29.8     35  27.6       0\n",
       "SAMPLE 18  26.7  29.7  37.6   31.60          28.9    30   39.9  30.3       0\n",
       "SAMPLE 19  27.9  28.7  34.3   30.70            29  32.5   34.9  26.5       0\n",
       "SAMPLE 20  26.7  27.9  37.6   27.40          26.4  26.9   35.4  29.8       0\n",
       "SAMPLE 21  22.9  23.4  32.4   22.90          23.9  23.9   26.9  23.9       0\n",
       "SAMPLE 22    23    23  30.1   23.10          23.5  23.9   25.3  22.9       0\n",
       "SAMPLE 23  23.9  24.2  33.7   24.20            24  24.2   31.6  25.9       0\n",
       "SAMPLE 24  24.1    24  33.2   23.70          24.4  24.1   29.8  24.7       0\n",
       "SAMPLE 25  25.5  25.6  33.7   25.50          25.7  25.8   30.1  26.5       0"
      ]
     },
     "execution_count": 108,
     "metadata": {},
     "output_type": "execute_result"
    }
   ],
   "source": [
    "df_interest['Target'] = target\n",
    "df_interest['HOTAIR'] = df_interest['HOTAIR'].fillna((df_interest['HOTAIR'].mean()))\n",
    "df_interest"
   ]
  },
  {
   "cell_type": "code",
   "execution_count": 109,
   "metadata": {},
   "outputs": [
    {
     "data": {
      "text/plain": [
       "(25, 8)"
      ]
     },
     "execution_count": 109,
     "metadata": {},
     "output_type": "execute_result"
    }
   ],
   "source": [
    "X_df = df_interest.copy()\n",
    "X = X_df.drop(columns=['Target'])\n",
    "X = X.values\n",
    "X.shape"
   ]
  },
  {
   "cell_type": "code",
   "execution_count": 114,
   "metadata": {},
   "outputs": [],
   "source": [
    "from sklearn.preprocessing import normalize\n",
    "X = normalize(X, norm='l2',axis=1, copy=True, return_norm=False)"
   ]
  },
  {
   "cell_type": "code",
   "execution_count": 50,
   "metadata": {},
   "outputs": [],
   "source": [
    "from sklearn.cluster import AgglomerativeClustering\n"
   ]
  },
  {
   "cell_type": "code",
   "execution_count": 115,
   "metadata": {},
   "outputs": [
    {
     "data": {
      "text/plain": [
       "[1, 1, 1, 1, 1, 1, 0, 1, 1, 1, 1, 1, 0, 0, 0, 0, 0, 0, 0, 0, 0, 0, 0, 0, 0]"
      ]
     },
     "execution_count": 115,
     "metadata": {},
     "output_type": "execute_result"
    }
   ],
   "source": [
    "clustering = AgglomerativeClustering(n_clusters=2).fit(X)\n",
    "labels = clustering.labels_.tolist()\n",
    "labels"
   ]
  },
  {
   "cell_type": "code",
   "execution_count": 116,
   "metadata": {},
   "outputs": [],
   "source": [
    "#predicted = [1]*13 + [0]*7 + [1]*5\n",
    "predicted = labels[:]"
   ]
  },
  {
   "cell_type": "code",
   "execution_count": 117,
   "metadata": {},
   "outputs": [
    {
     "name": "stdout",
     "output_type": "stream",
     "text": [
      "AUC= 0.9230769230769231 ACCURACY= 0.92\n"
     ]
    }
   ],
   "source": [
    "from sklearn.metrics import roc_curve,roc_auc_score,accuracy_score\n",
    "fpr,tpr,_= roc_curve(target,predicted)\n",
    "auc = roc_auc_score(target,predicted)\n",
    "acc = accuracy_score(target,predicted)\n",
    "print (\"AUC=\",auc, \"ACCURACY=\",acc)"
   ]
  },
  {
   "cell_type": "code",
   "execution_count": 96,
   "metadata": {},
   "outputs": [],
   "source": [
    "from matplotlib import pyplot as plt\n",
    "%matplotlib inline"
   ]
  },
  {
   "cell_type": "code",
   "execution_count": 118,
   "metadata": {},
   "outputs": [
    {
     "data": {
      "text/plain": [
       "<matplotlib.legend.Legend at 0x7f5eaeea6fd0>"
      ]
     },
     "execution_count": 118,
     "metadata": {},
     "output_type": "execute_result"
    },
    {
     "data": {
      "image/png": "[encoded data removed]",
      "text/plain": [
       "<Figure size 432x288 with 1 Axes>"
      ]
     },
     "metadata": {},
     "output_type": "display_data"
    }
   ],
   "source": [
    "plt.plot(fpr,tpr,label='AUC '+str(round(auc,3)))\n",
    "plt.plot([0,1],[0,1])\n",
    "plt.xlabel('FPR')\n",
    "plt.ylabel('TPR')\n",
    "plt.legend()"
   ]
  },
  {
   "cell_type": "code",
   "execution_count": 174,
   "metadata": {},
   "outputs": [
    {
     "data": {
      "text/plain": [
       "[1, 1, 1, 1, 1, 1, 0, 1, 1, 1, 1, 1, 0, 0, 0, 0, 0, 0, 0, 0, 0, 0, 0, 0, 0]"
      ]
     },
     "execution_count": 174,
     "metadata": {},
     "output_type": "execute_result"
    }
   ],
   "source": [
    "#Exp-1\n",
    "lnc_interest =['EGO','GAS5','H19','HOTAIR','LINCRNA-VLDLR','ROR','SOX2OT','TUG1']\n",
    "df_interest = df[df['ID_REF'].isin(lnc_interest)]\n",
    "df_interest.index = ['EGO','GAS5','H19','HOTAIR','LINCRNA-VLDLR','ROR','SOX2OT','TUG1']\n",
    "df_interest= df_interest.transpose()\n",
    "df_interest.drop(index=['ID_REF'],inplace=True)\n",
    "target = [1]*13 + [0]*12\n",
    "\n",
    "df_interest['HOTAIR'] = df_interest['HOTAIR'].fillna((df_interest['HOTAIR'].mean()))\n",
    "X = df_interest.values\n",
    "X = normalize(X, norm='l2',axis=1, copy=True, return_norm=False)\n",
    "\n",
    "clustering = AgglomerativeClustering(n_clusters=2).fit(X)\n",
    "labels = clustering.labels_.tolist()\n",
    "labels"
   ]
  },
  {
   "cell_type": "code",
   "execution_count": 175,
   "metadata": {},
   "outputs": [
    {
     "name": "stdout",
     "output_type": "stream",
     "text": [
      "Exp1-AUC= 0.9230769230769231 ACCURACY= 0.92\n"
     ]
    }
   ],
   "source": [
    "predicted = [1, 1, 1, 1, 1, 1, 0, 1, 1, 1, 1, 1, 0, 0, 0, 0, 0, 0, 0, 0, 0, 0, 0, 0, 0]\n",
    "fpr,tpr,_= roc_curve(target,predicted)\n",
    "auc = roc_auc_score(target,predicted)\n",
    "acc = accuracy_score(target,predicted)\n",
    "fpr_list.append(fpr)\n",
    "tpr_list.append(tpr)\n",
    "aucs.append(auc)\n",
    "accs.append(acc)\n",
    "exps.append(lnc_interest)\n",
    "print (\"Exp1-AUC=\",auc, \"ACCURACY=\",acc)"
   ]
  },
  {
   "cell_type": "code",
   "execution_count": 162,
   "metadata": {},
   "outputs": [
    {
     "name": "stdout",
     "output_type": "stream",
     "text": [
      "[0.         0.16666667 1.        ] [0.         0.84615385 1.        ]\n"
     ]
    }
   ],
   "source": [
    "print(fpr,tpr)"
   ]
  },
  {
   "cell_type": "code",
   "execution_count": 176,
   "metadata": {},
   "outputs": [
    {
     "data": {
      "text/plain": [
       "[0, 0, 0, 0, 0, 0, 0, 0, 0, 0, 0, 0, 0, 0, 1, 0, 0, 1, 0, 1, 1, 0, 1, 1, 1]"
      ]
     },
     "execution_count": 176,
     "metadata": {},
     "output_type": "execute_result"
    }
   ],
   "source": [
    "#Exp-2\n",
    "lnc_interest =['EGO','GAS5','H19','HOTAIR','ROR','SOX2OT','TUG1']\n",
    "df_interest = df[df['ID_REF'].isin(lnc_interest)]\n",
    "df_interest.index = lnc_interest\n",
    "df_interest= df_interest.transpose()\n",
    "df_interest.drop(index=['ID_REF'],inplace=True)\n",
    "target = [1]*13 + [0]*12\n",
    "\n",
    "df_interest['HOTAIR'] = df_interest['HOTAIR'].fillna((df_interest['HOTAIR'].mean()))\n",
    "X = df_interest.values\n",
    "X = normalize(X, norm='l2',axis=1, copy=True, return_norm=False)\n",
    "\n",
    "clustering = AgglomerativeClustering(n_clusters=2).fit(X)\n",
    "labels = clustering.labels_.tolist()\n",
    "labels"
   ]
  },
  {
   "cell_type": "code",
   "execution_count": 137,
   "metadata": {},
   "outputs": [
    {
     "data": {
      "text/plain": [
       "[1, 1, 1, 1, 1, 1, 1, 1, 1, 1, 1, 1, 1, 1, 0, 1, 1, 0, 1, 0, 0, 1, 0, 0, 0]"
      ]
     },
     "execution_count": 137,
     "metadata": {},
     "output_type": "execute_result"
    }
   ],
   "source": [
    "predicted = [int(i==0) for i in labels]\n",
    "predicted"
   ]
  },
  {
   "cell_type": "code",
   "execution_count": 177,
   "metadata": {},
   "outputs": [
    {
     "name": "stdout",
     "output_type": "stream",
     "text": [
      "Exp2-AUC= 0.7916666666666666 ACCURACY= 0.8\n",
      "[0.         0.41666667 1.        ] [0. 1. 1.]\n"
     ]
    }
   ],
   "source": [
    "predicted = [int(i==0) for i in labels]\n",
    "fpr,tpr,_= roc_curve(target,predicted)\n",
    "auc = roc_auc_score(target,predicted)\n",
    "acc = accuracy_score(target,predicted)\n",
    "\n",
    "fpr_list.append(fpr)\n",
    "tpr_list.append(tpr)\n",
    "aucs.append(auc)\n",
    "accs.append(acc)\n",
    "exps.append(lnc_interest)\n",
    "\n",
    "print (\"Exp2-AUC=\",auc, \"ACCURACY=\",acc)\n",
    "print (fpr,tpr)"
   ]
  },
  {
   "cell_type": "code",
   "execution_count": 178,
   "metadata": {},
   "outputs": [
    {
     "data": {
      "text/plain": [
       "[0, 0, 0, 0, 0, 0, 1, 0, 0, 0, 0, 0, 1, 0, 1, 1, 1, 1, 0, 1, 1, 1, 1, 1, 1]"
      ]
     },
     "execution_count": 178,
     "metadata": {},
     "output_type": "execute_result"
    }
   ],
   "source": [
    "#Exp-3\n",
    "lnc_interest =['GAS5','H19','HOTAIR','ROR','TUG1']\n",
    "df_interest = df[df['ID_REF'].isin(lnc_interest)]\n",
    "df_interest.index = lnc_interest\n",
    "df_interest= df_interest.transpose()\n",
    "df_interest.drop(index=['ID_REF'],inplace=True)\n",
    "target = [1]*13 + [0]*12\n",
    "\n",
    "df_interest['HOTAIR'] = df_interest['HOTAIR'].fillna((df_interest['HOTAIR'].mean()))\n",
    "X = df_interest.values\n",
    "X = normalize(X, norm='l2',axis=1, copy=True, return_norm=False)\n",
    "\n",
    "clustering = AgglomerativeClustering(n_clusters=2).fit(X)\n",
    "labels = clustering.labels_.tolist()\n",
    "labels"
   ]
  },
  {
   "cell_type": "code",
   "execution_count": 179,
   "metadata": {},
   "outputs": [
    {
     "name": "stdout",
     "output_type": "stream",
     "text": [
      "Exp3-AUC= 0.8397435897435898 ACCURACY= 0.84\n"
     ]
    }
   ],
   "source": [
    "predicted = [int(i==0) for i in labels]\n",
    "fpr,tpr,_= roc_curve(target,predicted)\n",
    "auc = roc_auc_score(target,predicted)\n",
    "acc = accuracy_score(target,predicted)\n",
    "\n",
    "fpr_list.append(fpr)\n",
    "tpr_list.append(tpr)\n",
    "aucs.append(auc)\n",
    "accs.append(acc)\n",
    "exps.append(lnc_interest)\n",
    "\n",
    "print (\"Exp3-AUC=\",auc, \"ACCURACY=\",acc)"
   ]
  },
  {
   "cell_type": "code",
   "execution_count": 180,
   "metadata": {},
   "outputs": [
    {
     "data": {
      "text/plain": [
       "[0, 0, 0, 0, 0, 0, 1, 0, 0, 0, 0, 0, 1, 0, 1, 1, 1, 1, 0, 1, 1, 1, 1, 1, 1]"
      ]
     },
     "execution_count": 180,
     "metadata": {},
     "output_type": "execute_result"
    }
   ],
   "source": [
    "#Exp-4\n",
    "lnc_interest =['GAS5','H19','HOTAIR','LINCRNA-VLDLR','ROR','TUG1']\n",
    "df_interest = df[df['ID_REF'].isin(lnc_interest)]\n",
    "df_interest.index = lnc_interest\n",
    "df_interest= df_interest.transpose()\n",
    "df_interest.drop(index=['ID_REF'],inplace=True)\n",
    "target = [1]*13 + [0]*12\n",
    "\n",
    "df_interest['HOTAIR'] = df_interest['HOTAIR'].fillna((df_interest['HOTAIR'].mean()))\n",
    "X = df_interest.values\n",
    "X = normalize(X, norm='l2',axis=1, copy=True, return_norm=False)\n",
    "\n",
    "clustering = AgglomerativeClustering(n_clusters=2).fit(X)\n",
    "labels = clustering.labels_.tolist()\n",
    "labels"
   ]
  },
  {
   "cell_type": "code",
   "execution_count": 181,
   "metadata": {},
   "outputs": [
    {
     "name": "stdout",
     "output_type": "stream",
     "text": [
      "Exp4-AUC= 0.8397435897435898 ACCURACY= 0.84\n"
     ]
    }
   ],
   "source": [
    "predicted = [int(i==0) for i in labels]\n",
    "fpr,tpr,_= roc_curve(target,predicted)\n",
    "auc = roc_auc_score(target,predicted)\n",
    "acc = accuracy_score(target,predicted)\n",
    "\n",
    "fpr_list.append(fpr)\n",
    "tpr_list.append(tpr)\n",
    "aucs.append(auc)\n",
    "accs.append(acc)\n",
    "exps.append(lnc_interest)\n",
    "\n",
    "print (\"Exp4-AUC=\",auc, \"ACCURACY=\",acc)"
   ]
  },
  {
   "cell_type": "code",
   "execution_count": 182,
   "metadata": {},
   "outputs": [
    {
     "data": {
      "text/plain": [
       "4"
      ]
     },
     "execution_count": 182,
     "metadata": {},
     "output_type": "execute_result"
    }
   ],
   "source": [
    "len(fpr_list)"
   ]
  },
  {
   "cell_type": "code",
   "execution_count": 184,
   "metadata": {},
   "outputs": [
    {
     "data": {
      "image/png": "[encoded data removed]",
      "text/plain": [
       "<Figure size 432x288 with 1 Axes>"
      ]
     },
     "metadata": {},
     "output_type": "display_data"
    }
   ],
   "source": [
    "shapes=['-','-','-.','-o']\n",
    "for i in range(len(exps[:])):\n",
    "    plt.plot(fpr_list[i],tpr_list[i],shapes[i],label='Exp-'+str(i+1)+' AUC( '+str(round(aucs[i],3))+')')\n",
    "#plt.plot(0.5,0.5)\n",
    "plt.xlabel('FPR')\n",
    "plt.ylabel('TPR')\n",
    "plt.legend()\n",
    "plt.show()"
   ]
  },
  {
   "cell_type": "code",
   "execution_count": 159,
   "metadata": {},
   "outputs": [
    {
     "data": {
      "text/plain": [
       "(array([0.        , 0.84615385, 1.        ]),\n",
       " array([0.        , 0.84615385, 1.        ]))"
      ]
     },
     "execution_count": 159,
     "metadata": {},
     "output_type": "execute_result"
    }
   ],
   "source": [
    "tpr_list[0],tpr_list[1]"
   ]
  },
  {
   "cell_type": "code",
   "execution_count": 185,
   "metadata": {},
   "outputs": [
    {
     "data": {
      "text/plain": [
       "[['EGO', 'GAS5', 'H19', 'HOTAIR', 'LINCRNA-VLDLR', 'ROR', 'SOX2OT', 'TUG1'],\n",
       " ['EGO', 'GAS5', 'H19', 'HOTAIR', 'ROR', 'SOX2OT', 'TUG1'],\n",
       " ['GAS5', 'H19', 'HOTAIR', 'ROR', 'TUG1'],\n",
       " ['GAS5', 'H19', 'HOTAIR', 'LINCRNA-VLDLR', 'ROR', 'TUG1']]"
      ]
     },
     "execution_count": 185,
     "metadata": {},
     "output_type": "execute_result"
    }
   ],
   "source": [
    "exps"
   ]
  },
  {
   "cell_type": "code",
   "execution_count": null,
   "metadata": {},
   "outputs": [],
   "source": []
  }
 ],
 "metadata": {
  "kernelspec": {
   "display_name": "Python 3",
   "language": "python",
   "name": "python3"
  },
  "language_info": {
   "codemirror_mode": {
    "name": "ipython",
    "version": 3
   },
   "file_extension": ".py",
   "mimetype": "text/x-python",
   "name": "python",
   "nbconvert_exporter": "python",
   "pygments_lexer": "ipython3",
   "version": "3.6.8"
  }
 },
 "nbformat": 4,
 "nbformat_minor": 2
}
